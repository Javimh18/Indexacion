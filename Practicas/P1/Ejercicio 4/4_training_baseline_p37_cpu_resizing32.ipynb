{
  "nbformat": 4,
  "nbformat_minor": 0,
  "metadata": {
    "colab": {
      "provenance": [],
      "collapsed_sections": []
    },
    "kernelspec": {
      "name": "python3",
      "display_name": "Python 3"
    },
    "accelerator": "GPU",
    "language_info": {
      "name": "python"
    }
  },
  "cells": [
    {
      "cell_type": "markdown",
      "metadata": {
        "id": "MbrPXkSGlcmB"
      },
      "source": [
        "#Máster en Big Data y Data Science: Ciencia e Ingeniería de Datos\n",
        "### ASIGNATURA: Indexación, búsqueda y análisis en repositorios multimedia\n",
        "### PARTE: Multimedia (imagen, video)\n",
        "### Práctica 1: Introducción al diseño de redes neuronales convolucionales con Pytorch mediante Google Colaboratory\n",
        "\n",
        "---\n",
        "\n",
        "Autor: Juan C. SanMiguel (juancarlos.sanmiguel@uam.es), Universidad Autónoma de Madrid\n",
        "\n",
        "Fecha: Febrero 2018"
      ]
    },
    {
      "cell_type": "markdown",
      "metadata": {
        "id": "H7_EXhmb8zwb"
      },
      "source": [
        "# 4. Entrenamiento de una red con CPU (training)"
      ]
    },
    {
      "cell_type": "markdown",
      "metadata": {
        "id": "TH6WlZfx_L3n"
      },
      "source": [
        "En este script, se utilizarán las siguientes rutas"
      ]
    },
    {
      "cell_type": "code",
      "metadata": {
        "id": "qSZZsS4i_KP1"
      },
      "source": [
        "drivedir = '/content/gdrive'\n",
        "tmpdir = '/content/tmp/' #temporal location to download and store the dataset\n",
        "\n",
        "pracdir = drivedir + '/My Drive/p1indexacion' #directory for practica 1 indexacion\n",
        "datadir = pracdir + '/data' #directory for storing datasets\n",
        "resudir = pracdir + '/result' #directory to save results"
      ],
      "execution_count": 1,
      "outputs": []
    },
    {
      "cell_type": "markdown",
      "metadata": {
        "id": "UOv5AC7z9_Gm"
      },
      "source": [
        "## Preparación del entorno de trabajo: Pytorch\n",
        "\n",
        "A continuación tiene un conjunto de instrucciones que instalan el software necesario para esta parte de la práctica.\n",
        "\n",
        "Recuerde que este código es compatible con Python 3."
      ]
    },
    {
      "cell_type": "code",
      "metadata": {
        "id": "Cq7viwqX-D5j",
        "outputId": "9f962071-0508-4400-be0a-4ed639897248",
        "colab": {
          "base_uri": "https://localhost:8080/"
        }
      },
      "source": [
        "!pip3 install torch==1.10.0+cu111 torchvision==0.11.1+cu111 torchaudio==0.10.0+cu111 -f https://download.pytorch.org/whl/torch_stable.html"
      ],
      "execution_count": 2,
      "outputs": [
        {
          "output_type": "stream",
          "name": "stdout",
          "text": [
            "Looking in indexes: https://pypi.org/simple, https://us-python.pkg.dev/colab-wheels/public/simple/\n",
            "Looking in links: https://download.pytorch.org/whl/torch_stable.html\n",
            "Collecting torch==1.10.0+cu111\n",
            "  Downloading https://download.pytorch.org/whl/cu111/torch-1.10.0%2Bcu111-cp37-cp37m-linux_x86_64.whl (2137.6 MB)\n",
            "\u001b[K     |████████████▌                   | 834.1 MB 1.3 MB/s eta 0:17:10tcmalloc: large alloc 1147494400 bytes == 0x38de0000 @  0x7fe217a4d615 0x58e046 0x4f2e5e 0x4d19df 0x51b31c 0x5b41c5 0x58f49e 0x51b221 0x5b41c5 0x58f49e 0x51837f 0x4cfabb 0x517aa0 0x4cfabb 0x517aa0 0x4cfabb 0x517aa0 0x4ba70a 0x538136 0x590055 0x51b180 0x5b41c5 0x58f49e 0x51837f 0x5b41c5 0x58f49e 0x51740e 0x58f2a7 0x517947 0x5b41c5 0x58f49e\n",
            "\u001b[K     |███████████████▉                | 1055.7 MB 1.3 MB/s eta 0:14:14tcmalloc: large alloc 1434370048 bytes == 0x7d436000 @  0x7fe217a4d615 0x58e046 0x4f2e5e 0x4d19df 0x51b31c 0x5b41c5 0x58f49e 0x51b221 0x5b41c5 0x58f49e 0x51837f 0x4cfabb 0x517aa0 0x4cfabb 0x517aa0 0x4cfabb 0x517aa0 0x4ba70a 0x538136 0x590055 0x51b180 0x5b41c5 0x58f49e 0x51837f 0x5b41c5 0x58f49e 0x51740e 0x58f2a7 0x517947 0x5b41c5 0x58f49e\n",
            "\u001b[K     |████████████████████            | 1336.2 MB 1.2 MB/s eta 0:11:10tcmalloc: large alloc 1792966656 bytes == 0x2268000 @  0x7fe217a4d615 0x58e046 0x4f2e5e 0x4d19df 0x51b31c 0x5b41c5 0x58f49e 0x51b221 0x5b41c5 0x58f49e 0x51837f 0x4cfabb 0x517aa0 0x4cfabb 0x517aa0 0x4cfabb 0x517aa0 0x4ba70a 0x538136 0x590055 0x51b180 0x5b41c5 0x58f49e 0x51837f 0x5b41c5 0x58f49e 0x51740e 0x58f2a7 0x517947 0x5b41c5 0x58f49e\n",
            "\u001b[K     |█████████████████████████▎      | 1691.1 MB 1.3 MB/s eta 0:05:35tcmalloc: large alloc 2241208320 bytes == 0x6d050000 @  0x7fe217a4d615 0x58e046 0x4f2e5e 0x4d19df 0x51b31c 0x5b41c5 0x58f49e 0x51b221 0x5b41c5 0x58f49e 0x51837f 0x4cfabb 0x517aa0 0x4cfabb 0x517aa0 0x4cfabb 0x517aa0 0x4ba70a 0x538136 0x590055 0x51b180 0x5b41c5 0x58f49e 0x51837f 0x5b41c5 0x58f49e 0x51740e 0x58f2a7 0x517947 0x5b41c5 0x58f49e\n",
            "\u001b[K     |████████████████████████████████| 2137.6 MB 1.2 MB/s eta 0:00:01tcmalloc: large alloc 2137645056 bytes == 0xf29b2000 @  0x7fe217a4c1e7 0x4b2150 0x4b21dc 0x58e046 0x4f2e5e 0x4d19df 0x51b31c 0x5b41c5 0x58f49e 0x517947 0x5b41c5 0x58f49e 0x517947 0x5b41c5 0x58f49e 0x517947 0x5b41c5 0x58f49e 0x517947 0x5b41c5 0x58f49e 0x517947 0x58f2a7 0x517947 0x5b41c5 0x58f49e 0x51837f 0x5b41c5 0x58f49e 0x51837f 0x5b41c5\n",
            "tcmalloc: large alloc 2672058368 bytes == 0x1e6506000 @  0x7fe217a4d615 0x58e046 0x4f2e5e 0x4d19df 0x51b31c 0x5b41c5 0x58f49e 0x517947 0x5b41c5 0x58f49e 0x517947 0x5b41c5 0x58f49e 0x517947 0x5b41c5 0x58f49e 0x517947 0x5b41c5 0x58f49e 0x517947 0x58f2a7 0x517947 0x5b41c5 0x58f49e 0x51837f 0x5b41c5 0x58f49e 0x51837f 0x5b41c5 0x4ba899 0x4d29f9\n",
            "\u001b[K     |████████████████████████████████| 2137.6 MB 324 bytes/s \n",
            "\u001b[?25hCollecting torchvision==0.11.1+cu111\n",
            "  Downloading https://download.pytorch.org/whl/cu111/torchvision-0.11.1%2Bcu111-cp37-cp37m-linux_x86_64.whl (24.5 MB)\n",
            "\u001b[K     |████████████████████████████████| 24.5 MB 72.2 MB/s \n",
            "\u001b[?25hCollecting torchaudio==0.10.0+cu111\n",
            "  Downloading https://download.pytorch.org/whl/cu111/torchaudio-0.10.0%2Bcu111-cp37-cp37m-linux_x86_64.whl (2.9 MB)\n",
            "\u001b[K     |████████████████████████████████| 2.9 MB 47.2 MB/s \n",
            "\u001b[?25hRequirement already satisfied: typing-extensions in /usr/local/lib/python3.7/dist-packages (from torch==1.10.0+cu111) (4.1.1)\n",
            "Requirement already satisfied: numpy in /usr/local/lib/python3.7/dist-packages (from torchvision==0.11.1+cu111) (1.21.6)\n",
            "Requirement already satisfied: pillow!=8.3.0,>=5.3.0 in /usr/local/lib/python3.7/dist-packages (from torchvision==0.11.1+cu111) (7.1.2)\n",
            "Installing collected packages: torch, torchvision, torchaudio\n",
            "  Attempting uninstall: torch\n",
            "    Found existing installation: torch 1.12.1+cu113\n",
            "    Uninstalling torch-1.12.1+cu113:\n",
            "      Successfully uninstalled torch-1.12.1+cu113\n",
            "  Attempting uninstall: torchvision\n",
            "    Found existing installation: torchvision 0.13.1+cu113\n",
            "    Uninstalling torchvision-0.13.1+cu113:\n",
            "      Successfully uninstalled torchvision-0.13.1+cu113\n",
            "  Attempting uninstall: torchaudio\n",
            "    Found existing installation: torchaudio 0.12.1+cu113\n",
            "    Uninstalling torchaudio-0.12.1+cu113:\n",
            "      Successfully uninstalled torchaudio-0.12.1+cu113\n",
            "\u001b[31mERROR: pip's dependency resolver does not currently take into account all the packages that are installed. This behaviour is the source of the following dependency conflicts.\n",
            "torchtext 0.13.1 requires torch==1.12.1, but you have torch 1.10.0+cu111 which is incompatible.\u001b[0m\n",
            "Successfully installed torch-1.10.0+cu111 torchaudio-0.10.0+cu111 torchvision-0.11.1+cu111\n"
          ]
        }
      ]
    },
    {
      "cell_type": "markdown",
      "metadata": {
        "id": "M84gYYV9c8RH"
      },
      "source": [
        "Descarga de ficheros adicionales"
      ]
    },
    {
      "cell_type": "code",
      "metadata": {
        "id": "0JkHG-Bnc71J",
        "outputId": "ec32a0d7-9efe-4f5a-a21b-355e76cae3a0",
        "colab": {
          "base_uri": "https://localhost:8080/"
        }
      },
      "source": [
        "import os\n",
        "import subprocess\n",
        "\n",
        "tmpdir = '/content/tmp/' #temporal location to download and store the dataset\n",
        "\n",
        "out=subprocess.call([\"mkdir\",tmpdir]) #create a empty directory\n",
        "os.chdir(tmpdir) #move to directory\n",
        "\n",
        "!wget http://www-vpu.eps.uam.es/~jcs/bigdata/utils.zip -O utils.zip #download utils\n",
        "!unzip -o -q utils.zip -d . #unzip file"
      ],
      "execution_count": 3,
      "outputs": [
        {
          "output_type": "stream",
          "name": "stdout",
          "text": [
            "--2022-10-09 14:05:18--  http://www-vpu.eps.uam.es/~jcs/bigdata/utils.zip\n",
            "Resolving www-vpu.eps.uam.es (www-vpu.eps.uam.es)... 150.244.56.90\n",
            "Connecting to www-vpu.eps.uam.es (www-vpu.eps.uam.es)|150.244.56.90|:80... connected.\n",
            "HTTP request sent, awaiting response... 200 OK\n",
            "Length: 2452 (2.4K) [application/zip]\n",
            "Saving to: ‘utils.zip’\n",
            "\n",
            "utils.zip           100%[===================>]   2.39K  --.-KB/s    in 0s      \n",
            "\n",
            "2022-10-09 14:05:18 (279 MB/s) - ‘utils.zip’ saved [2452/2452]\n",
            "\n"
          ]
        }
      ]
    },
    {
      "cell_type": "markdown",
      "metadata": {
        "id": "9zoOE4V7l5tS"
      },
      "source": [
        "## Preparación del entorno de trabajo: Google Drive\n",
        "\n",
        "Ejecute el siguiente código para enlazar este script con su cuenta de Google Drive. Los datos que se generen aquí se guardarán en su carpeta Drive para posterior uso. Por defecto, la unidad de Google Drive es enlaza con el directorio **/content/drive/**."
      ]
    },
    {
      "cell_type": "code",
      "metadata": {
        "id": "YdwRGAHB3nM1",
        "outputId": "1be166bb-2f47-4f4b-c74d-03aaa432c953",
        "colab": {
          "base_uri": "https://localhost:8080/"
        }
      },
      "source": [
        "from google.colab import drive\n",
        "drive.mount(drivedir)\n",
        "\n",
        "print(\"Google Drive mount completed\")\n",
        "\n",
        "#check correct mount of drive directory\n",
        "!df -h"
      ],
      "execution_count": 5,
      "outputs": [
        {
          "output_type": "stream",
          "name": "stdout",
          "text": [
            "Mounted at /content/gdrive\n",
            "Google Drive mount completed\n",
            "Filesystem      Size  Used Avail Use% Mounted on\n",
            "overlay         108G   29G   79G  27% /\n",
            "tmpfs            64M     0   64M   0% /dev\n",
            "shm             5.8G     0  5.8G   0% /dev/shm\n",
            "/dev/root       2.0G  1.1G  910M  54% /sbin/docker-init\n",
            "tmpfs           6.4G   32K  6.4G   1% /var/colab\n",
            "/dev/sda1       114G   35G   79G  31% /etc/hosts\n",
            "tmpfs           6.4G     0  6.4G   0% /proc/acpi\n",
            "tmpfs           6.4G     0  6.4G   0% /proc/scsi\n",
            "tmpfs           6.4G     0  6.4G   0% /sys/firmware\n",
            "drive            15G   15G  378M  98% /content/gdrive\n"
          ]
        }
      ]
    },
    {
      "cell_type": "markdown",
      "metadata": {
        "id": "74-1H-SB6U_p"
      },
      "source": [
        "## Dataset\n",
        "\n",
        "En este ejemplo de entrenamiento, vamos a utilizar el dataset Scenes15"
      ]
    },
    {
      "cell_type": "code",
      "metadata": {
        "id": "fq6c0XQy6d2X",
        "outputId": "3cfbbb3e-5b17-4b2f-c0b4-709c1e6691b4",
        "colab": {
          "base_uri": "https://localhost:8080/"
        }
      },
      "source": [
        "import subprocess\n",
        "import os\n",
        "\n",
        "out=subprocess.call([\"mkdir\",pracdir])#create directory\n",
        "out=subprocess.call([\"mkdir\",datadir])#create directory\n",
        "out=subprocess.call([\"mkdir\",resudir])#create directory\n",
        "\n",
        "os.chdir(datadir) #move to directory\n",
        "\n",
        "#download and unzip the file\n",
        "!wget http://www-vpu.eps.uam.es/~jcs/bigdata/Scene15.zip -O Scene15.zip\n",
        "!unzip -o -q Scene15.zip -d .\n",
        "\n",
        "print('Dataset downloaded and unzipped')\n",
        "\n",
        "!ls -lah #show directory & file usage"
      ],
      "execution_count": 6,
      "outputs": [
        {
          "output_type": "stream",
          "name": "stdout",
          "text": [
            "--2022-10-09 14:13:21--  http://www-vpu.eps.uam.es/~jcs/bigdata/Scene15.zip\n",
            "Resolving www-vpu.eps.uam.es (www-vpu.eps.uam.es)... 150.244.56.90\n",
            "Connecting to www-vpu.eps.uam.es (www-vpu.eps.uam.es)|150.244.56.90|:80... connected.\n",
            "HTTP request sent, awaiting response... 200 OK\n",
            "Length: 86395596 (82M) [application/zip]\n",
            "Saving to: ‘Scene15.zip’\n",
            "\n",
            "Scene15.zip         100%[===================>]  82.39M  23.9MB/s    in 4.3s    \n",
            "\n",
            "2022-10-09 14:13:25 (19.3 MB/s) - ‘Scene15.zip’ saved [86395596/86395596]\n",
            "\n",
            "Dataset downloaded and unzipped\n",
            "total 83M\n",
            "drwx------ 4 root root 4.0K Oct  8 16:44 Scene15\n",
            "-rw------- 1 root root  83M Feb 28  2018 Scene15.zip\n"
          ]
        }
      ]
    },
    {
      "cell_type": "markdown",
      "metadata": {
        "id": "Acnx8c5Q3n4K"
      },
      "source": [
        "Parametros para la generación del dataset"
      ]
    },
    {
      "cell_type": "code",
      "metadata": {
        "id": "R6Q0dZw6Hq2E"
      },
      "source": [
        "import os\n",
        "import torch\n",
        "from torchvision import datasets\n",
        "import torchvision.transforms as transforms\n",
        "\n",
        "#path to the downloaded dataset\n",
        "dataset_dir = datadir + '/Scene15/'\n",
        "\n",
        "#number of samples/images per group\n",
        "batch_size = 4\n",
        "# batch_sizes=[2, 4, 8, 16, 32]\n",
        "\n",
        "#data transformation\n",
        "Resizing_factor = (32,32)\n",
        "transform = transforms.Compose([ transforms.Resize(size=Resizing_factor),                                 \n",
        "                                transforms.ToTensor()                                \n",
        "                                ])\n",
        "\n",
        "#list & load images\n",
        "image_datasets = {x: datasets.ImageFolder(os.path.join(dataset_dir, x), transform) for x in ['train', 'val']}\n",
        "class_names = image_datasets['train'].classes\n",
        "\n",
        "#load & convert images to tensors in Python\n",
        "dataloaders = {x: torch.utils.data.DataLoader(image_datasets[x], batch_size, shuffle=True, num_workers=2) for x in ['train', 'val']}"
      ],
      "execution_count": 7,
      "outputs": []
    },
    {
      "cell_type": "markdown",
      "metadata": {
        "id": "7QK8uZt7CCRb"
      },
      "source": [
        "## Creación de la red\n",
        "\n",
        "A continuación, creamos una red tipo Lenet (modificada para soportar imágenes distintas a 32x32)"
      ]
    },
    {
      "cell_type": "code",
      "metadata": {
        "id": "HWEfU3PqCRCV",
        "outputId": "63a0d864-9204-4639-b970-7a38f4cece79",
        "colab": {
          "base_uri": "https://localhost:8080/",
          "height": 191
        }
      },
      "source": [
        "import os\n",
        "os.chdir(tmpdir) #move to directory\n",
        "\n",
        "#runs script and keeps variables\n",
        "%run -i ./utils/mylenet.py\n",
        "\n",
        "# get some random training images to initialize network\n",
        "images, labels = iter(dataloaders['train']).next()\n",
        "\n",
        "net = Net(input_shape=images[0].size(), num_outputs=len(class_names))\n",
        "print(net)\n",
        "\n",
        "print(\"Network ready to train!\")"
      ],
      "execution_count": 16,
      "outputs": [
        {
          "output_type": "stream",
          "name": "stdout",
          "text": [
            "Net(\n",
            "  (conv1): Conv2d(3, 6, kernel_size=(5, 5), stride=(1, 1))\n",
            "  (pool): MaxPool2d(kernel_size=2, stride=2, padding=0, dilation=1, ceil_mode=False)\n",
            "  (conv2): Conv2d(6, 16, kernel_size=(5, 5), stride=(1, 1))\n",
            "  (fc1): Linear(in_features=13456, out_features=120, bias=True)\n",
            "  (fc2): Linear(in_features=120, out_features=84, bias=True)\n",
            "  (fc3): Linear(in_features=84, out_features=15, bias=True)\n",
            ")\n",
            "Network ready to train!\n"
          ]
        },
        {
          "output_type": "display_data",
          "data": {
            "text/plain": [
              "<Figure size 432x288 with 0 Axes>"
            ]
          },
          "metadata": {}
        }
      ]
    },
    {
      "cell_type": "markdown",
      "metadata": {
        "id": "umau1YMBKeN_"
      },
      "source": [
        "## Definir una función de coste/optimizador\n",
        "\n",
        "En este ejemplo utilizamos Cross-Entropy para medir la precisión de nuestro clasificador y SGD como optimizador."
      ]
    },
    {
      "cell_type": "code",
      "metadata": {
        "id": "kQDA6EkKKem_"
      },
      "source": [
        "import torch.optim as optim\n",
        "import torch.nn as nn\n",
        "\n",
        "criterion = nn.CrossEntropyLoss()\n",
        "optimizer = optim.SGD(net.parameters(), lr=0.001, momentum=0.9)"
      ],
      "execution_count": 17,
      "outputs": []
    },
    {
      "cell_type": "markdown",
      "metadata": {
        "id": "GaYSTVfOK1lD"
      },
      "source": [
        "## Entrenar la red\n",
        "\n",
        "Ejecución iterativa sobre los datos de entrenamiento/test y actualización de los pesos"
      ]
    },
    {
      "cell_type": "code",
      "metadata": {
        "id": "5jcjp9XGLAeR",
        "outputId": "a3a5a1ef-ada2-49bb-d122-a62c6180e926",
        "colab": {
          "base_uri": "https://localhost:8080/"
        }
      },
      "source": [
        "import time\n",
        "import numpy as np\n",
        "from torch.autograd import Variable\n",
        "\n",
        "display_batch_iter = 100\n",
        "number_epochs = 50\n",
        "\n",
        "epoch_loss =  np.zeros((number_epochs,1))\n",
        "epoch_train_acc =  np.zeros((number_epochs,1))\n",
        "epoch_test_acc =  np.zeros((number_epochs,1))  \n",
        "train_time =  0.0\n",
        "\n",
        "Ntrain = len(image_datasets['train']) #number of samples for training\n",
        "Ntest = len(image_datasets['val']) #number of samples for test/validation\n",
        "    \n",
        "device = torch.device(\"cpu\") #CPU mode for training\n",
        "\n",
        "start = time.time()\n",
        "\n",
        "print('Training in CPUmode #epochs=%d #batches=%d batchsize=%d' % (number_epochs, len(dataloaders['train']),batch_size))\n",
        "print('**** Printing loss every %5d batches ****' % (display_batch_iter))  \n",
        "for epoch in range(number_epochs):  # loop over the dataset multiple times\n",
        "    running_loss = 0.0\n",
        "    for i, data in enumerate(dataloaders['train'], 0):\n",
        "        # get the inputs\n",
        "        inputs, labels = data\n",
        "\n",
        "        # wrap them in Variable\n",
        "        inputs, labels = Variable(inputs), Variable(labels)\n",
        "\n",
        "        # zero the parameter gradients\n",
        "        optimizer.zero_grad()\n",
        "\n",
        "        # forward + backward + optimize\n",
        "        outputs = net(inputs)\n",
        "        loss = criterion(outputs, labels)\n",
        "        loss.backward()\n",
        "        optimizer.step()\n",
        "\n",
        "        # print statistics\n",
        "        running_loss += loss.data.numpy()\n",
        "        epoch_loss[epoch] += loss.data.numpy()\n",
        "        if i % display_batch_iter == display_batch_iter-1:    # print every XXX mini-batches\n",
        "            print('[%d, %5d] loss: %.3f' % (epoch + 1, i + 1, running_loss / display_batch_iter))\n",
        "            running_loss = 0.0\n",
        "\n",
        "    # compute accuracy on training set\n",
        "    correct1 = 0.0\n",
        "    for data in dataloaders['train']:    \n",
        "      images, labels = data\n",
        "      outputs = net(Variable(images))\n",
        "      _, predicted = torch.max(outputs.data, 1)\n",
        "      correct1 += (predicted == labels).sum()\n",
        "      \n",
        "    # compute accuracy on test set\n",
        "    correct2 = 0.0\n",
        "    for data in dataloaders['val']:    \n",
        "      images, labels = data\n",
        "      outputs = net(Variable(images))\n",
        "      _, predicted = torch.max(outputs.data, 1)\n",
        "      correct2 += (predicted == labels).sum()\n",
        "    \n",
        "    epoch_loss[epoch] = epoch_loss[epoch] / len(dataloaders['train']) # average loss for each epoch\n",
        "    epoch_train_acc[epoch] =  100 * correct1 / Ntrain   # average train accuracy for each epoch\n",
        "    epoch_test_acc[epoch]  =  100 * correct2 / Ntest    # average test accuracy for each epoch\n",
        "    print('Epoch %02d, loss: %1.3f, accuracy train: %2.3f %% (correct %04d total %04d ) accuracy test: %2.3f %% (correct %04d total %04d )' % (epoch + 1, epoch_loss[epoch], epoch_train_acc[epoch], correct1, Ntrain, epoch_test_acc[epoch], correct2, Ntest ))\n",
        "    \n",
        "train_time = time.time() - start\n",
        "print('Finished Training (' + str(train_time) + ' secs)')"
      ],
      "execution_count": 18,
      "outputs": [
        {
          "output_type": "stream",
          "name": "stdout",
          "text": [
            "Training in CPUmode #epochs=50 #batches=47 batchsize=32\n",
            "**** Printing loss every   100 batches ****\n",
            "Epoch 01, loss: 2.709, accuracy train: 6.667 % (correct 0100 total 1500 ) accuracy test: 8.710 % (correct 0260 total 2985 )\n",
            "Epoch 02, loss: 2.708, accuracy train: 6.667 % (correct 0100 total 1500 ) accuracy test: 8.710 % (correct 0260 total 2985 )\n",
            "Epoch 03, loss: 2.707, accuracy train: 7.400 % (correct 0111 total 1500 ) accuracy test: 9.012 % (correct 0269 total 2985 )\n",
            "Epoch 04, loss: 2.705, accuracy train: 11.667 % (correct 0175 total 1500 ) accuracy test: 12.496 % (correct 0373 total 2985 )\n",
            "Epoch 05, loss: 2.702, accuracy train: 14.400 % (correct 0216 total 1500 ) accuracy test: 12.027 % (correct 0359 total 2985 )\n",
            "Epoch 06, loss: 2.697, accuracy train: 15.067 % (correct 0226 total 1500 ) accuracy test: 11.457 % (correct 0342 total 2985 )\n",
            "Epoch 07, loss: 2.688, accuracy train: 12.333 % (correct 0185 total 1500 ) accuracy test: 9.447 % (correct 0282 total 2985 )\n",
            "Epoch 08, loss: 2.669, accuracy train: 12.733 % (correct 0191 total 1500 ) accuracy test: 8.007 % (correct 0239 total 2985 )\n",
            "Epoch 09, loss: 2.620, accuracy train: 17.067 % (correct 0256 total 1500 ) accuracy test: 12.228 % (correct 0365 total 2985 )\n",
            "Epoch 10, loss: 2.553, accuracy train: 18.667 % (correct 0280 total 1500 ) accuracy test: 14.003 % (correct 0418 total 2985 )\n",
            "Epoch 11, loss: 2.515, accuracy train: 18.400 % (correct 0276 total 1500 ) accuracy test: 12.529 % (correct 0374 total 2985 )\n",
            "Epoch 12, loss: 2.494, accuracy train: 18.333 % (correct 0275 total 1500 ) accuracy test: 12.228 % (correct 0365 total 2985 )\n",
            "Epoch 13, loss: 2.445, accuracy train: 21.600 % (correct 0324 total 1500 ) accuracy test: 18.291 % (correct 0546 total 2985 )\n",
            "Epoch 14, loss: 2.428, accuracy train: 21.400 % (correct 0321 total 1500 ) accuracy test: 17.353 % (correct 0518 total 2985 )\n",
            "Epoch 15, loss: 2.406, accuracy train: 21.933 % (correct 0329 total 1500 ) accuracy test: 16.214 % (correct 0484 total 2985 )\n",
            "Epoch 16, loss: 2.377, accuracy train: 23.667 % (correct 0355 total 1500 ) accuracy test: 18.559 % (correct 0554 total 2985 )\n",
            "Epoch 17, loss: 2.348, accuracy train: 22.200 % (correct 0333 total 1500 ) accuracy test: 16.147 % (correct 0482 total 2985 )\n",
            "Epoch 18, loss: 2.321, accuracy train: 26.333 % (correct 0395 total 1500 ) accuracy test: 18.861 % (correct 0563 total 2985 )\n",
            "Epoch 19, loss: 2.294, accuracy train: 29.200 % (correct 0438 total 1500 ) accuracy test: 21.407 % (correct 0639 total 2985 )\n",
            "Epoch 20, loss: 2.271, accuracy train: 27.133 % (correct 0407 total 1500 ) accuracy test: 19.363 % (correct 0578 total 2985 )\n",
            "Epoch 21, loss: 2.265, accuracy train: 28.867 % (correct 0433 total 1500 ) accuracy test: 19.263 % (correct 0575 total 2985 )\n",
            "Epoch 22, loss: 2.239, accuracy train: 31.067 % (correct 0466 total 1500 ) accuracy test: 19.363 % (correct 0578 total 2985 )\n",
            "Epoch 23, loss: 2.193, accuracy train: 31.733 % (correct 0476 total 1500 ) accuracy test: 21.742 % (correct 0649 total 2985 )\n",
            "Epoch 24, loss: 2.168, accuracy train: 30.133 % (correct 0452 total 1500 ) accuracy test: 18.794 % (correct 0561 total 2985 )\n",
            "Epoch 25, loss: 2.145, accuracy train: 31.733 % (correct 0476 total 1500 ) accuracy test: 21.876 % (correct 0653 total 2985 )\n",
            "Epoch 26, loss: 2.094, accuracy train: 35.667 % (correct 0535 total 1500 ) accuracy test: 22.245 % (correct 0664 total 2985 )\n",
            "Epoch 27, loss: 2.037, accuracy train: 38.667 % (correct 0580 total 1500 ) accuracy test: 24.154 % (correct 0721 total 2985 )\n",
            "Epoch 28, loss: 2.050, accuracy train: 37.333 % (correct 0560 total 1500 ) accuracy test: 23.082 % (correct 0689 total 2985 )\n",
            "Epoch 29, loss: 1.994, accuracy train: 36.733 % (correct 0551 total 1500 ) accuracy test: 22.848 % (correct 0682 total 2985 )\n",
            "Epoch 30, loss: 1.941, accuracy train: 42.800 % (correct 0642 total 1500 ) accuracy test: 25.863 % (correct 0772 total 2985 )\n",
            "Epoch 31, loss: 1.875, accuracy train: 41.067 % (correct 0616 total 1500 ) accuracy test: 23.786 % (correct 0710 total 2985 )\n",
            "Epoch 32, loss: 1.828, accuracy train: 41.800 % (correct 0627 total 1500 ) accuracy test: 25.930 % (correct 0774 total 2985 )\n",
            "Epoch 33, loss: 1.790, accuracy train: 46.133 % (correct 0692 total 1500 ) accuracy test: 26.265 % (correct 0784 total 2985 )\n",
            "Epoch 34, loss: 1.711, accuracy train: 45.067 % (correct 0676 total 1500 ) accuracy test: 26.198 % (correct 0782 total 2985 )\n",
            "Epoch 35, loss: 1.648, accuracy train: 45.800 % (correct 0687 total 1500 ) accuracy test: 25.662 % (correct 0766 total 2985 )\n",
            "Epoch 36, loss: 1.680, accuracy train: 51.067 % (correct 0766 total 1500 ) accuracy test: 27.236 % (correct 0813 total 2985 )\n",
            "Epoch 37, loss: 1.578, accuracy train: 51.733 % (correct 0776 total 1500 ) accuracy test: 27.303 % (correct 0815 total 2985 )\n",
            "Epoch 38, loss: 1.530, accuracy train: 54.400 % (correct 0816 total 1500 ) accuracy test: 27.638 % (correct 0825 total 2985 )\n",
            "Epoch 39, loss: 1.459, accuracy train: 55.133 % (correct 0827 total 1500 ) accuracy test: 29.179 % (correct 0871 total 2985 )\n",
            "Epoch 40, loss: 1.381, accuracy train: 60.133 % (correct 0902 total 1500 ) accuracy test: 31.792 % (correct 0949 total 2985 )\n",
            "Epoch 41, loss: 1.302, accuracy train: 59.133 % (correct 0887 total 1500 ) accuracy test: 29.313 % (correct 0875 total 2985 )\n",
            "Epoch 42, loss: 1.254, accuracy train: 65.267 % (correct 0979 total 1500 ) accuracy test: 29.782 % (correct 0889 total 2985 )\n",
            "Epoch 43, loss: 1.183, accuracy train: 67.400 % (correct 1011 total 1500 ) accuracy test: 31.223 % (correct 0932 total 2985 )\n",
            "Epoch 44, loss: 1.017, accuracy train: 71.400 % (correct 1071 total 1500 ) accuracy test: 29.883 % (correct 0892 total 2985 )\n",
            "Epoch 45, loss: 0.953, accuracy train: 77.133 % (correct 1157 total 1500 ) accuracy test: 32.563 % (correct 0972 total 2985 )\n",
            "Epoch 46, loss: 0.878, accuracy train: 80.467 % (correct 1207 total 1500 ) accuracy test: 32.261 % (correct 0963 total 2985 )\n",
            "Epoch 47, loss: 0.744, accuracy train: 75.333 % (correct 1130 total 1500 ) accuracy test: 29.079 % (correct 0868 total 2985 )\n",
            "Epoch 48, loss: 0.690, accuracy train: 86.667 % (correct 1300 total 1500 ) accuracy test: 33.970 % (correct 1014 total 2985 )\n",
            "Epoch 49, loss: 0.547, accuracy train: 89.800 % (correct 1347 total 1500 ) accuracy test: 31.558 % (correct 0942 total 2985 )\n",
            "Epoch 50, loss: 0.432, accuracy train: 88.200 % (correct 1323 total 1500 ) accuracy test: 34.606 % (correct 1033 total 2985 )\n",
            "Finished Training (1555.1123919487 secs)\n"
          ]
        }
      ]
    },
    {
      "cell_type": "markdown",
      "metadata": {
        "id": "84AJx1XzjfRm"
      },
      "source": [
        "Finalmente podemos guardar los datos tras el entrenamiento en nuestra carpeta de Google Drive"
      ]
    },
    {
      "cell_type": "code",
      "metadata": {
        "id": "GRv6KngBjkha",
        "outputId": "6048cf3f-1eca-4ede-bae8-af77a8804fc2",
        "colab": {
          "base_uri": "https://localhost:8080/"
        }
      },
      "source": [
        "#save results in a single file\n",
        "import pickle\n",
        "import os\n",
        "os.chdir(pracdir) #move to drive directory\n",
        "\n",
        "# Saving the objects:\n",
        "f = open('training_baseline_cpu_results_epochs_'+ str(number_epochs) +'.pkl', 'wb')\n",
        "pickle.dump([epoch_train_acc, epoch_test_acc, epoch_loss, train_time, number_epochs, batch_size], f)\n",
        "f.close()\n",
        "print('Saved data')"
      ],
      "execution_count": 19,
      "outputs": [
        {
          "output_type": "stream",
          "name": "stdout",
          "text": [
            "Saved data\n"
          ]
        }
      ]
    },
    {
      "cell_type": "markdown",
      "metadata": {
        "id": "i9fHv1kN70nG"
      },
      "source": [
        "Posteriormente, si quisieramos recuperar las variables/objetos para analizar, utilizaremos el siguiente código"
      ]
    },
    {
      "cell_type": "code",
      "metadata": {
        "id": "iyIVJxTi7p1s",
        "outputId": "2dde2f6d-5440-4b9b-ae29-dc3ccf1ed9a8",
        "colab": {
          "base_uri": "https://localhost:8080/",
          "height": 222
        }
      },
      "source": [
        "#get results from a single file\n",
        "import pickle\n",
        "import os\n",
        "os.chdir(pracdir) #move to drive directory\n",
        "\n",
        "# Load the objects\n",
        "f = open('training_baseline_results_epochs_30.pkl', 'rb')\n",
        "epoch_train_acc, epoch_test_acc, epoch_loss, train_time, number_epochs, batch_size = pickle.load(f)"
      ],
      "execution_count": null,
      "outputs": [
        {
          "output_type": "error",
          "ename": "FileNotFoundError",
          "evalue": "ignored",
          "traceback": [
            "\u001b[0;31m---------------------------------------------------------------------------\u001b[0m",
            "\u001b[0;31mFileNotFoundError\u001b[0m                         Traceback (most recent call last)",
            "\u001b[0;32m./utils/mylenet.py\u001b[0m in \u001b[0;36m<module>\u001b[0;34m\u001b[0m\n\u001b[1;32m      5\u001b[0m \u001b[0;34m\u001b[0m\u001b[0m\n\u001b[1;32m      6\u001b[0m \u001b[0;31m# Load the objects\u001b[0m\u001b[0;34m\u001b[0m\u001b[0;34m\u001b[0m\u001b[0;34m\u001b[0m\u001b[0m\n\u001b[0;32m----> 7\u001b[0;31m \u001b[0mf\u001b[0m \u001b[0;34m=\u001b[0m \u001b[0mopen\u001b[0m\u001b[0;34m(\u001b[0m\u001b[0;34m'training_baseline_results_epochs_30.pkl'\u001b[0m\u001b[0;34m,\u001b[0m \u001b[0;34m'rb'\u001b[0m\u001b[0;34m)\u001b[0m\u001b[0;34m\u001b[0m\u001b[0;34m\u001b[0m\u001b[0m\n\u001b[0m\u001b[1;32m      8\u001b[0m \u001b[0mepoch_train_acc\u001b[0m\u001b[0;34m,\u001b[0m \u001b[0mepoch_test_acc\u001b[0m\u001b[0;34m,\u001b[0m \u001b[0mepoch_loss\u001b[0m\u001b[0;34m,\u001b[0m \u001b[0mtrain_time\u001b[0m\u001b[0;34m,\u001b[0m \u001b[0mnumber_epochs\u001b[0m\u001b[0;34m,\u001b[0m \u001b[0mbatch_size\u001b[0m \u001b[0;34m=\u001b[0m \u001b[0mpickle\u001b[0m\u001b[0;34m.\u001b[0m\u001b[0mload\u001b[0m\u001b[0;34m(\u001b[0m\u001b[0mf\u001b[0m\u001b[0;34m)\u001b[0m\u001b[0;34m\u001b[0m\u001b[0;34m\u001b[0m\u001b[0m\n",
            "\u001b[0;31mFileNotFoundError\u001b[0m: [Errno 2] No such file or directory: 'training_baseline_results_epochs_30.pkl'"
          ]
        }
      ]
    },
    {
      "cell_type": "markdown",
      "metadata": {
        "id": "WIpYsUwtmk9v"
      },
      "source": [
        "# Resultados tras entrenamiento \n",
        "\n"
      ]
    },
    {
      "cell_type": "markdown",
      "metadata": {
        "id": "E2kqMm6FmuMT"
      },
      "source": [
        "## Análisis de precisión y función de pérdidas\n",
        "A continuación pintamos las variables que hemos acumulado durante el entrenamiento."
      ]
    },
    {
      "cell_type": "code",
      "metadata": {
        "id": "6vlAL68xjl1-",
        "outputId": "940a0d39-be8c-4151-b555-6bec96e1fe24",
        "colab": {
          "base_uri": "https://localhost:8080/",
          "height": 295
        }
      },
      "source": [
        "import matplotlib.pyplot as plt\n",
        "\n",
        "t = range(number_epochs)\n",
        "lineObjects =plt.plot(t,epoch_train_acc,'r--',t,epoch_test_acc,'bs')\n",
        "plt.legend(lineObjects, ('train', 'test'))\n",
        "plt.ylabel('Accuracy (%)')\n",
        "plt.xlabel('Epoch')\n",
        "plt.title('Accuracy results') \n",
        "\n",
        "import os\n",
        "os.chdir(pracdir) #move to drive directory for saving data\n",
        "\n",
        "plt.savefig('training_accuracy_baseline__epochs'+ str(number_epochs) + '_CPU.png',bbox_inches='tight')#call this function before \"plt.show()\"\n",
        "plt.show()"
      ],
      "execution_count": 20,
      "outputs": [
        {
          "output_type": "display_data",
          "data": {
            "text/plain": [
              "<Figure size 432x288 with 1 Axes>"
            ],
            "image/png": "[encoded data removed]"
          },
          "metadata": {
            "needs_background": "light"
          }
        }
      ]
    },
    {
      "cell_type": "code",
      "metadata": {
        "id": "AlaiffYgmOok",
        "outputId": "60692e35-0b2b-4fa1-adf7-a847d743bd67",
        "colab": {
          "base_uri": "https://localhost:8080/",
          "height": 295
        }
      },
      "source": [
        "import matplotlib.pyplot as plt\n",
        "\n",
        "t = range(number_epochs)\n",
        "plt.plot(t,epoch_loss,'r--')\n",
        "plt.ylabel('Loss')\n",
        "plt.xlabel('Epoch')\n",
        "plt.title('Epoch loss for training') \n",
        "plt.show()"
      ],
      "execution_count": 21,
      "outputs": [
        {
          "output_type": "display_data",
          "data": {
            "text/plain": [
              "<Figure size 432x288 with 1 Axes>"
            ],
            "image/png": "[encoded data removed]"
          },
          "metadata": {
            "needs_background": "light"
          }
        }
      ]
    },
    {
      "cell_type": "markdown",
      "metadata": {
        "id": "evgVriqsXN7Q"
      },
      "source": [
        "## Ejemplos de resultado\n",
        "\n",
        "Es recomendable repasar los resultados obtenidos tanto gráficamente como estadísticamente.\n",
        "\n",
        "Primero, seleccionamos algunos datos y visualmente verificamos errores:\n"
      ]
    },
    {
      "cell_type": "code",
      "metadata": {
        "id": "79GFRR-XQjdc",
        "outputId": "f50cc624-7629-4aac-c1ae-b795fd2e9785",
        "colab": {
          "base_uri": "https://localhost:8080/",
          "height": 274
        }
      },
      "source": [
        "import torchvision\n",
        "\n",
        "# function to show an image\n",
        "def imshow(img):\n",
        "    #img = img / 2 + 0.5  # unnormalize if normalization is done in transform\n",
        "    npimg = img.numpy()\n",
        "    plt.imshow(np.transpose(npimg, (1, 2, 0)))\n",
        "    \n",
        "#get sample data\n",
        "images, labels = iter(dataloaders['val']).next()\n",
        "   \n",
        "# print images\n",
        "imshow(torchvision.utils.make_grid(images))\n",
        "print('GroundTruth: ', ' '.join('%5s' % class_names[labels[j]] for j in range(batch_size)))\n",
        "\n",
        "outputs = net(Variable(images))\n",
        "_, predicted = torch.max(outputs.data, 1)\n",
        "\n",
        "print('Predicted: ', ' '.join('%5s' % class_names[predicted[j]] for j in range(batch_size)))"
      ],
      "execution_count": 14,
      "outputs": [
        {
          "output_type": "stream",
          "name": "stdout",
          "text": [
            "GroundTruth:  Store LivingRoom Store Coast Coast Mountain InsideCity Industrial LivingRoom LivingRoom OpenCountry TallBuilding Forest Store Coast TallBuilding Office Street TallBuilding Industrial InsideCity OpenCountry InsideCity LivingRoom Store Industrial Store Mountain TallBuilding Store Street OpenCountry\n",
            "Predicted:  Store Industrial Store Highway Coast Bedroom Forest Industrial Mountain LivingRoom OpenCountry Mountain LivingRoom Forest Coast Suburb TallBuilding Street TallBuilding Mountain Store Coast Forest InsideCity LivingRoom Mountain Kitchen Mountain OpenCountry OpenCountry Street OpenCountry\n"
          ]
        },
        {
          "output_type": "display_data",
          "data": {
            "text/plain": [
              "<Figure size 432x288 with 1 Axes>"
            ],
            "image/png": "[encoded data removed]"
          },
          "metadata": {
            "needs_background": "light"
          }
        }
      ]
    },
    {
      "cell_type": "markdown",
      "metadata": {
        "id": "h7fYSZtMXdY-"
      },
      "source": [
        "Posteriormente estudiamos los resultados para cada clase"
      ]
    },
    {
      "cell_type": "code",
      "metadata": {
        "id": "Z6Qgu3X0QtIL",
        "outputId": "c481672a-8eaf-4976-c33a-036be78dee87",
        "colab": {
          "base_uri": "https://localhost:8080/"
        }
      },
      "source": [
        "class_correct = list(0. for i in range(len(class_names)))\n",
        "class_total = list(0. for i in range(len(class_names)))\n",
        "for data in dataloaders['val']:\n",
        "    images, labels = data\n",
        "    outputs = net(Variable(images))\n",
        "    _, predicted = torch.max(outputs.data, 1)\n",
        "    c = (predicted == labels).squeeze()\n",
        "    for i in range(len(labels)):\n",
        "        label = labels[i]\n",
        "        class_correct[label] += float(c.numpy().reshape(1,c.numpy().size)[0,i])\n",
        "        class_total[label] += 1\n",
        "\n",
        "class_totalT = 0\n",
        "for i in range(len(class_names)):\n",
        "    print('Accuracy of %5s : %2d %%' % (class_names[i], 100 * class_correct[i] / class_total[i]))\n",
        "    class_totalT += class_total[i]\n",
        "print('Total test data = %d images' % (class_totalT))"
      ],
      "execution_count": 15,
      "outputs": [
        {
          "output_type": "stream",
          "name": "stdout",
          "text": [
            "Accuracy of Bedroom : 21 %\n",
            "Accuracy of Coast : 36 %\n",
            "Accuracy of Forest : 24 %\n",
            "Accuracy of Highway : 68 %\n",
            "Accuracy of Industrial : 11 %\n",
            "Accuracy of InsideCity : 16 %\n",
            "Accuracy of Kitchen : 10 %\n",
            "Accuracy of LivingRoom : 24 %\n",
            "Accuracy of Mountain : 42 %\n",
            "Accuracy of Office : 28 %\n",
            "Accuracy of OpenCountry : 34 %\n",
            "Accuracy of Store : 22 %\n",
            "Accuracy of Street : 40 %\n",
            "Accuracy of Suburb : 53 %\n",
            "Accuracy of TallBuilding : 13 %\n",
            "Total test data = 2985 images\n"
          ]
        }
      ]
    },
    {
      "cell_type": "code",
      "source": [],
      "metadata": {
        "id": "Ue4JZItGPT64"
      },
      "execution_count": null,
      "outputs": []
    }
  ]
}