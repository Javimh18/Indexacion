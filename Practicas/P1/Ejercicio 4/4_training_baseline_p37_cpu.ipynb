{
  "nbformat": 4,
  "nbformat_minor": 0,
  "metadata": {
    "colab": {
      "provenance": [],
      "collapsed_sections": []
    },
    "kernelspec": {
      "name": "python3",
      "display_name": "Python 3"
    },
    "accelerator": "GPU",
    "language_info": {
      "name": "python"
    }
  },
  "cells": [
    {
      "cell_type": "markdown",
      "metadata": {
        "id": "MbrPXkSGlcmB"
      },
      "source": [
        "#Máster en Big Data y Data Science: Ciencia e Ingeniería de Datos\n",
        "### ASIGNATURA: Indexación, búsqueda y análisis en repositorios multimedia\n",
        "### PARTE: Multimedia (imagen, video)\n",
        "### Práctica 1: Introducción al diseño de redes neuronales convolucionales con Pytorch mediante Google Colaboratory\n",
        "\n",
        "---\n",
        "\n",
        "Autor: Juan C. SanMiguel (juancarlos.sanmiguel@uam.es), Universidad Autónoma de Madrid\n",
        "\n",
        "Fecha: Febrero 2018"
      ]
    },
    {
      "cell_type": "markdown",
      "metadata": {
        "id": "H7_EXhmb8zwb"
      },
      "source": [
        "# 4. Entrenamiento de una red con CPU (training)"
      ]
    },
    {
      "cell_type": "markdown",
      "metadata": {
        "id": "TH6WlZfx_L3n"
      },
      "source": [
        "En este script, se utilizarán las siguientes rutas"
      ]
    },
    {
      "cell_type": "code",
      "metadata": {
        "id": "qSZZsS4i_KP1"
      },
      "source": [
        "drivedir = '/content/gdrive'\n",
        "tmpdir = '/content/tmp/' #temporal location to download and store the dataset\n",
        "\n",
        "pracdir = drivedir + '/My Drive/p1indexacion' #directory for practica 1 indexacion\n",
        "datadir = pracdir + '/data' #directory for storing datasets\n",
        "resudir = pracdir + '/result' #directory to save results"
      ],
      "execution_count": null,
      "outputs": []
    },
    {
      "cell_type": "markdown",
      "metadata": {
        "id": "UOv5AC7z9_Gm"
      },
      "source": [
        "## Preparación del entorno de trabajo: Pytorch\n",
        "\n",
        "A continuación tiene un conjunto de instrucciones que instalan el software necesario para esta parte de la práctica.\n",
        "\n",
        "Recuerde que este código es compatible con Python 3."
      ]
    },
    {
      "cell_type": "code",
      "metadata": {
        "id": "Cq7viwqX-D5j",
        "outputId": "fcd2bf40-3b1d-40b2-ba29-161c742154e5",
        "colab": {
          "base_uri": "https://localhost:8080/"
        }
      },
      "source": [
        "!pip3 install torch==1.10.0+cu111 torchvision==0.11.1+cu111 torchaudio==0.10.0+cu111 -f https://download.pytorch.org/whl/torch_stable.html"
      ],
      "execution_count": null,
      "outputs": [
        {
          "output_type": "stream",
          "name": "stdout",
          "text": [
            "Looking in indexes: https://pypi.org/simple, https://us-python.pkg.dev/colab-wheels/public/simple/\n",
            "Looking in links: https://download.pytorch.org/whl/torch_stable.html\n",
            "Collecting torch==1.10.0+cu111\n",
            "  Downloading https://download.pytorch.org/whl/cu111/torch-1.10.0%2Bcu111-cp37-cp37m-linux_x86_64.whl (2137.6 MB)\n",
            "\u001b[K     |████████████▌                   | 834.1 MB 1.2 MB/s eta 0:17:26tcmalloc: large alloc 1147494400 bytes == 0x395b2000 @  0x7fe3f0c23615 0x58e046 0x4f2e5e 0x4d19df 0x51b31c 0x5b41c5 0x58f49e 0x51b221 0x5b41c5 0x58f49e 0x51837f 0x4cfabb 0x517aa0 0x4cfabb 0x517aa0 0x4cfabb 0x517aa0 0x4ba70a 0x538136 0x590055 0x51b180 0x5b41c5 0x58f49e 0x51837f 0x5b41c5 0x58f49e 0x51740e 0x58f2a7 0x517947 0x5b41c5 0x58f49e\n",
            "\u001b[K     |███████████████▉                | 1055.7 MB 1.3 MB/s eta 0:14:22tcmalloc: large alloc 1434370048 bytes == 0x7dc08000 @  0x7fe3f0c23615 0x58e046 0x4f2e5e 0x4d19df 0x51b31c 0x5b41c5 0x58f49e 0x51b221 0x5b41c5 0x58f49e 0x51837f 0x4cfabb 0x517aa0 0x4cfabb 0x517aa0 0x4cfabb 0x517aa0 0x4ba70a 0x538136 0x590055 0x51b180 0x5b41c5 0x58f49e 0x51837f 0x5b41c5 0x58f49e 0x51740e 0x58f2a7 0x517947 0x5b41c5 0x58f49e\n",
            "\u001b[K     |████████████████████            | 1336.2 MB 1.2 MB/s eta 0:10:42tcmalloc: large alloc 1792966656 bytes == 0x2a3a000 @  0x7fe3f0c23615 0x58e046 0x4f2e5e 0x4d19df 0x51b31c 0x5b41c5 0x58f49e 0x51b221 0x5b41c5 0x58f49e 0x51837f 0x4cfabb 0x517aa0 0x4cfabb 0x517aa0 0x4cfabb 0x517aa0 0x4ba70a 0x538136 0x590055 0x51b180 0x5b41c5 0x58f49e 0x51837f 0x5b41c5 0x58f49e 0x51740e 0x58f2a7 0x517947 0x5b41c5 0x58f49e\n",
            "\u001b[K     |█████████████████████████▎      | 1691.1 MB 1.3 MB/s eta 0:05:53tcmalloc: large alloc 2241208320 bytes == 0x6d822000 @  0x7fe3f0c23615 0x58e046 0x4f2e5e 0x4d19df 0x51b31c 0x5b41c5 0x58f49e 0x51b221 0x5b41c5 0x58f49e 0x51837f 0x4cfabb 0x517aa0 0x4cfabb 0x517aa0 0x4cfabb 0x517aa0 0x4ba70a 0x538136 0x590055 0x51b180 0x5b41c5 0x58f49e 0x51837f 0x5b41c5 0x58f49e 0x51740e 0x58f2a7 0x517947 0x5b41c5 0x58f49e\n",
            "\u001b[K     |████████████████████████████████| 2137.6 MB 1.2 MB/s eta 0:00:01tcmalloc: large alloc 2137645056 bytes == 0xf3184000 @  0x7fe3f0c221e7 0x4b2150 0x4b21dc 0x58e046 0x4f2e5e 0x4d19df 0x51b31c 0x5b41c5 0x58f49e 0x517947 0x5b41c5 0x58f49e 0x517947 0x5b41c5 0x58f49e 0x517947 0x5b41c5 0x58f49e 0x517947 0x5b41c5 0x58f49e 0x517947 0x58f2a7 0x517947 0x5b41c5 0x58f49e 0x51837f 0x5b41c5 0x58f49e 0x51837f 0x5b41c5\n",
            "tcmalloc: large alloc 2672058368 bytes == 0x1e6cd8000 @  0x7fe3f0c23615 0x58e046 0x4f2e5e 0x4d19df 0x51b31c 0x5b41c5 0x58f49e 0x517947 0x5b41c5 0x58f49e 0x517947 0x5b41c5 0x58f49e 0x517947 0x5b41c5 0x58f49e 0x517947 0x5b41c5 0x58f49e 0x517947 0x58f2a7 0x517947 0x5b41c5 0x58f49e 0x51837f 0x5b41c5 0x58f49e 0x51837f 0x5b41c5 0x4ba899 0x4d29f9\n",
            "\u001b[K     |████████████████████████████████| 2137.6 MB 392 bytes/s \n",
            "\u001b[?25hCollecting torchvision==0.11.1+cu111\n",
            "  Downloading https://download.pytorch.org/whl/cu111/torchvision-0.11.1%2Bcu111-cp37-cp37m-linux_x86_64.whl (24.5 MB)\n",
            "\u001b[K     |████████████████████████████████| 24.5 MB 1.4 MB/s \n",
            "\u001b[?25hCollecting torchaudio==0.10.0+cu111\n",
            "  Downloading https://download.pytorch.org/whl/cu111/torchaudio-0.10.0%2Bcu111-cp37-cp37m-linux_x86_64.whl (2.9 MB)\n",
            "\u001b[K     |████████████████████████████████| 2.9 MB 71.8 MB/s \n",
            "\u001b[?25hRequirement already satisfied: typing-extensions in /usr/local/lib/python3.7/dist-packages (from torch==1.10.0+cu111) (4.1.1)\n",
            "Requirement already satisfied: pillow!=8.3.0,>=5.3.0 in /usr/local/lib/python3.7/dist-packages (from torchvision==0.11.1+cu111) (7.1.2)\n",
            "Requirement already satisfied: numpy in /usr/local/lib/python3.7/dist-packages (from torchvision==0.11.1+cu111) (1.21.6)\n",
            "Installing collected packages: torch, torchvision, torchaudio\n",
            "  Attempting uninstall: torch\n",
            "    Found existing installation: torch 1.12.1+cu113\n",
            "    Uninstalling torch-1.12.1+cu113:\n",
            "      Successfully uninstalled torch-1.12.1+cu113\n",
            "  Attempting uninstall: torchvision\n",
            "    Found existing installation: torchvision 0.13.1+cu113\n",
            "    Uninstalling torchvision-0.13.1+cu113:\n",
            "      Successfully uninstalled torchvision-0.13.1+cu113\n",
            "  Attempting uninstall: torchaudio\n",
            "    Found existing installation: torchaudio 0.12.1+cu113\n",
            "    Uninstalling torchaudio-0.12.1+cu113:\n",
            "      Successfully uninstalled torchaudio-0.12.1+cu113\n",
            "\u001b[31mERROR: pip's dependency resolver does not currently take into account all the packages that are installed. This behaviour is the source of the following dependency conflicts.\n",
            "torchtext 0.13.1 requires torch==1.12.1, but you have torch 1.10.0+cu111 which is incompatible.\u001b[0m\n",
            "Successfully installed torch-1.10.0+cu111 torchaudio-0.10.0+cu111 torchvision-0.11.1+cu111\n"
          ]
        }
      ]
    },
    {
      "cell_type": "markdown",
      "metadata": {
        "id": "M84gYYV9c8RH"
      },
      "source": [
        "Descarga de ficheros adicionales"
      ]
    },
    {
      "cell_type": "code",
      "metadata": {
        "id": "0JkHG-Bnc71J",
        "outputId": "a0ad60d5-86e7-4915-8d56-26e7d923bd79",
        "colab": {
          "base_uri": "https://localhost:8080/"
        }
      },
      "source": [
        "import os\n",
        "import subprocess\n",
        "\n",
        "tmpdir = '/content/tmp/' #temporal location to download and store the dataset\n",
        "\n",
        "out=subprocess.call([\"mkdir\",tmpdir]) #create a empty directory\n",
        "os.chdir(tmpdir) #move to directory\n",
        "\n",
        "!wget http://www-vpu.eps.uam.es/~jcs/bigdata/utils.zip -O utils.zip #download utils\n",
        "!unzip -o -q utils.zip -d . #unzip file"
      ],
      "execution_count": null,
      "outputs": [
        {
          "output_type": "stream",
          "name": "stdout",
          "text": [
            "--2022-10-08 15:06:22--  http://www-vpu.eps.uam.es/~jcs/bigdata/utils.zip\n",
            "Resolving www-vpu.eps.uam.es (www-vpu.eps.uam.es)... 150.244.56.90\n",
            "Connecting to www-vpu.eps.uam.es (www-vpu.eps.uam.es)|150.244.56.90|:80... connected.\n",
            "HTTP request sent, awaiting response... 200 OK\n",
            "Length: 2452 (2.4K) [application/zip]\n",
            "Saving to: ‘utils.zip’\n",
            "\n",
            "utils.zip           100%[===================>]   2.39K  --.-KB/s    in 0s      \n",
            "\n",
            "2022-10-08 15:06:22 (410 MB/s) - ‘utils.zip’ saved [2452/2452]\n",
            "\n"
          ]
        }
      ]
    },
    {
      "cell_type": "markdown",
      "metadata": {
        "id": "9zoOE4V7l5tS"
      },
      "source": [
        "## Preparación del entorno de trabajo: Google Drive\n",
        "\n",
        "Ejecute el siguiente código para enlazar este script con su cuenta de Google Drive. Los datos que se generen aquí se guardarán en su carpeta Drive para posterior uso. Por defecto, la unidad de Google Drive es enlaza con el directorio **/content/drive/**."
      ]
    },
    {
      "cell_type": "code",
      "metadata": {
        "id": "YdwRGAHB3nM1",
        "outputId": "5c95c386-2535-4a9d-899b-6298bca39bec",
        "colab": {
          "base_uri": "https://localhost:8080/"
        }
      },
      "source": [
        "from google.colab import drive\n",
        "drive.mount(drivedir)\n",
        "\n",
        "print(\"Google Drive mount completed\")\n",
        "\n",
        "#check correct mount of drive directory\n",
        "!df -h"
      ],
      "execution_count": null,
      "outputs": [
        {
          "output_type": "stream",
          "name": "stdout",
          "text": [
            "Mounted at /content/gdrive\n",
            "Google Drive mount completed\n",
            "Filesystem      Size  Used Avail Use% Mounted on\n",
            "overlay          79G   30G   49G  38% /\n",
            "tmpfs            64M     0   64M   0% /dev\n",
            "shm             5.7G     0  5.7G   0% /dev/shm\n",
            "/dev/root       2.0G  1.1G  910M  54% /sbin/docker-init\n",
            "tmpfs           6.4G   40K  6.4G   1% /var/colab\n",
            "/dev/sda1        50G   36G   15G  72% /opt/bin/.nvidia\n",
            "tmpfs           6.4G     0  6.4G   0% /proc/acpi\n",
            "tmpfs           6.4G     0  6.4G   0% /proc/scsi\n",
            "tmpfs           6.4G     0  6.4G   0% /sys/firmware\n",
            "drive            15G   15G  421M  98% /content/gdrive\n"
          ]
        }
      ]
    },
    {
      "cell_type": "markdown",
      "metadata": {
        "id": "74-1H-SB6U_p"
      },
      "source": [
        "## Dataset\n",
        "\n",
        "En este ejemplo de entrenamiento, vamos a utilizar el dataset Scenes15"
      ]
    },
    {
      "cell_type": "code",
      "metadata": {
        "id": "fq6c0XQy6d2X",
        "outputId": "2ff0f923-1054-4385-b415-993504413ba3",
        "colab": {
          "base_uri": "https://localhost:8080/"
        }
      },
      "source": [
        "import subprocess\n",
        "import os\n",
        "\n",
        "out=subprocess.call([\"mkdir\",pracdir])#create directory\n",
        "out=subprocess.call([\"mkdir\",datadir])#create directory\n",
        "out=subprocess.call([\"mkdir\",resudir])#create directory\n",
        "\n",
        "os.chdir(datadir) #move to directory\n",
        "\n",
        "#download and unzip the file\n",
        "!wget http://www-vpu.eps.uam.es/~jcs/bigdata/Scene15.zip -O Scene15.zip\n",
        "!unzip -o -q Scene15.zip -d .\n",
        "\n",
        "print('Dataset downloaded and unzipped')\n",
        "\n",
        "!ls -lah #show directory & file usage"
      ],
      "execution_count": null,
      "outputs": [
        {
          "output_type": "stream",
          "name": "stdout",
          "text": [
            "--2022-10-08 15:07:04--  http://www-vpu.eps.uam.es/~jcs/bigdata/Scene15.zip\n",
            "Resolving www-vpu.eps.uam.es (www-vpu.eps.uam.es)... 150.244.56.90\n",
            "Connecting to www-vpu.eps.uam.es (www-vpu.eps.uam.es)|150.244.56.90|:80... connected.\n",
            "HTTP request sent, awaiting response... 200 OK\n",
            "Length: 86395596 (82M) [application/zip]\n",
            "Saving to: ‘Scene15.zip’\n",
            "\n",
            "Scene15.zip         100%[===================>]  82.39M  17.8MB/s    in 6.1s    \n",
            "\n",
            "2022-10-08 15:07:10 (13.5 MB/s) - ‘Scene15.zip’ saved [86395596/86395596]\n",
            "\n",
            "Dataset downloaded and unzipped\n",
            "total 83M\n",
            "drwx------ 4 root root 4.0K Feb 28  2018 Scene15\n",
            "-rw------- 1 root root  83M Feb 28  2018 Scene15.zip\n"
          ]
        }
      ]
    },
    {
      "cell_type": "markdown",
      "metadata": {
        "id": "Acnx8c5Q3n4K"
      },
      "source": [
        "Parametros para la generación del dataset"
      ]
    },
    {
      "cell_type": "code",
      "metadata": {
        "id": "R6Q0dZw6Hq2E"
      },
      "source": [
        "import os\n",
        "import torch\n",
        "from torchvision import datasets\n",
        "import torchvision.transforms as transforms\n",
        "\n",
        "#path to the downloaded dataset\n",
        "dataset_dir = datadir + '/Scene15/'\n",
        "\n",
        "#number of samples/images per group\n",
        "batch_size=4\n",
        "\n",
        "#data transformation\n",
        "Resizing_factor = (128,128)\n",
        "transform = transforms.Compose([ transforms.Resize(size=Resizing_factor),                                 \n",
        "                                transforms.ToTensor()                                \n",
        "                                ])\n",
        "\n",
        "#list & load images\n",
        "image_datasets = {x: datasets.ImageFolder(os.path.join(dataset_dir, x), transform) for x in ['train', 'val']}\n",
        "class_names = image_datasets['train'].classes\n",
        "\n",
        "#load & convert images to tensors in Python\n",
        "dataloaders = {x: torch.utils.data.DataLoader(image_datasets[x], batch_size, shuffle=True, num_workers=2) for x in ['train', 'val']}"
      ],
      "execution_count": null,
      "outputs": []
    },
    {
      "cell_type": "markdown",
      "metadata": {
        "id": "7QK8uZt7CCRb"
      },
      "source": [
        "## Creación de la red\n",
        "\n",
        "A continuación, creamos una red tipo Lenet (modificada para soportar imágenes distintas a 32x32)"
      ]
    },
    {
      "cell_type": "code",
      "metadata": {
        "id": "HWEfU3PqCRCV",
        "outputId": "549974a8-780d-4a58-e888-72226b32bede",
        "colab": {
          "base_uri": "https://localhost:8080/"
        }
      },
      "source": [
        "import os\n",
        "os.chdir(tmpdir) #move to directory\n",
        "\n",
        "#runs script and keeps variables\n",
        "%run -i ./utils/mylenet.py\n",
        "\n",
        "# get some random training images to initialize network\n",
        "images, labels = iter(dataloaders['train']).next()\n",
        "\n",
        "net = Net(input_shape=images[0].size(), num_outputs=len(class_names))\n",
        "print(net)\n",
        "\n",
        "print(\"Network ready to train!\")"
      ],
      "execution_count": null,
      "outputs": [
        {
          "output_type": "stream",
          "name": "stdout",
          "text": [
            "Net(\n",
            "  (conv1): Conv2d(3, 6, kernel_size=(5, 5), stride=(1, 1))\n",
            "  (pool): MaxPool2d(kernel_size=2, stride=2, padding=0, dilation=1, ceil_mode=False)\n",
            "  (conv2): Conv2d(6, 16, kernel_size=(5, 5), stride=(1, 1))\n",
            "  (fc1): Linear(in_features=13456, out_features=120, bias=True)\n",
            "  (fc2): Linear(in_features=120, out_features=84, bias=True)\n",
            "  (fc3): Linear(in_features=84, out_features=15, bias=True)\n",
            ")\n",
            "Network ready to train!\n"
          ]
        }
      ]
    },
    {
      "cell_type": "markdown",
      "metadata": {
        "id": "umau1YMBKeN_"
      },
      "source": [
        "## Definir una función de coste/optimizador\n",
        "\n",
        "En este ejemplo utilizamos Cross-Entropy para medir la precisión de nuestro clasificador y SGD como optimizador."
      ]
    },
    {
      "cell_type": "code",
      "metadata": {
        "id": "kQDA6EkKKem_"
      },
      "source": [
        "import torch.optim as optim\n",
        "import torch.nn as nn\n",
        "\n",
        "criterion = nn.CrossEntropyLoss()\n",
        "optimizer = optim.SGD(net.parameters(), lr=0.001, momentum=0.9)"
      ],
      "execution_count": null,
      "outputs": []
    },
    {
      "cell_type": "markdown",
      "metadata": {
        "id": "GaYSTVfOK1lD"
      },
      "source": [
        "## Entrenar la red\n",
        "\n",
        "Ejecución iterativa sobre los datos de entrenamiento/test y actualización de los pesos"
      ]
    },
    {
      "cell_type": "code",
      "metadata": {
        "id": "5jcjp9XGLAeR",
        "outputId": "c18aa7d2-d3eb-4bd7-e21d-3872aef25cb7",
        "colab": {
          "base_uri": "https://localhost:8080/"
        }
      },
      "source": [
        "import time\n",
        "import numpy as np\n",
        "from torch.autograd import Variable\n",
        "\n",
        "display_batch_iter = 100\n",
        "number_epochs = 30\n",
        "\n",
        "epoch_loss =  np.zeros((number_epochs,1))\n",
        "epoch_train_acc =  np.zeros((number_epochs,1))\n",
        "epoch_test_acc =  np.zeros((number_epochs,1))  \n",
        "train_time =  0.0\n",
        "\n",
        "Ntrain = len(image_datasets['train']) #number of samples for training\n",
        "Ntest = len(image_datasets['val']) #number of samples for test/validation\n",
        "    \n",
        "device = torch.device(\"cpu\") #CPU mode for training\n",
        "\n",
        "start = time.time()\n",
        "\n",
        "print('Training in CPUmode #epochs=%d #batches=%d batchsize=%d' % (number_epochs, len(dataloaders['train']),batch_size))\n",
        "print('**** Printing loss every %5d batches ****' % (display_batch_iter))  \n",
        "for epoch in range(number_epochs):  # loop over the dataset multiple times\n",
        "    running_loss = 0.0\n",
        "    for i, data in enumerate(dataloaders['train'], 0):\n",
        "        # get the inputs\n",
        "        inputs, labels = data\n",
        "\n",
        "        # wrap them in Variable\n",
        "        inputs, labels = Variable(inputs), Variable(labels)\n",
        "\n",
        "        # zero the parameter gradients\n",
        "        optimizer.zero_grad()\n",
        "\n",
        "        # forward + backward + optimize\n",
        "        outputs = net(inputs)\n",
        "        loss = criterion(outputs, labels)\n",
        "        loss.backward()\n",
        "        optimizer.step()\n",
        "\n",
        "        # print statistics\n",
        "        running_loss += loss.data.numpy()\n",
        "        epoch_loss[epoch] += loss.data.numpy()\n",
        "        if i % display_batch_iter == display_batch_iter-1:    # print every XXX mini-batches\n",
        "            print('[%d, %5d] loss: %.3f' % (epoch + 1, i + 1, running_loss / display_batch_iter))\n",
        "            running_loss = 0.0\n",
        "\n",
        "    # compute accuracy on training set\n",
        "    correct1 = 0.0\n",
        "    for data in dataloaders['train']:    \n",
        "      images, labels = data\n",
        "      outputs = net(Variable(images))\n",
        "      _, predicted = torch.max(outputs.data, 1)\n",
        "      correct1 += (predicted == labels).sum()\n",
        "      \n",
        "    # compute accuracy on test set\n",
        "    correct2 = 0.0\n",
        "    for data in dataloaders['val']:    \n",
        "      images, labels = data\n",
        "      outputs = net(Variable(images))\n",
        "      _, predicted = torch.max(outputs.data, 1)\n",
        "      correct2 += (predicted == labels).sum()\n",
        "    \n",
        "    epoch_loss[epoch] = epoch_loss[epoch] / len(dataloaders['train']) # average loss for each epoch\n",
        "    epoch_train_acc[epoch] =  100 * correct1 / Ntrain   # average train accuracy for each epoch\n",
        "    epoch_test_acc[epoch]  =  100 * correct2 / Ntest    # average test accuracy for each epoch\n",
        "    print('Epoch %02d, loss: %1.3f, accuracy train: %2.3f %% (correct %04d total %04d ) accuracy test: %2.3f %% (correct %04d total %04d )' % (epoch + 1, epoch_loss[epoch], epoch_train_acc[epoch], correct1, Ntrain, epoch_test_acc[epoch], correct2, Ntest ))\n",
        "    \n",
        "train_time = time.time() - start\n",
        "print('Finished Training (' + str(train_time) + ' secs)')"
      ],
      "execution_count": null,
      "outputs": [
        {
          "output_type": "stream",
          "name": "stdout",
          "text": [
            "Training in CPUmode #epochs=30 #batches=375 batchsize=4\n",
            "**** Printing loss every   100 batches ****\n",
            "[1,   100] loss: 2.711\n",
            "[1,   200] loss: 2.709\n",
            "[1,   300] loss: 2.707\n",
            "Epoch 01, loss: 2.707, accuracy train: 7.333 % (correct 0110 total 1500 ) accuracy test: 7.571 % (correct 0226 total 2985 )\n",
            "[2,   100] loss: 2.684\n",
            "[2,   200] loss: 2.680\n",
            "[2,   300] loss: 2.649\n",
            "Epoch 02, loss: 2.655, accuracy train: 12.733 % (correct 0191 total 1500 ) accuracy test: 9.883 % (correct 0295 total 2985 )\n",
            "[3,   100] loss: 2.603\n",
            "[3,   200] loss: 2.583\n",
            "[3,   300] loss: 2.540\n",
            "Epoch 03, loss: 2.568, accuracy train: 18.000 % (correct 0270 total 1500 ) accuracy test: 12.965 % (correct 0387 total 2985 )\n",
            "[4,   100] loss: 2.513\n",
            "[4,   200] loss: 2.470\n",
            "[4,   300] loss: 2.469\n",
            "Epoch 04, loss: 2.498, accuracy train: 19.467 % (correct 0292 total 1500 ) accuracy test: 15.578 % (correct 0465 total 2985 )\n",
            "[5,   100] loss: 2.473\n",
            "[5,   200] loss: 2.445\n",
            "[5,   300] loss: 2.470\n",
            "Epoch 05, loss: 2.456, accuracy train: 23.133 % (correct 0347 total 1500 ) accuracy test: 18.425 % (correct 0550 total 2985 )\n",
            "[6,   100] loss: 2.391\n",
            "[6,   200] loss: 2.418\n",
            "[6,   300] loss: 2.375\n",
            "Epoch 06, loss: 2.389, accuracy train: 26.400 % (correct 0396 total 1500 ) accuracy test: 20.570 % (correct 0614 total 2985 )\n",
            "[7,   100] loss: 2.267\n",
            "[7,   200] loss: 2.259\n",
            "[7,   300] loss: 2.370\n",
            "Epoch 07, loss: 2.306, accuracy train: 28.267 % (correct 0424 total 1500 ) accuracy test: 19.464 % (correct 0581 total 2985 )\n",
            "[8,   100] loss: 2.260\n",
            "[8,   200] loss: 2.150\n",
            "[8,   300] loss: 2.100\n",
            "Epoch 08, loss: 2.162, accuracy train: 35.267 % (correct 0529 total 1500 ) accuracy test: 23.551 % (correct 0703 total 2985 )\n",
            "[9,   100] loss: 1.960\n",
            "[9,   200] loss: 1.930\n",
            "[9,   300] loss: 2.005\n",
            "Epoch 09, loss: 1.982, accuracy train: 43.733 % (correct 0656 total 1500 ) accuracy test: 26.466 % (correct 0790 total 2985 )\n",
            "[10,   100] loss: 1.765\n",
            "[10,   200] loss: 1.806\n",
            "[10,   300] loss: 1.828\n",
            "Epoch 10, loss: 1.783, accuracy train: 47.800 % (correct 0717 total 1500 ) accuracy test: 29.179 % (correct 0871 total 2985 )\n",
            "[11,   100] loss: 1.462\n",
            "[11,   200] loss: 1.432\n",
            "[11,   300] loss: 1.508\n",
            "Epoch 11, loss: 1.479, accuracy train: 64.800 % (correct 0972 total 1500 ) accuracy test: 28.107 % (correct 0839 total 2985 )\n",
            "[12,   100] loss: 0.979\n",
            "[12,   200] loss: 1.104\n",
            "[12,   300] loss: 1.108\n",
            "Epoch 12, loss: 1.101, accuracy train: 77.467 % (correct 1162 total 1500 ) accuracy test: 28.509 % (correct 0851 total 2985 )\n",
            "[13,   100] loss: 0.709\n",
            "[13,   200] loss: 0.642\n",
            "[13,   300] loss: 0.951\n",
            "Epoch 13, loss: 0.824, accuracy train: 83.867 % (correct 1258 total 1500 ) accuracy test: 29.648 % (correct 0885 total 2985 )\n",
            "[14,   100] loss: 0.483\n",
            "[14,   200] loss: 0.627\n",
            "[14,   300] loss: 0.732\n",
            "Epoch 14, loss: 0.651, accuracy train: 89.000 % (correct 1335 total 1500 ) accuracy test: 30.687 % (correct 0916 total 2985 )\n",
            "[15,   100] loss: 0.432\n",
            "[15,   200] loss: 0.458\n",
            "[15,   300] loss: 0.492\n",
            "Epoch 15, loss: 0.455, accuracy train: 93.333 % (correct 1400 total 1500 ) accuracy test: 27.035 % (correct 0807 total 2985 )\n",
            "[16,   100] loss: 0.231\n",
            "[16,   200] loss: 0.305\n",
            "[16,   300] loss: 0.405\n",
            "Epoch 16, loss: 0.318, accuracy train: 95.467 % (correct 1432 total 1500 ) accuracy test: 27.873 % (correct 0832 total 2985 )\n",
            "[17,   100] loss: 0.116\n",
            "[17,   200] loss: 0.333\n",
            "[17,   300] loss: 0.266\n",
            "Epoch 17, loss: 0.256, accuracy train: 95.267 % (correct 1429 total 1500 ) accuracy test: 29.849 % (correct 0891 total 2985 )\n",
            "[18,   100] loss: 0.278\n",
            "[18,   200] loss: 0.318\n",
            "[18,   300] loss: 0.306\n",
            "Epoch 18, loss: 0.299, accuracy train: 95.333 % (correct 1430 total 1500 ) accuracy test: 29.782 % (correct 0889 total 2985 )\n",
            "[19,   100] loss: 0.151\n",
            "[19,   200] loss: 0.085\n",
            "[19,   300] loss: 0.153\n",
            "Epoch 19, loss: 0.138, accuracy train: 96.333 % (correct 1445 total 1500 ) accuracy test: 30.921 % (correct 0923 total 2985 )\n",
            "[20,   100] loss: 0.094\n",
            "[20,   200] loss: 0.105\n",
            "[20,   300] loss: 0.070\n",
            "Epoch 20, loss: 0.085, accuracy train: 99.333 % (correct 1490 total 1500 ) accuracy test: 30.017 % (correct 0896 total 2985 )\n",
            "[21,   100] loss: 0.024\n",
            "[21,   200] loss: 0.023\n",
            "[21,   300] loss: 0.040\n",
            "Epoch 21, loss: 0.026, accuracy train: 99.800 % (correct 1497 total 1500 ) accuracy test: 29.313 % (correct 0875 total 2985 )\n",
            "[22,   100] loss: 0.009\n",
            "[22,   200] loss: 0.008\n",
            "[22,   300] loss: 0.008\n",
            "Epoch 22, loss: 0.008, accuracy train: 100.000 % (correct 1500 total 1500 ) accuracy test: 29.950 % (correct 0894 total 2985 )\n",
            "[23,   100] loss: 0.005\n",
            "[23,   200] loss: 0.003\n",
            "[23,   300] loss: 0.002\n",
            "Epoch 23, loss: 0.004, accuracy train: 100.000 % (correct 1500 total 1500 ) accuracy test: 31.089 % (correct 0928 total 2985 )\n",
            "[24,   100] loss: 0.003\n",
            "[24,   200] loss: 0.001\n",
            "[24,   300] loss: 0.002\n",
            "Epoch 24, loss: 0.002, accuracy train: 100.000 % (correct 1500 total 1500 ) accuracy test: 31.089 % (correct 0928 total 2985 )\n",
            "[25,   100] loss: 0.001\n",
            "[25,   200] loss: 0.001\n",
            "[25,   300] loss: 0.001\n",
            "Epoch 25, loss: 0.001, accuracy train: 100.000 % (correct 1500 total 1500 ) accuracy test: 31.189 % (correct 0931 total 2985 )\n",
            "[26,   100] loss: 0.001\n",
            "[26,   200] loss: 0.001\n",
            "[26,   300] loss: 0.000\n",
            "Epoch 26, loss: 0.001, accuracy train: 100.000 % (correct 1500 total 1500 ) accuracy test: 31.055 % (correct 0927 total 2985 )\n",
            "[27,   100] loss: 0.000\n",
            "[27,   200] loss: 0.001\n",
            "[27,   300] loss: 0.001\n",
            "Epoch 27, loss: 0.001, accuracy train: 100.000 % (correct 1500 total 1500 ) accuracy test: 31.122 % (correct 0929 total 2985 )\n",
            "[28,   100] loss: 0.000\n",
            "[28,   200] loss: 0.001\n",
            "[28,   300] loss: 0.000\n",
            "Epoch 28, loss: 0.001, accuracy train: 100.000 % (correct 1500 total 1500 ) accuracy test: 31.055 % (correct 0927 total 2985 )\n",
            "[29,   100] loss: 0.000\n",
            "[29,   200] loss: 0.000\n",
            "[29,   300] loss: 0.001\n",
            "Epoch 29, loss: 0.000, accuracy train: 100.000 % (correct 1500 total 1500 ) accuracy test: 31.089 % (correct 0928 total 2985 )\n",
            "[30,   100] loss: 0.001\n",
            "[30,   200] loss: 0.000\n",
            "[30,   300] loss: 0.000\n",
            "Epoch 30, loss: 0.000, accuracy train: 100.000 % (correct 1500 total 1500 ) accuracy test: 31.122 % (correct 0929 total 2985 )\n",
            "Finished Training (884.5876877307892 secs)\n"
          ]
        }
      ]
    },
    {
      "cell_type": "markdown",
      "metadata": {
        "id": "84AJx1XzjfRm"
      },
      "source": [
        "Finalmente podemos guardar los datos tras el entrenamiento en nuestra carpeta de Google Drive"
      ]
    },
    {
      "cell_type": "code",
      "metadata": {
        "id": "GRv6KngBjkha",
        "outputId": "102eaf4c-817c-4f82-80ec-17e766ba1213",
        "colab": {
          "base_uri": "https://localhost:8080/"
        }
      },
      "source": [
        "#save results in a single file\n",
        "import pickle\n",
        "import os\n",
        "os.chdir(pracdir) #move to drive directory\n",
        "\n",
        "# Saving the objects:\n",
        "f = open('training_baseline_cpu_results_epochs_'+ str(number_epochs) +'.pkl', 'wb')\n",
        "pickle.dump([epoch_train_acc, epoch_test_acc, epoch_loss, train_time, number_epochs, batch_size], f)\n",
        "f.close()\n",
        "print('Saved data')"
      ],
      "execution_count": null,
      "outputs": [
        {
          "output_type": "stream",
          "name": "stdout",
          "text": [
            "Saved data\n"
          ]
        }
      ]
    },
    {
      "cell_type": "markdown",
      "metadata": {
        "id": "i9fHv1kN70nG"
      },
      "source": [
        "Posteriormente, si quisieramos recuperar las variables/objetos para analizar, utilizaremos el siguiente código"
      ]
    },
    {
      "cell_type": "code",
      "metadata": {
        "id": "iyIVJxTi7p1s",
        "outputId": "2dde2f6d-5440-4b9b-ae29-dc3ccf1ed9a8",
        "colab": {
          "base_uri": "https://localhost:8080/",
          "height": 222
        }
      },
      "source": [
        "#get results from a single file\n",
        "import pickle\n",
        "import os\n",
        "os.chdir(pracdir) #move to drive directory\n",
        "\n",
        "# Load the objects\n",
        "f = open('training_baseline_results_epochs_30.pkl', 'rb')\n",
        "epoch_train_acc, epoch_test_acc, epoch_loss, train_time, number_epochs, batch_size = pickle.load(f)"
      ],
      "execution_count": null,
      "outputs": [
        {
          "output_type": "error",
          "ename": "FileNotFoundError",
          "evalue": "ignored",
          "traceback": [
            "\u001b[0;31m---------------------------------------------------------------------------\u001b[0m",
            "\u001b[0;31mFileNotFoundError\u001b[0m                         Traceback (most recent call last)",
            "\u001b[0;32m./utils/mylenet.py\u001b[0m in \u001b[0;36m<module>\u001b[0;34m\u001b[0m\n\u001b[1;32m      5\u001b[0m \u001b[0;34m\u001b[0m\u001b[0m\n\u001b[1;32m      6\u001b[0m \u001b[0;31m# Load the objects\u001b[0m\u001b[0;34m\u001b[0m\u001b[0;34m\u001b[0m\u001b[0;34m\u001b[0m\u001b[0m\n\u001b[0;32m----> 7\u001b[0;31m \u001b[0mf\u001b[0m \u001b[0;34m=\u001b[0m \u001b[0mopen\u001b[0m\u001b[0;34m(\u001b[0m\u001b[0;34m'training_baseline_results_epochs_30.pkl'\u001b[0m\u001b[0;34m,\u001b[0m \u001b[0;34m'rb'\u001b[0m\u001b[0;34m)\u001b[0m\u001b[0;34m\u001b[0m\u001b[0;34m\u001b[0m\u001b[0m\n\u001b[0m\u001b[1;32m      8\u001b[0m \u001b[0mepoch_train_acc\u001b[0m\u001b[0;34m,\u001b[0m \u001b[0mepoch_test_acc\u001b[0m\u001b[0;34m,\u001b[0m \u001b[0mepoch_loss\u001b[0m\u001b[0;34m,\u001b[0m \u001b[0mtrain_time\u001b[0m\u001b[0;34m,\u001b[0m \u001b[0mnumber_epochs\u001b[0m\u001b[0;34m,\u001b[0m \u001b[0mbatch_size\u001b[0m \u001b[0;34m=\u001b[0m \u001b[0mpickle\u001b[0m\u001b[0;34m.\u001b[0m\u001b[0mload\u001b[0m\u001b[0;34m(\u001b[0m\u001b[0mf\u001b[0m\u001b[0;34m)\u001b[0m\u001b[0;34m\u001b[0m\u001b[0;34m\u001b[0m\u001b[0m\n",
            "\u001b[0;31mFileNotFoundError\u001b[0m: [Errno 2] No such file or directory: 'training_baseline_results_epochs_30.pkl'"
          ]
        }
      ]
    },
    {
      "cell_type": "markdown",
      "metadata": {
        "id": "WIpYsUwtmk9v"
      },
      "source": [
        "# Resultados tras entrenamiento \n",
        "\n"
      ]
    },
    {
      "cell_type": "markdown",
      "metadata": {
        "id": "E2kqMm6FmuMT"
      },
      "source": [
        "## Análisis de precisión y función de pérdidas\n",
        "A continuación pintamos las variables que hemos acumulado durante el entrenamiento."
      ]
    },
    {
      "cell_type": "code",
      "metadata": {
        "id": "6vlAL68xjl1-",
        "outputId": "22a791a7-bc2b-4faf-8216-7fa610690aa9",
        "colab": {
          "base_uri": "https://localhost:8080/",
          "height": 295
        }
      },
      "source": [
        "import matplotlib.pyplot as plt\n",
        "\n",
        "t = range(number_epochs)\n",
        "lineObjects =plt.plot(t,epoch_train_acc,'r--',t,epoch_test_acc,'bs')\n",
        "plt.legend(lineObjects, ('train', 'test'))\n",
        "plt.ylabel('Accuracy (%)')\n",
        "plt.xlabel('Epoch')\n",
        "plt.title('Accuracy results') \n",
        "\n",
        "import os\n",
        "os.chdir(pracdir) #move to drive directory for saving data\n",
        "\n",
        "plt.savefig('training_accuracy_baseline__epochs'+ str(number_epochs) + '_CPU.png',bbox_inches='tight')#call this function before \"plt.show()\"\n",
        "plt.show()"
      ],
      "execution_count": null,
      "outputs": [
        {
          "output_type": "display_data",
          "data": {
            "text/plain": [
              "<Figure size 432x288 with 1 Axes>"
            ],
            "image/png": "[encoded data removed]"
          },
          "metadata": {
            "needs_background": "light"
          }
        }
      ]
    },
    {
      "cell_type": "code",
      "metadata": {
        "id": "AlaiffYgmOok",
        "outputId": "7672b38a-5475-456f-9f91-9accb504ab3b",
        "colab": {
          "base_uri": "https://localhost:8080/",
          "height": 295
        }
      },
      "source": [
        "import matplotlib.pyplot as plt\n",
        "\n",
        "t = range(number_epochs)\n",
        "plt.plot(t,epoch_loss,'r--')\n",
        "plt.ylabel('Loss')\n",
        "plt.xlabel('Epoch')\n",
        "plt.title('Epoch loss for training') \n",
        "plt.show()"
      ],
      "execution_count": null,
      "outputs": [
        {
          "output_type": "display_data",
          "data": {
            "text/plain": [
              "<Figure size 432x288 with 1 Axes>"
            ],
            "image/png": "[encoded data removed]"
          },
          "metadata": {
            "needs_background": "light"
          }
        }
      ]
    },
    {
      "cell_type": "markdown",
      "metadata": {
        "id": "evgVriqsXN7Q"
      },
      "source": [
        "## Ejemplos de resultado\n",
        "\n",
        "Es recomendable repasar los resultados obtenidos tanto gráficamente como estadísticamente.\n",
        "\n",
        "Primero, seleccionamos algunos datos y visualmente verificamos errores:\n"
      ]
    },
    {
      "cell_type": "code",
      "metadata": {
        "id": "79GFRR-XQjdc",
        "outputId": "6266c1c0-5f13-4315-e551-be78f5b2310f",
        "colab": {
          "base_uri": "https://localhost:8080/",
          "height": 172
        }
      },
      "source": [
        "import torchvision\n",
        "\n",
        "# function to show an image\n",
        "def imshow(img):\n",
        "    #img = img / 2 + 0.5  # unnormalize if normalization is done in transform\n",
        "    npimg = img.numpy()\n",
        "    plt.imshow(np.transpose(npimg, (1, 2, 0)))\n",
        "    \n",
        "#get sample data\n",
        "images, labels = iter(dataloaders['val']).next()\n",
        "   \n",
        "# print images\n",
        "imshow(torchvision.utils.make_grid(images))\n",
        "print('GroundTruth: ', ' '.join('%5s' % class_names[labels[j]] for j in range(batch_size)))\n",
        "\n",
        "outputs = net(Variable(images))\n",
        "_, predicted = torch.max(outputs.data, 1)\n",
        "\n",
        "print('Predicted: ', ' '.join('%5s' % class_names[predicted[j]] for j in range(batch_size)))"
      ],
      "execution_count": null,
      "outputs": [
        {
          "output_type": "stream",
          "name": "stdout",
          "text": [
            "GroundTruth:  TallBuilding LivingRoom Mountain OpenCountry\n",
            "Predicted:  TallBuilding Kitchen Mountain OpenCountry\n"
          ]
        },
        {
          "output_type": "display_data",
          "data": {
            "text/plain": [
              "<Figure size 432x288 with 1 Axes>"
            ],
            "image/png": "[encoded data removed]"
          },
          "metadata": {
            "needs_background": "light"
          }
        }
      ]
    },
    {
      "cell_type": "markdown",
      "metadata": {
        "id": "h7fYSZtMXdY-"
      },
      "source": [
        "Posteriormente estudiamos los resultados para cada clase"
      ]
    },
    {
      "cell_type": "code",
      "metadata": {
        "id": "Z6Qgu3X0QtIL",
        "outputId": "40531a9a-bba4-4047-c54b-ada371ca4d7a",
        "colab": {
          "base_uri": "https://localhost:8080/"
        }
      },
      "source": [
        "class_correct = list(0. for i in range(len(class_names)))\n",
        "class_total = list(0. for i in range(len(class_names)))\n",
        "for data in dataloaders['val']:\n",
        "    images, labels = data\n",
        "    outputs = net(Variable(images))\n",
        "    _, predicted = torch.max(outputs.data, 1)\n",
        "    c = (predicted == labels).squeeze()\n",
        "    for i in range(len(labels)):\n",
        "        label = labels[i]\n",
        "        class_correct[label] += float(c.numpy().reshape(1,c.numpy().size)[0,i])\n",
        "        class_total[label] += 1\n",
        "\n",
        "class_totalT = 0\n",
        "for i in range(len(class_names)):\n",
        "    print('Accuracy of %5s : %2d %%' % (class_names[i], 100 * class_correct[i] / class_total[i]))\n",
        "    class_totalT += class_total[i]\n",
        "print('Total test data = %d images' % (class_totalT))"
      ],
      "execution_count": null,
      "outputs": [
        {
          "output_type": "stream",
          "name": "stdout",
          "text": [
            "Accuracy of Bedroom : 18 %\n",
            "Accuracy of Coast : 46 %\n",
            "Accuracy of Forest : 28 %\n",
            "Accuracy of Highway : 56 %\n",
            "Accuracy of Industrial : 14 %\n",
            "Accuracy of InsideCity : 11 %\n",
            "Accuracy of Kitchen : 17 %\n",
            "Accuracy of LivingRoom : 19 %\n",
            "Accuracy of Mountain : 22 %\n",
            "Accuracy of Office : 24 %\n",
            "Accuracy of OpenCountry : 42 %\n",
            "Accuracy of Store : 19 %\n",
            "Accuracy of Street : 44 %\n",
            "Accuracy of Suburb : 41 %\n",
            "Accuracy of TallBuilding : 42 %\n",
            "Total test data = 2985 images\n"
          ]
        }
      ]
    },
    {
      "cell_type": "code",
      "source": [],
      "metadata": {
        "id": "Ue4JZItGPT64"
      },
      "execution_count": null,
      "outputs": []
    }
  ]
}