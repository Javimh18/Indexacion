{
  "nbformat": 4,
  "nbformat_minor": 0,
  "metadata": {
    "colab": {
      "provenance": [],
      "collapsed_sections": []
    },
    "kernelspec": {
      "name": "python3",
      "display_name": "Python 3"
    },
    "accelerator": "GPU",
    "language_info": {
      "name": "python"
    }
  },
  "cells": [
    {
      "cell_type": "markdown",
      "metadata": {
        "id": "MbrPXkSGlcmB"
      },
      "source": [
        "#Máster en Big Data y Data Science: Ciencia e Ingeniería de Datos\n",
        "### ASIGNATURA: Indexación, búsqueda y análisis en repositorios multimedia\n",
        "### PARTE: Multimedia (imagen, video)\n",
        "### Práctica 1: Introducción al diseño de redes neuronales convolucionales con Pytorch mediante Google Colaboratory\n",
        "\n",
        "---\n",
        "\n",
        "Autor: Juan C. SanMiguel (juancarlos.sanmiguel@uam.es), Universidad Autónoma de Madrid\n",
        "\n",
        "Fecha: Febrero 2018"
      ]
    },
    {
      "cell_type": "markdown",
      "metadata": {
        "id": "H7_EXhmb8zwb"
      },
      "source": [
        "# 4. Entrenamiento de una red con CPU (training)"
      ]
    },
    {
      "cell_type": "markdown",
      "metadata": {
        "id": "TH6WlZfx_L3n"
      },
      "source": [
        "En este script, se utilizarán las siguientes rutas"
      ]
    },
    {
      "cell_type": "code",
      "metadata": {
        "id": "qSZZsS4i_KP1"
      },
      "source": [
        "drivedir = '/content/gdrive'\n",
        "tmpdir = '/content/tmp/' #temporal location to download and store the dataset\n",
        "\n",
        "pracdir = drivedir + '/My Drive/p1indexacion' #directory for practica 1 indexacion\n",
        "datadir = pracdir + '/data' #directory for storing datasets\n",
        "resudir = pracdir + '/result' #directory to save results"
      ],
      "execution_count": 1,
      "outputs": []
    },
    {
      "cell_type": "markdown",
      "metadata": {
        "id": "UOv5AC7z9_Gm"
      },
      "source": [
        "## Preparación del entorno de trabajo: Pytorch\n",
        "\n",
        "A continuación tiene un conjunto de instrucciones que instalan el software necesario para esta parte de la práctica.\n",
        "\n",
        "Recuerde que este código es compatible con Python 3."
      ]
    },
    {
      "cell_type": "code",
      "metadata": {
        "id": "Cq7viwqX-D5j",
        "outputId": "36b68549-6339-400d-af1f-6731266409f8",
        "colab": {
          "base_uri": "https://localhost:8080/"
        }
      },
      "source": [
        "!pip3 install torch==1.10.0+cu111 torchvision==0.11.1+cu111 torchaudio==0.10.0+cu111 -f https://download.pytorch.org/whl/torch_stable.html"
      ],
      "execution_count": 2,
      "outputs": [
        {
          "output_type": "stream",
          "name": "stdout",
          "text": [
            "Looking in indexes: https://pypi.org/simple, https://us-python.pkg.dev/colab-wheels/public/simple/\n",
            "Looking in links: https://download.pytorch.org/whl/torch_stable.html\n",
            "Collecting torch==1.10.0+cu111\n",
            "  Downloading https://download.pytorch.org/whl/cu111/torch-1.10.0%2Bcu111-cp37-cp37m-linux_x86_64.whl (2137.6 MB)\n",
            "\u001b[K     |████████████▌                   | 834.1 MB 1.4 MB/s eta 0:15:56tcmalloc: large alloc 1147494400 bytes == 0x3a0e8000 @  0x7fe4506a1615 0x58e046 0x4f2e5e 0x4d19df 0x51b31c 0x5b41c5 0x58f49e 0x51b221 0x5b41c5 0x58f49e 0x51837f 0x4cfabb 0x517aa0 0x4cfabb 0x517aa0 0x4cfabb 0x517aa0 0x4ba70a 0x538136 0x590055 0x51b180 0x5b41c5 0x58f49e 0x51837f 0x5b41c5 0x58f49e 0x51740e 0x58f2a7 0x517947 0x5b41c5 0x58f49e\n",
            "\u001b[K     |███████████████▉                | 1055.7 MB 1.3 MB/s eta 0:13:49tcmalloc: large alloc 1434370048 bytes == 0x7e73e000 @  0x7fe4506a1615 0x58e046 0x4f2e5e 0x4d19df 0x51b31c 0x5b41c5 0x58f49e 0x51b221 0x5b41c5 0x58f49e 0x51837f 0x4cfabb 0x517aa0 0x4cfabb 0x517aa0 0x4cfabb 0x517aa0 0x4ba70a 0x538136 0x590055 0x51b180 0x5b41c5 0x58f49e 0x51837f 0x5b41c5 0x58f49e 0x51740e 0x58f2a7 0x517947 0x5b41c5 0x58f49e\n",
            "\u001b[K     |████████████████████            | 1336.2 MB 1.3 MB/s eta 0:10:31tcmalloc: large alloc 1792966656 bytes == 0x3570000 @  0x7fe4506a1615 0x58e046 0x4f2e5e 0x4d19df 0x51b31c 0x5b41c5 0x58f49e 0x51b221 0x5b41c5 0x58f49e 0x51837f 0x4cfabb 0x517aa0 0x4cfabb 0x517aa0 0x4cfabb 0x517aa0 0x4ba70a 0x538136 0x590055 0x51b180 0x5b41c5 0x58f49e 0x51837f 0x5b41c5 0x58f49e 0x51740e 0x58f2a7 0x517947 0x5b41c5 0x58f49e\n",
            "\u001b[K     |█████████████████████████▎      | 1691.1 MB 1.2 MB/s eta 0:06:06tcmalloc: large alloc 2241208320 bytes == 0x6e358000 @  0x7fe4506a1615 0x58e046 0x4f2e5e 0x4d19df 0x51b31c 0x5b41c5 0x58f49e 0x51b221 0x5b41c5 0x58f49e 0x51837f 0x4cfabb 0x517aa0 0x4cfabb 0x517aa0 0x4cfabb 0x517aa0 0x4ba70a 0x538136 0x590055 0x51b180 0x5b41c5 0x58f49e 0x51837f 0x5b41c5 0x58f49e 0x51740e 0x58f2a7 0x517947 0x5b41c5 0x58f49e\n",
            "\u001b[K     |████████████████████████████████| 2137.6 MB 1.2 MB/s eta 0:00:01tcmalloc: large alloc 2137645056 bytes == 0xf3cba000 @  0x7fe4506a01e7 0x4b2150 0x4b21dc 0x58e046 0x4f2e5e 0x4d19df 0x51b31c 0x5b41c5 0x58f49e 0x517947 0x5b41c5 0x58f49e 0x517947 0x5b41c5 0x58f49e 0x517947 0x5b41c5 0x58f49e 0x517947 0x5b41c5 0x58f49e 0x517947 0x58f2a7 0x517947 0x5b41c5 0x58f49e 0x51837f 0x5b41c5 0x58f49e 0x51837f 0x5b41c5\n",
            "tcmalloc: large alloc 2672058368 bytes == 0x1e780e000 @  0x7fe4506a1615 0x58e046 0x4f2e5e 0x4d19df 0x51b31c 0x5b41c5 0x58f49e 0x517947 0x5b41c5 0x58f49e 0x517947 0x5b41c5 0x58f49e 0x517947 0x5b41c5 0x58f49e 0x517947 0x5b41c5 0x58f49e 0x517947 0x58f2a7 0x517947 0x5b41c5 0x58f49e 0x51837f 0x5b41c5 0x58f49e 0x51837f 0x5b41c5 0x4ba899 0x4d29f9\n",
            "\u001b[K     |████████████████████████████████| 2137.6 MB 402 bytes/s \n",
            "\u001b[?25hCollecting torchvision==0.11.1+cu111\n",
            "  Downloading https://download.pytorch.org/whl/cu111/torchvision-0.11.1%2Bcu111-cp37-cp37m-linux_x86_64.whl (24.5 MB)\n",
            "\u001b[K     |████████████████████████████████| 24.5 MB 1.3 MB/s \n",
            "\u001b[?25hCollecting torchaudio==0.10.0+cu111\n",
            "  Downloading https://download.pytorch.org/whl/cu111/torchaudio-0.10.0%2Bcu111-cp37-cp37m-linux_x86_64.whl (2.9 MB)\n",
            "\u001b[K     |████████████████████████████████| 2.9 MB 38.9 MB/s \n",
            "\u001b[?25hRequirement already satisfied: typing-extensions in /usr/local/lib/python3.7/dist-packages (from torch==1.10.0+cu111) (4.1.1)\n",
            "Requirement already satisfied: pillow!=8.3.0,>=5.3.0 in /usr/local/lib/python3.7/dist-packages (from torchvision==0.11.1+cu111) (7.1.2)\n",
            "Requirement already satisfied: numpy in /usr/local/lib/python3.7/dist-packages (from torchvision==0.11.1+cu111) (1.21.6)\n",
            "Installing collected packages: torch, torchvision, torchaudio\n",
            "  Attempting uninstall: torch\n",
            "    Found existing installation: torch 1.12.1+cu113\n",
            "    Uninstalling torch-1.12.1+cu113:\n",
            "      Successfully uninstalled torch-1.12.1+cu113\n",
            "  Attempting uninstall: torchvision\n",
            "    Found existing installation: torchvision 0.13.1+cu113\n",
            "    Uninstalling torchvision-0.13.1+cu113:\n",
            "      Successfully uninstalled torchvision-0.13.1+cu113\n",
            "  Attempting uninstall: torchaudio\n",
            "    Found existing installation: torchaudio 0.12.1+cu113\n",
            "    Uninstalling torchaudio-0.12.1+cu113:\n",
            "      Successfully uninstalled torchaudio-0.12.1+cu113\n",
            "\u001b[31mERROR: pip's dependency resolver does not currently take into account all the packages that are installed. This behaviour is the source of the following dependency conflicts.\n",
            "torchtext 0.13.1 requires torch==1.12.1, but you have torch 1.10.0+cu111 which is incompatible.\u001b[0m\n",
            "Successfully installed torch-1.10.0+cu111 torchaudio-0.10.0+cu111 torchvision-0.11.1+cu111\n"
          ]
        }
      ]
    },
    {
      "cell_type": "markdown",
      "metadata": {
        "id": "M84gYYV9c8RH"
      },
      "source": [
        "Descarga de ficheros adicionales"
      ]
    },
    {
      "cell_type": "code",
      "metadata": {
        "id": "0JkHG-Bnc71J",
        "outputId": "58d137f0-1229-4162-8fbb-78319b5aee9d",
        "colab": {
          "base_uri": "https://localhost:8080/"
        }
      },
      "source": [
        "import os\n",
        "import subprocess\n",
        "\n",
        "tmpdir = '/content/tmp/' #temporal location to download and store the dataset\n",
        "\n",
        "out=subprocess.call([\"mkdir\",tmpdir]) #create a empty directory\n",
        "os.chdir(tmpdir) #move to directory\n",
        "\n",
        "!wget http://www-vpu.eps.uam.es/~jcs/bigdata/utils.zip -O utils.zip #download utils\n",
        "!unzip -o -q utils.zip -d . #unzip file"
      ],
      "execution_count": 3,
      "outputs": [
        {
          "output_type": "stream",
          "name": "stdout",
          "text": [
            "--2022-10-08 18:22:21--  http://www-vpu.eps.uam.es/~jcs/bigdata/utils.zip\n",
            "Resolving www-vpu.eps.uam.es (www-vpu.eps.uam.es)... 150.244.56.90\n",
            "Connecting to www-vpu.eps.uam.es (www-vpu.eps.uam.es)|150.244.56.90|:80... connected.\n",
            "HTTP request sent, awaiting response... 200 OK\n",
            "Length: 2452 (2.4K) [application/zip]\n",
            "Saving to: ‘utils.zip’\n",
            "\n",
            "utils.zip           100%[===================>]   2.39K  --.-KB/s    in 0s      \n",
            "\n",
            "2022-10-08 18:22:22 (329 MB/s) - ‘utils.zip’ saved [2452/2452]\n",
            "\n"
          ]
        }
      ]
    },
    {
      "cell_type": "markdown",
      "metadata": {
        "id": "9zoOE4V7l5tS"
      },
      "source": [
        "## Preparación del entorno de trabajo: Google Drive\n",
        "\n",
        "Ejecute el siguiente código para enlazar este script con su cuenta de Google Drive. Los datos que se generen aquí se guardarán en su carpeta Drive para posterior uso. Por defecto, la unidad de Google Drive es enlaza con el directorio **/content/drive/**."
      ]
    },
    {
      "cell_type": "code",
      "metadata": {
        "id": "YdwRGAHB3nM1",
        "outputId": "f930b79b-1c3a-4c92-ba42-e6ce034dd9dd",
        "colab": {
          "base_uri": "https://localhost:8080/"
        }
      },
      "source": [
        "from google.colab import drive\n",
        "drive.mount(drivedir)\n",
        "\n",
        "print(\"Google Drive mount completed\")\n",
        "\n",
        "#check correct mount of drive directory\n",
        "!df -h"
      ],
      "execution_count": 4,
      "outputs": [
        {
          "output_type": "stream",
          "name": "stdout",
          "text": [
            "Mounted at /content/gdrive\n",
            "Google Drive mount completed\n",
            "Filesystem      Size  Used Avail Use% Mounted on\n",
            "overlay          79G   30G   49G  38% /\n",
            "tmpfs            64M     0   64M   0% /dev\n",
            "shm             5.7G     0  5.7G   0% /dev/shm\n",
            "/dev/root       2.0G  1.1G  910M  54% /sbin/docker-init\n",
            "tmpfs           6.4G   40K  6.4G   1% /var/colab\n",
            "/dev/sda1        50G   36G   15G  72% /opt/bin/.nvidia\n",
            "tmpfs           6.4G     0  6.4G   0% /proc/acpi\n",
            "tmpfs           6.4G     0  6.4G   0% /proc/scsi\n",
            "tmpfs           6.4G     0  6.4G   0% /sys/firmware\n",
            "drive            15G   15G  378M  98% /content/gdrive\n"
          ]
        }
      ]
    },
    {
      "cell_type": "markdown",
      "metadata": {
        "id": "74-1H-SB6U_p"
      },
      "source": [
        "## Dataset\n",
        "\n",
        "En este ejemplo de entrenamiento, vamos a utilizar el dataset Scenes15"
      ]
    },
    {
      "cell_type": "code",
      "metadata": {
        "id": "fq6c0XQy6d2X",
        "outputId": "a218f1ab-cde3-4f8a-b29d-eaa872102451",
        "colab": {
          "base_uri": "https://localhost:8080/"
        }
      },
      "source": [
        "import subprocess\n",
        "import os\n",
        "\n",
        "out=subprocess.call([\"mkdir\",pracdir])#create directory\n",
        "out=subprocess.call([\"mkdir\",datadir])#create directory\n",
        "out=subprocess.call([\"mkdir\",resudir])#create directory\n",
        "\n",
        "os.chdir(datadir) #move to directory\n",
        "\n",
        "#download and unzip the file\n",
        "!wget http://www-vpu.eps.uam.es/~jcs/bigdata/Scene15.zip -O Scene15.zip\n",
        "!unzip -o -q Scene15.zip -d .\n",
        "\n",
        "print('Dataset downloaded and unzipped')\n",
        "\n",
        "!ls -lah #show directory & file usage"
      ],
      "execution_count": 5,
      "outputs": [
        {
          "output_type": "stream",
          "name": "stdout",
          "text": [
            "--2022-10-08 18:22:51--  http://www-vpu.eps.uam.es/~jcs/bigdata/Scene15.zip\n",
            "Resolving www-vpu.eps.uam.es (www-vpu.eps.uam.es)... 150.244.56.90\n",
            "Connecting to www-vpu.eps.uam.es (www-vpu.eps.uam.es)|150.244.56.90|:80... connected.\n",
            "HTTP request sent, awaiting response... 200 OK\n",
            "Length: 86395596 (82M) [application/zip]\n",
            "Saving to: ‘Scene15.zip’\n",
            "\n",
            "Scene15.zip         100%[===================>]  82.39M  11.0MB/s    in 9.6s    \n",
            "\n",
            "2022-10-08 18:23:01 (8.60 MB/s) - ‘Scene15.zip’ saved [86395596/86395596]\n",
            "\n",
            "Dataset downloaded and unzipped\n",
            "total 83M\n",
            "drwx------ 4 root root 4.0K Oct  8 16:44 Scene15\n",
            "-rw------- 1 root root  83M Feb 28  2018 Scene15.zip\n"
          ]
        }
      ]
    },
    {
      "cell_type": "markdown",
      "metadata": {
        "id": "Acnx8c5Q3n4K"
      },
      "source": [
        "Parametros para la generación del dataset"
      ]
    },
    {
      "cell_type": "code",
      "metadata": {
        "id": "R6Q0dZw6Hq2E"
      },
      "source": [
        "import os\n",
        "import torch\n",
        "from torchvision import datasets\n",
        "import torchvision.transforms as transforms\n",
        "\n",
        "#path to the downloaded dataset\n",
        "dataset_dir = datadir + '/Scene15/'\n",
        "\n",
        "#number of samples/images per group\n",
        "batch_size = 2\n",
        "# batch_sizes=[2, 4, 8, 16, 32]\n",
        "\n",
        "#data transformation\n",
        "Resizing_factor = (128,128)\n",
        "transform = transforms.Compose([ transforms.Resize(size=Resizing_factor),                                 \n",
        "                                transforms.ToTensor()                                \n",
        "                                ])\n",
        "\n",
        "#list & load images\n",
        "image_datasets = {x: datasets.ImageFolder(os.path.join(dataset_dir, x), transform) for x in ['train', 'val']}\n",
        "class_names = image_datasets['train'].classes\n",
        "\n",
        "#load & convert images to tensors in Python\n",
        "dataloaders = {x: torch.utils.data.DataLoader(image_datasets[x], batch_size, shuffle=True, num_workers=2) for x in ['train', 'val']}"
      ],
      "execution_count": 6,
      "outputs": []
    },
    {
      "cell_type": "markdown",
      "metadata": {
        "id": "7QK8uZt7CCRb"
      },
      "source": [
        "## Creación de la red\n",
        "\n",
        "A continuación, creamos una red tipo Lenet (modificada para soportar imágenes distintas a 32x32)"
      ]
    },
    {
      "cell_type": "code",
      "metadata": {
        "id": "HWEfU3PqCRCV",
        "outputId": "57ffe8b8-69a4-4030-cb9e-f35c59893fc8",
        "colab": {
          "base_uri": "https://localhost:8080/"
        }
      },
      "source": [
        "import os\n",
        "os.chdir(tmpdir) #move to directory\n",
        "\n",
        "#runs script and keeps variables\n",
        "%run -i ./utils/mylenet.py\n",
        "\n",
        "# get some random training images to initialize network\n",
        "images, labels = iter(dataloaders['train']).next()\n",
        "\n",
        "net = Net(input_shape=images[0].size(), num_outputs=len(class_names))\n",
        "print(net)\n",
        "\n",
        "print(\"Network ready to train!\")"
      ],
      "execution_count": 7,
      "outputs": [
        {
          "output_type": "stream",
          "name": "stdout",
          "text": [
            "Net(\n",
            "  (conv1): Conv2d(3, 6, kernel_size=(5, 5), stride=(1, 1))\n",
            "  (pool): MaxPool2d(kernel_size=2, stride=2, padding=0, dilation=1, ceil_mode=False)\n",
            "  (conv2): Conv2d(6, 16, kernel_size=(5, 5), stride=(1, 1))\n",
            "  (fc1): Linear(in_features=13456, out_features=120, bias=True)\n",
            "  (fc2): Linear(in_features=120, out_features=84, bias=True)\n",
            "  (fc3): Linear(in_features=84, out_features=15, bias=True)\n",
            ")\n",
            "Network ready to train!\n"
          ]
        }
      ]
    },
    {
      "cell_type": "markdown",
      "metadata": {
        "id": "umau1YMBKeN_"
      },
      "source": [
        "## Definir una función de coste/optimizador\n",
        "\n",
        "En este ejemplo utilizamos Cross-Entropy para medir la precisión de nuestro clasificador y SGD como optimizador."
      ]
    },
    {
      "cell_type": "code",
      "metadata": {
        "id": "kQDA6EkKKem_"
      },
      "source": [
        "import torch.optim as optim\n",
        "import torch.nn as nn\n",
        "\n",
        "criterion = nn.CrossEntropyLoss()\n",
        "optimizer = optim.SGD(net.parameters(), lr=0.001, momentum=0.9)"
      ],
      "execution_count": 8,
      "outputs": []
    },
    {
      "cell_type": "markdown",
      "metadata": {
        "id": "GaYSTVfOK1lD"
      },
      "source": [
        "## Entrenar la red\n",
        "\n",
        "Ejecución iterativa sobre los datos de entrenamiento/test y actualización de los pesos"
      ]
    },
    {
      "cell_type": "code",
      "metadata": {
        "id": "5jcjp9XGLAeR",
        "outputId": "7ecf84e2-c2f8-44fd-8c9b-43bd4d13f9bb",
        "colab": {
          "base_uri": "https://localhost:8080/"
        }
      },
      "source": [
        "import time\n",
        "import numpy as np\n",
        "from torch.autograd import Variable\n",
        "\n",
        "display_batch_iter = 100\n",
        "number_epochs = 50\n",
        "\n",
        "epoch_loss =  np.zeros((number_epochs,1))\n",
        "epoch_train_acc =  np.zeros((number_epochs,1))\n",
        "epoch_test_acc =  np.zeros((number_epochs,1))  \n",
        "train_time =  0.0\n",
        "\n",
        "Ntrain = len(image_datasets['train']) #number of samples for training\n",
        "Ntest = len(image_datasets['val']) #number of samples for test/validation\n",
        "    \n",
        "device = torch.device(\"cpu\") #CPU mode for training\n",
        "\n",
        "start = time.time()\n",
        "\n",
        "print('Training in CPUmode #epochs=%d #batches=%d batchsize=%d' % (number_epochs, len(dataloaders['train']),batch_size))\n",
        "print('**** Printing loss every %5d batches ****' % (display_batch_iter))  \n",
        "for epoch in range(number_epochs):  # loop over the dataset multiple times\n",
        "    running_loss = 0.0\n",
        "    for i, data in enumerate(dataloaders['train'], 0):\n",
        "        # get the inputs\n",
        "        inputs, labels = data\n",
        "\n",
        "        # wrap them in Variable\n",
        "        inputs, labels = Variable(inputs), Variable(labels)\n",
        "\n",
        "        # zero the parameter gradients\n",
        "        optimizer.zero_grad()\n",
        "\n",
        "        # forward + backward + optimize\n",
        "        outputs = net(inputs)\n",
        "        loss = criterion(outputs, labels)\n",
        "        loss.backward()\n",
        "        optimizer.step()\n",
        "\n",
        "        # print statistics\n",
        "        running_loss += loss.data.numpy()\n",
        "        epoch_loss[epoch] += loss.data.numpy()\n",
        "        if i % display_batch_iter == display_batch_iter-1:    # print every XXX mini-batches\n",
        "            print('[%d, %5d] loss: %.3f' % (epoch + 1, i + 1, running_loss / display_batch_iter))\n",
        "            running_loss = 0.0\n",
        "\n",
        "    # compute accuracy on training set\n",
        "    correct1 = 0.0\n",
        "    for data in dataloaders['train']:    \n",
        "      images, labels = data\n",
        "      outputs = net(Variable(images))\n",
        "      _, predicted = torch.max(outputs.data, 1)\n",
        "      correct1 += (predicted == labels).sum()\n",
        "      \n",
        "    # compute accuracy on test set\n",
        "    correct2 = 0.0\n",
        "    for data in dataloaders['val']:    \n",
        "      images, labels = data\n",
        "      outputs = net(Variable(images))\n",
        "      _, predicted = torch.max(outputs.data, 1)\n",
        "      correct2 += (predicted == labels).sum()\n",
        "    \n",
        "    epoch_loss[epoch] = epoch_loss[epoch] / len(dataloaders['train']) # average loss for each epoch\n",
        "    epoch_train_acc[epoch] =  100 * correct1 / Ntrain   # average train accuracy for each epoch\n",
        "    epoch_test_acc[epoch]  =  100 * correct2 / Ntest    # average test accuracy for each epoch\n",
        "    print('Epoch %02d, loss: %1.3f, accuracy train: %2.3f %% (correct %04d total %04d ) accuracy test: %2.3f %% (correct %04d total %04d )' % (epoch + 1, epoch_loss[epoch], epoch_train_acc[epoch], correct1, Ntrain, epoch_test_acc[epoch], correct2, Ntest ))\n",
        "    \n",
        "train_time = time.time() - start\n",
        "print('Finished Training (' + str(train_time) + ' secs)')"
      ],
      "execution_count": 9,
      "outputs": [
        {
          "output_type": "stream",
          "name": "stdout",
          "text": [
            "Training in CPUmode #epochs=50 #batches=750 batchsize=2\n",
            "**** Printing loss every   100 batches ****\n",
            "[1,   100] loss: 2.710\n",
            "[1,   200] loss: 2.704\n",
            "[1,   300] loss: 2.713\n",
            "[1,   400] loss: 2.706\n",
            "[1,   500] loss: 2.712\n",
            "[1,   600] loss: 2.718\n",
            "[1,   700] loss: 2.708\n",
            "Epoch 01, loss: 2.711, accuracy train: 8.000 % (correct 0120 total 1500 ) accuracy test: 6.097 % (correct 0182 total 2985 )\n",
            "[2,   100] loss: 2.706\n",
            "[2,   200] loss: 2.708\n",
            "[2,   300] loss: 2.709\n",
            "[2,   400] loss: 2.707\n",
            "[2,   500] loss: 2.707\n",
            "[2,   600] loss: 2.703\n",
            "[2,   700] loss: 2.706\n",
            "Epoch 02, loss: 2.706, accuracy train: 13.200 % (correct 0198 total 1500 ) accuracy test: 11.591 % (correct 0346 total 2985 )\n",
            "[3,   100] loss: 2.699\n",
            "[3,   200] loss: 2.694\n",
            "[3,   300] loss: 2.690\n",
            "[3,   400] loss: 2.688\n",
            "[3,   500] loss: 2.688\n",
            "[3,   600] loss: 2.669\n",
            "[3,   700] loss: 2.660\n",
            "Epoch 03, loss: 2.680, accuracy train: 10.667 % (correct 0160 total 1500 ) accuracy test: 11.859 % (correct 0354 total 2985 )\n",
            "[4,   100] loss: 2.598\n",
            "[4,   200] loss: 2.608\n",
            "[4,   300] loss: 2.554\n",
            "[4,   400] loss: 2.553\n",
            "[4,   500] loss: 2.478\n",
            "[4,   600] loss: 2.487\n",
            "[4,   700] loss: 2.497\n",
            "Epoch 04, loss: 2.530, accuracy train: 13.467 % (correct 0202 total 1500 ) accuracy test: 13.903 % (correct 0415 total 2985 )\n",
            "[5,   100] loss: 2.366\n",
            "[5,   200] loss: 2.425\n",
            "[5,   300] loss: 2.337\n",
            "[5,   400] loss: 2.340\n",
            "[5,   500] loss: 2.389\n",
            "[5,   600] loss: 2.243\n",
            "[5,   700] loss: 2.249\n",
            "Epoch 05, loss: 2.321, accuracy train: 29.267 % (correct 0439 total 1500 ) accuracy test: 27.102 % (correct 0809 total 2985 )\n",
            "[6,   100] loss: 2.209\n",
            "[6,   200] loss: 2.272\n",
            "[6,   300] loss: 2.175\n",
            "[6,   400] loss: 2.055\n",
            "[6,   500] loss: 2.131\n",
            "[6,   600] loss: 2.132\n",
            "[6,   700] loss: 1.977\n",
            "Epoch 06, loss: 2.148, accuracy train: 38.600 % (correct 0579 total 1500 ) accuracy test: 29.213 % (correct 0872 total 2985 )\n",
            "[7,   100] loss: 1.927\n",
            "[7,   200] loss: 1.946\n",
            "[7,   300] loss: 2.063\n",
            "[7,   400] loss: 1.879\n",
            "[7,   500] loss: 2.061\n",
            "[7,   600] loss: 1.959\n",
            "[7,   700] loss: 1.932\n",
            "Epoch 07, loss: 1.969, accuracy train: 42.467 % (correct 0637 total 1500 ) accuracy test: 25.896 % (correct 0773 total 2985 )\n",
            "[8,   100] loss: 1.612\n",
            "[8,   200] loss: 1.616\n",
            "[8,   300] loss: 1.633\n",
            "[8,   400] loss: 1.621\n",
            "[8,   500] loss: 1.736\n",
            "[8,   600] loss: 1.759\n",
            "[8,   700] loss: 1.893\n",
            "Epoch 08, loss: 1.699, accuracy train: 55.533 % (correct 0833 total 1500 ) accuracy test: 32.931 % (correct 0983 total 2985 )\n",
            "[9,   100] loss: 1.191\n",
            "[9,   200] loss: 1.292\n",
            "[9,   300] loss: 1.548\n",
            "[9,   400] loss: 1.405\n",
            "[9,   500] loss: 1.381\n",
            "[9,   600] loss: 1.257\n",
            "[9,   700] loss: 1.456\n",
            "Epoch 09, loss: 1.364, accuracy train: 71.733 % (correct 1076 total 1500 ) accuracy test: 29.749 % (correct 0888 total 2985 )\n",
            "[10,   100] loss: 0.788\n",
            "[10,   200] loss: 1.029\n",
            "[10,   300] loss: 0.815\n",
            "[10,   400] loss: 1.076\n",
            "[10,   500] loss: 0.852\n",
            "[10,   600] loss: 0.935\n",
            "[10,   700] loss: 1.080\n",
            "Epoch 10, loss: 0.943, accuracy train: 81.400 % (correct 1221 total 1500 ) accuracy test: 31.122 % (correct 0929 total 2985 )\n",
            "[11,   100] loss: 0.526\n",
            "[11,   200] loss: 0.484\n",
            "[11,   300] loss: 0.602\n",
            "[11,   400] loss: 0.613\n",
            "[11,   500] loss: 0.583\n",
            "[11,   600] loss: 0.672\n",
            "[11,   700] loss: 0.694\n",
            "Epoch 11, loss: 0.610, accuracy train: 84.133 % (correct 1262 total 1500 ) accuracy test: 29.481 % (correct 0880 total 2985 )\n",
            "[12,   100] loss: 0.271\n",
            "[12,   200] loss: 0.354\n",
            "[12,   300] loss: 0.233\n",
            "[12,   400] loss: 0.453\n",
            "[12,   500] loss: 0.396\n",
            "[12,   600] loss: 0.306\n",
            "[12,   700] loss: 0.282\n",
            "Epoch 12, loss: 0.338, accuracy train: 93.400 % (correct 1401 total 1500 ) accuracy test: 32.730 % (correct 0977 total 2985 )\n",
            "[13,   100] loss: 0.212\n",
            "[13,   200] loss: 0.298\n",
            "[13,   300] loss: 0.154\n",
            "[13,   400] loss: 0.219\n",
            "[13,   500] loss: 0.309\n",
            "[13,   600] loss: 0.264\n",
            "[13,   700] loss: 0.237\n",
            "Epoch 13, loss: 0.241, accuracy train: 95.333 % (correct 1430 total 1500 ) accuracy test: 33.266 % (correct 0993 total 2985 )\n",
            "[14,   100] loss: 0.095\n",
            "[14,   200] loss: 0.214\n",
            "[14,   300] loss: 0.081\n",
            "[14,   400] loss: 0.317\n",
            "[14,   500] loss: 0.271\n",
            "[14,   600] loss: 0.158\n",
            "[14,   700] loss: 0.159\n",
            "Epoch 14, loss: 0.187, accuracy train: 89.867 % (correct 1348 total 1500 ) accuracy test: 25.829 % (correct 0771 total 2985 )\n",
            "[15,   100] loss: 0.108\n",
            "[15,   200] loss: 0.032\n",
            "[15,   300] loss: 0.037\n",
            "[15,   400] loss: 0.225\n",
            "[15,   500] loss: 0.302\n",
            "[15,   600] loss: 0.276\n",
            "[15,   700] loss: 0.077\n",
            "Epoch 15, loss: 0.148, accuracy train: 97.533 % (correct 1463 total 1500 ) accuracy test: 31.893 % (correct 0952 total 2985 )\n",
            "[16,   100] loss: 0.101\n",
            "[16,   200] loss: 0.055\n",
            "[16,   300] loss: 0.013\n",
            "[16,   400] loss: 0.066\n",
            "[16,   500] loss: 0.056\n",
            "[16,   600] loss: 0.031\n",
            "[16,   700] loss: 0.364\n",
            "Epoch 16, loss: 0.103, accuracy train: 97.600 % (correct 1464 total 1500 ) accuracy test: 32.362 % (correct 0966 total 2985 )\n",
            "[17,   100] loss: 0.067\n",
            "[17,   200] loss: 0.064\n",
            "[17,   300] loss: 0.067\n",
            "[17,   400] loss: 0.050\n",
            "[17,   500] loss: 0.042\n",
            "[17,   600] loss: 0.019\n",
            "[17,   700] loss: 0.009\n",
            "Epoch 17, loss: 0.043, accuracy train: 99.933 % (correct 1499 total 1500 ) accuracy test: 34.104 % (correct 1018 total 2985 )\n",
            "[18,   100] loss: 0.017\n",
            "[18,   200] loss: 0.007\n",
            "[18,   300] loss: 0.080\n",
            "[18,   400] loss: 0.079\n",
            "[18,   500] loss: 0.063\n",
            "[18,   600] loss: 0.167\n",
            "[18,   700] loss: 0.089\n",
            "Epoch 18, loss: 0.068, accuracy train: 99.000 % (correct 1485 total 1500 ) accuracy test: 33.233 % (correct 0992 total 2985 )\n",
            "[19,   100] loss: 0.064\n",
            "[19,   200] loss: 0.057\n",
            "[19,   300] loss: 0.056\n",
            "[19,   400] loss: 0.028\n",
            "[19,   500] loss: 0.022\n",
            "[19,   600] loss: 0.048\n",
            "[19,   700] loss: 0.040\n",
            "Epoch 19, loss: 0.043, accuracy train: 100.000 % (correct 1500 total 1500 ) accuracy test: 31.859 % (correct 0951 total 2985 )\n",
            "[20,   100] loss: 0.002\n",
            "[20,   200] loss: 0.001\n",
            "[20,   300] loss: 0.007\n",
            "[20,   400] loss: 0.004\n",
            "[20,   500] loss: 0.002\n",
            "[20,   600] loss: 0.002\n",
            "[20,   700] loss: 0.001\n",
            "Epoch 20, loss: 0.003, accuracy train: 99.933 % (correct 1499 total 1500 ) accuracy test: 32.261 % (correct 0963 total 2985 )\n",
            "[21,   100] loss: 0.001\n",
            "[21,   200] loss: 0.004\n",
            "[21,   300] loss: 0.001\n",
            "[21,   400] loss: 0.001\n",
            "[21,   500] loss: 0.001\n",
            "[21,   600] loss: 0.001\n",
            "[21,   700] loss: 0.002\n",
            "Epoch 21, loss: 0.002, accuracy train: 100.000 % (correct 1500 total 1500 ) accuracy test: 32.194 % (correct 0961 total 2985 )\n",
            "[22,   100] loss: 0.001\n",
            "[22,   200] loss: 0.001\n",
            "[22,   300] loss: 0.001\n",
            "[22,   400] loss: 0.001\n",
            "[22,   500] loss: 0.001\n",
            "[22,   600] loss: 0.000\n",
            "[22,   700] loss: 0.001\n",
            "Epoch 22, loss: 0.001, accuracy train: 100.000 % (correct 1500 total 1500 ) accuracy test: 32.261 % (correct 0963 total 2985 )\n",
            "[23,   100] loss: 0.000\n",
            "[23,   200] loss: 0.000\n",
            "[23,   300] loss: 0.000\n",
            "[23,   400] loss: 0.000\n",
            "[23,   500] loss: 0.001\n",
            "[23,   600] loss: 0.000\n",
            "[23,   700] loss: 0.001\n",
            "Epoch 23, loss: 0.000, accuracy train: 100.000 % (correct 1500 total 1500 ) accuracy test: 32.295 % (correct 0964 total 2985 )\n",
            "[24,   100] loss: 0.000\n",
            "[24,   200] loss: 0.000\n",
            "[24,   300] loss: 0.000\n",
            "[24,   400] loss: 0.001\n",
            "[24,   500] loss: 0.000\n",
            "[24,   600] loss: 0.000\n",
            "[24,   700] loss: 0.000\n",
            "Epoch 24, loss: 0.000, accuracy train: 100.000 % (correct 1500 total 1500 ) accuracy test: 32.194 % (correct 0961 total 2985 )\n",
            "[25,   100] loss: 0.000\n",
            "[25,   200] loss: 0.000\n",
            "[25,   300] loss: 0.000\n",
            "[25,   400] loss: 0.001\n",
            "[25,   500] loss: 0.000\n",
            "[25,   600] loss: 0.000\n",
            "[25,   700] loss: 0.000\n",
            "Epoch 25, loss: 0.000, accuracy train: 100.000 % (correct 1500 total 1500 ) accuracy test: 32.161 % (correct 0960 total 2985 )\n",
            "[26,   100] loss: 0.000\n",
            "[26,   200] loss: 0.000\n",
            "[26,   300] loss: 0.000\n",
            "[26,   400] loss: 0.001\n",
            "[26,   500] loss: 0.000\n",
            "[26,   600] loss: 0.000\n",
            "[26,   700] loss: 0.000\n",
            "Epoch 26, loss: 0.000, accuracy train: 100.000 % (correct 1500 total 1500 ) accuracy test: 32.395 % (correct 0967 total 2985 )\n",
            "[27,   100] loss: 0.000\n",
            "[27,   200] loss: 0.000\n",
            "[27,   300] loss: 0.000\n",
            "[27,   400] loss: 0.000\n",
            "[27,   500] loss: 0.000\n",
            "[27,   600] loss: 0.000\n",
            "[27,   700] loss: 0.000\n",
            "Epoch 27, loss: 0.000, accuracy train: 100.000 % (correct 1500 total 1500 ) accuracy test: 32.127 % (correct 0959 total 2985 )\n",
            "[28,   100] loss: 0.000\n",
            "[28,   200] loss: 0.000\n",
            "[28,   300] loss: 0.000\n",
            "[28,   400] loss: 0.000\n",
            "[28,   500] loss: 0.000\n",
            "[28,   600] loss: 0.000\n",
            "[28,   700] loss: 0.000\n",
            "Epoch 28, loss: 0.000, accuracy train: 100.000 % (correct 1500 total 1500 ) accuracy test: 32.395 % (correct 0967 total 2985 )\n",
            "[29,   100] loss: 0.000\n",
            "[29,   200] loss: 0.000\n",
            "[29,   300] loss: 0.000\n",
            "[29,   400] loss: 0.000\n",
            "[29,   500] loss: 0.000\n",
            "[29,   600] loss: 0.000\n",
            "[29,   700] loss: 0.000\n",
            "Epoch 29, loss: 0.000, accuracy train: 100.000 % (correct 1500 total 1500 ) accuracy test: 32.395 % (correct 0967 total 2985 )\n",
            "[30,   100] loss: 0.000\n",
            "[30,   200] loss: 0.000\n",
            "[30,   300] loss: 0.000\n",
            "[30,   400] loss: 0.000\n",
            "[30,   500] loss: 0.000\n",
            "[30,   600] loss: 0.000\n",
            "[30,   700] loss: 0.000\n",
            "Epoch 30, loss: 0.000, accuracy train: 100.000 % (correct 1500 total 1500 ) accuracy test: 32.429 % (correct 0968 total 2985 )\n",
            "[31,   100] loss: 0.000\n",
            "[31,   200] loss: 0.000\n",
            "[31,   300] loss: 0.000\n",
            "[31,   400] loss: 0.000\n",
            "[31,   500] loss: 0.000\n",
            "[31,   600] loss: 0.000\n",
            "[31,   700] loss: 0.000\n",
            "Epoch 31, loss: 0.000, accuracy train: 100.000 % (correct 1500 total 1500 ) accuracy test: 32.395 % (correct 0967 total 2985 )\n",
            "[32,   100] loss: 0.000\n",
            "[32,   200] loss: 0.000\n",
            "[32,   300] loss: 0.000\n",
            "[32,   400] loss: 0.000\n",
            "[32,   500] loss: 0.000\n",
            "[32,   600] loss: 0.000\n",
            "[32,   700] loss: 0.000\n",
            "Epoch 32, loss: 0.000, accuracy train: 100.000 % (correct 1500 total 1500 ) accuracy test: 32.429 % (correct 0968 total 2985 )\n",
            "[33,   100] loss: 0.000\n",
            "[33,   200] loss: 0.000\n",
            "[33,   300] loss: 0.000\n",
            "[33,   400] loss: 0.000\n",
            "[33,   500] loss: 0.000\n",
            "[33,   600] loss: 0.000\n",
            "[33,   700] loss: 0.000\n",
            "Epoch 33, loss: 0.000, accuracy train: 100.000 % (correct 1500 total 1500 ) accuracy test: 32.429 % (correct 0968 total 2985 )\n",
            "[34,   100] loss: 0.000\n",
            "[34,   200] loss: 0.000\n",
            "[34,   300] loss: 0.000\n",
            "[34,   400] loss: 0.000\n",
            "[34,   500] loss: 0.000\n",
            "[34,   600] loss: 0.000\n",
            "[34,   700] loss: 0.000\n",
            "Epoch 34, loss: 0.000, accuracy train: 100.000 % (correct 1500 total 1500 ) accuracy test: 32.596 % (correct 0973 total 2985 )\n",
            "[35,   100] loss: 0.000\n",
            "[35,   200] loss: 0.000\n",
            "[35,   300] loss: 0.000\n",
            "[35,   400] loss: 0.000\n",
            "[35,   500] loss: 0.000\n",
            "[35,   600] loss: 0.000\n",
            "[35,   700] loss: 0.000\n",
            "Epoch 35, loss: 0.000, accuracy train: 100.000 % (correct 1500 total 1500 ) accuracy test: 32.596 % (correct 0973 total 2985 )\n",
            "[36,   100] loss: 0.000\n",
            "[36,   200] loss: 0.000\n",
            "[36,   300] loss: 0.000\n",
            "[36,   400] loss: 0.000\n",
            "[36,   500] loss: 0.000\n",
            "[36,   600] loss: 0.000\n",
            "[36,   700] loss: 0.000\n",
            "Epoch 36, loss: 0.000, accuracy train: 100.000 % (correct 1500 total 1500 ) accuracy test: 32.663 % (correct 0975 total 2985 )\n",
            "[37,   100] loss: 0.000\n",
            "[37,   200] loss: 0.000\n",
            "[37,   300] loss: 0.000\n",
            "[37,   400] loss: 0.000\n",
            "[37,   500] loss: 0.000\n",
            "[37,   600] loss: 0.000\n",
            "[37,   700] loss: 0.000\n",
            "Epoch 37, loss: 0.000, accuracy train: 100.000 % (correct 1500 total 1500 ) accuracy test: 32.697 % (correct 0976 total 2985 )\n",
            "[38,   100] loss: 0.000\n",
            "[38,   200] loss: 0.000\n",
            "[38,   300] loss: 0.000\n",
            "[38,   400] loss: 0.000\n",
            "[38,   500] loss: 0.000\n",
            "[38,   600] loss: 0.000\n",
            "[38,   700] loss: 0.000\n",
            "Epoch 38, loss: 0.000, accuracy train: 100.000 % (correct 1500 total 1500 ) accuracy test: 32.697 % (correct 0976 total 2985 )\n",
            "[39,   100] loss: 0.000\n",
            "[39,   200] loss: 0.000\n",
            "[39,   300] loss: 0.000\n",
            "[39,   400] loss: 0.000\n",
            "[39,   500] loss: 0.000\n",
            "[39,   600] loss: 0.000\n",
            "[39,   700] loss: 0.000\n",
            "Epoch 39, loss: 0.000, accuracy train: 100.000 % (correct 1500 total 1500 ) accuracy test: 32.630 % (correct 0974 total 2985 )\n",
            "[40,   100] loss: 0.000\n",
            "[40,   200] loss: 0.000\n",
            "[40,   300] loss: 0.000\n",
            "[40,   400] loss: 0.000\n",
            "[40,   500] loss: 0.000\n",
            "[40,   600] loss: 0.000\n",
            "[40,   700] loss: 0.000\n",
            "Epoch 40, loss: 0.000, accuracy train: 100.000 % (correct 1500 total 1500 ) accuracy test: 32.663 % (correct 0975 total 2985 )\n",
            "[41,   100] loss: 0.000\n",
            "[41,   200] loss: 0.000\n",
            "[41,   300] loss: 0.000\n",
            "[41,   400] loss: 0.000\n",
            "[41,   500] loss: 0.000\n",
            "[41,   600] loss: 0.000\n",
            "[41,   700] loss: 0.000\n",
            "Epoch 41, loss: 0.000, accuracy train: 100.000 % (correct 1500 total 1500 ) accuracy test: 32.764 % (correct 0978 total 2985 )\n",
            "[42,   100] loss: 0.000\n",
            "[42,   200] loss: 0.000\n",
            "[42,   300] loss: 0.000\n",
            "[42,   400] loss: 0.000\n",
            "[42,   500] loss: 0.000\n",
            "[42,   600] loss: 0.000\n",
            "[42,   700] loss: 0.000\n",
            "Epoch 42, loss: 0.000, accuracy train: 100.000 % (correct 1500 total 1500 ) accuracy test: 32.764 % (correct 0978 total 2985 )\n",
            "[43,   100] loss: 0.000\n",
            "[43,   200] loss: 0.000\n",
            "[43,   300] loss: 0.000\n",
            "[43,   400] loss: 0.000\n",
            "[43,   500] loss: 0.000\n",
            "[43,   600] loss: 0.000\n",
            "[43,   700] loss: 0.000\n",
            "Epoch 43, loss: 0.000, accuracy train: 100.000 % (correct 1500 total 1500 ) accuracy test: 32.797 % (correct 0979 total 2985 )\n",
            "[44,   100] loss: 0.000\n",
            "[44,   200] loss: 0.000\n",
            "[44,   300] loss: 0.000\n",
            "[44,   400] loss: 0.000\n",
            "[44,   500] loss: 0.000\n",
            "[44,   600] loss: 0.000\n",
            "[44,   700] loss: 0.000\n",
            "Epoch 44, loss: 0.000, accuracy train: 100.000 % (correct 1500 total 1500 ) accuracy test: 32.831 % (correct 0980 total 2985 )\n",
            "[45,   100] loss: 0.000\n",
            "[45,   200] loss: 0.000\n",
            "[45,   300] loss: 0.000\n",
            "[45,   400] loss: 0.000\n",
            "[45,   500] loss: 0.000\n",
            "[45,   600] loss: 0.000\n",
            "[45,   700] loss: 0.000\n",
            "Epoch 45, loss: 0.000, accuracy train: 100.000 % (correct 1500 total 1500 ) accuracy test: 32.864 % (correct 0981 total 2985 )\n",
            "[46,   100] loss: 0.000\n",
            "[46,   200] loss: 0.000\n",
            "[46,   300] loss: 0.000\n",
            "[46,   400] loss: 0.000\n",
            "[46,   500] loss: 0.000\n",
            "[46,   600] loss: 0.000\n",
            "[46,   700] loss: 0.000\n",
            "Epoch 46, loss: 0.000, accuracy train: 100.000 % (correct 1500 total 1500 ) accuracy test: 32.831 % (correct 0980 total 2985 )\n",
            "[47,   100] loss: 0.000\n",
            "[47,   200] loss: 0.000\n",
            "[47,   300] loss: 0.000\n",
            "[47,   400] loss: 0.000\n",
            "[47,   500] loss: 0.000\n",
            "[47,   600] loss: 0.000\n",
            "[47,   700] loss: 0.000\n",
            "Epoch 47, loss: 0.000, accuracy train: 100.000 % (correct 1500 total 1500 ) accuracy test: 32.797 % (correct 0979 total 2985 )\n",
            "[48,   100] loss: 0.000\n",
            "[48,   200] loss: 0.000\n",
            "[48,   300] loss: 0.000\n",
            "[48,   400] loss: 0.000\n",
            "[48,   500] loss: 0.000\n",
            "[48,   600] loss: 0.000\n",
            "[48,   700] loss: 0.000\n",
            "Epoch 48, loss: 0.000, accuracy train: 100.000 % (correct 1500 total 1500 ) accuracy test: 32.831 % (correct 0980 total 2985 )\n",
            "[49,   100] loss: 0.000\n",
            "[49,   200] loss: 0.000\n",
            "[49,   300] loss: 0.000\n",
            "[49,   400] loss: 0.000\n",
            "[49,   500] loss: 0.000\n",
            "[49,   600] loss: 0.000\n",
            "[49,   700] loss: 0.000\n",
            "Epoch 49, loss: 0.000, accuracy train: 100.000 % (correct 1500 total 1500 ) accuracy test: 32.831 % (correct 0980 total 2985 )\n",
            "[50,   100] loss: 0.000\n",
            "[50,   200] loss: 0.000\n",
            "[50,   300] loss: 0.000\n",
            "[50,   400] loss: 0.000\n",
            "[50,   500] loss: 0.000\n",
            "[50,   600] loss: 0.000\n",
            "[50,   700] loss: 0.000\n",
            "Epoch 50, loss: 0.000, accuracy train: 100.000 % (correct 1500 total 1500 ) accuracy test: 32.831 % (correct 0980 total 2985 )\n",
            "Finished Training (1922.0915246009827 secs)\n"
          ]
        }
      ]
    },
    {
      "cell_type": "markdown",
      "metadata": {
        "id": "84AJx1XzjfRm"
      },
      "source": [
        "Finalmente podemos guardar los datos tras el entrenamiento en nuestra carpeta de Google Drive"
      ]
    },
    {
      "cell_type": "code",
      "metadata": {
        "id": "GRv6KngBjkha",
        "outputId": "203a211f-4cfd-451a-c92c-be124e54878c",
        "colab": {
          "base_uri": "https://localhost:8080/"
        }
      },
      "source": [
        "#save results in a single file\n",
        "import pickle\n",
        "import os\n",
        "os.chdir(pracdir) #move to drive directory\n",
        "\n",
        "# Saving the objects:\n",
        "f = open('training_baseline_cpu_results_epochs_'+ str(number_epochs) +'.pkl', 'wb')\n",
        "pickle.dump([epoch_train_acc, epoch_test_acc, epoch_loss, train_time, number_epochs, batch_size], f)\n",
        "f.close()\n",
        "print('Saved data')"
      ],
      "execution_count": 10,
      "outputs": [
        {
          "output_type": "stream",
          "name": "stdout",
          "text": [
            "Saved data\n"
          ]
        }
      ]
    },
    {
      "cell_type": "markdown",
      "metadata": {
        "id": "i9fHv1kN70nG"
      },
      "source": [
        "Posteriormente, si quisieramos recuperar las variables/objetos para analizar, utilizaremos el siguiente código"
      ]
    },
    {
      "cell_type": "code",
      "metadata": {
        "id": "iyIVJxTi7p1s",
        "outputId": "2dde2f6d-5440-4b9b-ae29-dc3ccf1ed9a8",
        "colab": {
          "base_uri": "https://localhost:8080/",
          "height": 222
        }
      },
      "source": [
        "#get results from a single file\n",
        "import pickle\n",
        "import os\n",
        "os.chdir(pracdir) #move to drive directory\n",
        "\n",
        "# Load the objects\n",
        "f = open('training_baseline_results_epochs_30.pkl', 'rb')\n",
        "epoch_train_acc, epoch_test_acc, epoch_loss, train_time, number_epochs, batch_size = pickle.load(f)"
      ],
      "execution_count": null,
      "outputs": [
        {
          "output_type": "error",
          "ename": "FileNotFoundError",
          "evalue": "ignored",
          "traceback": [
            "\u001b[0;31m---------------------------------------------------------------------------\u001b[0m",
            "\u001b[0;31mFileNotFoundError\u001b[0m                         Traceback (most recent call last)",
            "\u001b[0;32m./utils/mylenet.py\u001b[0m in \u001b[0;36m<module>\u001b[0;34m\u001b[0m\n\u001b[1;32m      5\u001b[0m \u001b[0;34m\u001b[0m\u001b[0m\n\u001b[1;32m      6\u001b[0m \u001b[0;31m# Load the objects\u001b[0m\u001b[0;34m\u001b[0m\u001b[0;34m\u001b[0m\u001b[0;34m\u001b[0m\u001b[0m\n\u001b[0;32m----> 7\u001b[0;31m \u001b[0mf\u001b[0m \u001b[0;34m=\u001b[0m \u001b[0mopen\u001b[0m\u001b[0;34m(\u001b[0m\u001b[0;34m'training_baseline_results_epochs_30.pkl'\u001b[0m\u001b[0;34m,\u001b[0m \u001b[0;34m'rb'\u001b[0m\u001b[0;34m)\u001b[0m\u001b[0;34m\u001b[0m\u001b[0;34m\u001b[0m\u001b[0m\n\u001b[0m\u001b[1;32m      8\u001b[0m \u001b[0mepoch_train_acc\u001b[0m\u001b[0;34m,\u001b[0m \u001b[0mepoch_test_acc\u001b[0m\u001b[0;34m,\u001b[0m \u001b[0mepoch_loss\u001b[0m\u001b[0;34m,\u001b[0m \u001b[0mtrain_time\u001b[0m\u001b[0;34m,\u001b[0m \u001b[0mnumber_epochs\u001b[0m\u001b[0;34m,\u001b[0m \u001b[0mbatch_size\u001b[0m \u001b[0;34m=\u001b[0m \u001b[0mpickle\u001b[0m\u001b[0;34m.\u001b[0m\u001b[0mload\u001b[0m\u001b[0;34m(\u001b[0m\u001b[0mf\u001b[0m\u001b[0;34m)\u001b[0m\u001b[0;34m\u001b[0m\u001b[0;34m\u001b[0m\u001b[0m\n",
            "\u001b[0;31mFileNotFoundError\u001b[0m: [Errno 2] No such file or directory: 'training_baseline_results_epochs_30.pkl'"
          ]
        }
      ]
    },
    {
      "cell_type": "markdown",
      "metadata": {
        "id": "WIpYsUwtmk9v"
      },
      "source": [
        "# Resultados tras entrenamiento \n",
        "\n"
      ]
    },
    {
      "cell_type": "markdown",
      "metadata": {
        "id": "E2kqMm6FmuMT"
      },
      "source": [
        "## Análisis de precisión y función de pérdidas\n",
        "A continuación pintamos las variables que hemos acumulado durante el entrenamiento."
      ]
    },
    {
      "cell_type": "code",
      "metadata": {
        "id": "6vlAL68xjl1-",
        "outputId": "e3f79916-25d6-49c2-f676-8419f17f2956",
        "colab": {
          "base_uri": "https://localhost:8080/",
          "height": 295
        }
      },
      "source": [
        "import matplotlib.pyplot as plt\n",
        "\n",
        "t = range(number_epochs)\n",
        "lineObjects =plt.plot(t,epoch_train_acc,'r--',t,epoch_test_acc,'bs')\n",
        "plt.legend(lineObjects, ('train', 'test'))\n",
        "plt.ylabel('Accuracy (%)')\n",
        "plt.xlabel('Epoch')\n",
        "plt.title('Accuracy results') \n",
        "\n",
        "import os\n",
        "os.chdir(pracdir) #move to drive directory for saving data\n",
        "\n",
        "plt.savefig('training_accuracy_baseline__epochs'+ str(number_epochs) + '_CPU.png',bbox_inches='tight')#call this function before \"plt.show()\"\n",
        "plt.show()"
      ],
      "execution_count": 11,
      "outputs": [
        {
          "output_type": "display_data",
          "data": {
            "text/plain": [
              "<Figure size 432x288 with 1 Axes>"
            ],
            "image/png": "[encoded data removed]"
          },
          "metadata": {
            "needs_background": "light"
          }
        }
      ]
    },
    {
      "cell_type": "code",
      "metadata": {
        "id": "AlaiffYgmOok",
        "outputId": "eb32ebde-177a-4cf8-8209-9bb1dba4d6ad",
        "colab": {
          "base_uri": "https://localhost:8080/",
          "height": 295
        }
      },
      "source": [
        "import matplotlib.pyplot as plt\n",
        "\n",
        "t = range(number_epochs)\n",
        "plt.plot(t,epoch_loss,'r--')\n",
        "plt.ylabel('Loss')\n",
        "plt.xlabel('Epoch')\n",
        "plt.title('Epoch loss for training') \n",
        "plt.show()"
      ],
      "execution_count": 12,
      "outputs": [
        {
          "output_type": "display_data",
          "data": {
            "text/plain": [
              "<Figure size 432x288 with 1 Axes>"
            ],
            "image/png": "[encoded data removed]"
          },
          "metadata": {
            "needs_background": "light"
          }
        }
      ]
    },
    {
      "cell_type": "markdown",
      "metadata": {
        "id": "evgVriqsXN7Q"
      },
      "source": [
        "## Ejemplos de resultado\n",
        "\n",
        "Es recomendable repasar los resultados obtenidos tanto gráficamente como estadísticamente.\n",
        "\n",
        "Primero, seleccionamos algunos datos y visualmente verificamos errores:\n"
      ]
    },
    {
      "cell_type": "code",
      "metadata": {
        "id": "79GFRR-XQjdc",
        "outputId": "e640962d-e296-499e-c9da-a119a75f5a8e",
        "colab": {
          "base_uri": "https://localhost:8080/",
          "height": 255
        }
      },
      "source": [
        "import torchvision\n",
        "\n",
        "# function to show an image\n",
        "def imshow(img):\n",
        "    #img = img / 2 + 0.5  # unnormalize if normalization is done in transform\n",
        "    npimg = img.numpy()\n",
        "    plt.imshow(np.transpose(npimg, (1, 2, 0)))\n",
        "    \n",
        "#get sample data\n",
        "images, labels = iter(dataloaders['val']).next()\n",
        "   \n",
        "# print images\n",
        "imshow(torchvision.utils.make_grid(images))\n",
        "print('GroundTruth: ', ' '.join('%5s' % class_names[labels[j]] for j in range(batch_size)))\n",
        "\n",
        "outputs = net(Variable(images))\n",
        "_, predicted = torch.max(outputs.data, 1)\n",
        "\n",
        "print('Predicted: ', ' '.join('%5s' % class_names[predicted[j]] for j in range(batch_size)))"
      ],
      "execution_count": 13,
      "outputs": [
        {
          "output_type": "stream",
          "name": "stdout",
          "text": [
            "GroundTruth:  TallBuilding Store\n",
            "Predicted:  InsideCity Mountain\n"
          ]
        },
        {
          "output_type": "display_data",
          "data": {
            "text/plain": [
              "<Figure size 432x288 with 1 Axes>"
            ],
            "image/png": "[encoded data removed]"
          },
          "metadata": {
            "needs_background": "light"
          }
        }
      ]
    },
    {
      "cell_type": "markdown",
      "metadata": {
        "id": "h7fYSZtMXdY-"
      },
      "source": [
        "Posteriormente estudiamos los resultados para cada clase"
      ]
    },
    {
      "cell_type": "code",
      "metadata": {
        "id": "Z6Qgu3X0QtIL",
        "outputId": "93cc4d4b-4ef8-4880-a7d9-080876849332",
        "colab": {
          "base_uri": "https://localhost:8080/"
        }
      },
      "source": [
        "class_correct = list(0. for i in range(len(class_names)))\n",
        "class_total = list(0. for i in range(len(class_names)))\n",
        "for data in dataloaders['val']:\n",
        "    images, labels = data\n",
        "    outputs = net(Variable(images))\n",
        "    _, predicted = torch.max(outputs.data, 1)\n",
        "    c = (predicted == labels).squeeze()\n",
        "    for i in range(len(labels)):\n",
        "        label = labels[i]\n",
        "        class_correct[label] += float(c.numpy().reshape(1,c.numpy().size)[0,i])\n",
        "        class_total[label] += 1\n",
        "\n",
        "class_totalT = 0\n",
        "for i in range(len(class_names)):\n",
        "    print('Accuracy of %5s : %2d %%' % (class_names[i], 100 * class_correct[i] / class_total[i]))\n",
        "    class_totalT += class_total[i]\n",
        "print('Total test data = %d images' % (class_totalT))"
      ],
      "execution_count": 14,
      "outputs": [
        {
          "output_type": "stream",
          "name": "stdout",
          "text": [
            "Accuracy of Bedroom : 18 %\n",
            "Accuracy of Coast : 55 %\n",
            "Accuracy of Forest : 44 %\n",
            "Accuracy of Highway : 51 %\n",
            "Accuracy of Industrial : 13 %\n",
            "Accuracy of InsideCity : 16 %\n",
            "Accuracy of Kitchen : 10 %\n",
            "Accuracy of LivingRoom : 19 %\n",
            "Accuracy of Mountain : 31 %\n",
            "Accuracy of Office : 22 %\n",
            "Accuracy of OpenCountry : 37 %\n",
            "Accuracy of Store : 27 %\n",
            "Accuracy of Street : 41 %\n",
            "Accuracy of Suburb : 39 %\n",
            "Accuracy of TallBuilding : 37 %\n",
            "Total test data = 2985 images\n"
          ]
        }
      ]
    },
    {
      "cell_type": "code",
      "source": [],
      "metadata": {
        "id": "Ue4JZItGPT64"
      },
      "execution_count": null,
      "outputs": []
    }
  ]
}