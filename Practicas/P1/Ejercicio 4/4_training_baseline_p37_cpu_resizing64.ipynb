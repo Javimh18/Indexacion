{
  "nbformat": 4,
  "nbformat_minor": 0,
  "metadata": {
    "colab": {
      "provenance": [],
      "collapsed_sections": []
    },
    "kernelspec": {
      "name": "python3",
      "display_name": "Python 3"
    },
    "accelerator": "GPU",
    "language_info": {
      "name": "python"
    }
  },
  "cells": [
    {
      "cell_type": "markdown",
      "metadata": {
        "id": "MbrPXkSGlcmB"
      },
      "source": [
        "#Máster en Big Data y Data Science: Ciencia e Ingeniería de Datos\n",
        "### ASIGNATURA: Indexación, búsqueda y análisis en repositorios multimedia\n",
        "### PARTE: Multimedia (imagen, video)\n",
        "### Práctica 1: Introducción al diseño de redes neuronales convolucionales con Pytorch mediante Google Colaboratory\n",
        "\n",
        "---\n",
        "\n",
        "Autor: Juan C. SanMiguel (juancarlos.sanmiguel@uam.es), Universidad Autónoma de Madrid\n",
        "\n",
        "Fecha: Febrero 2018"
      ]
    },
    {
      "cell_type": "markdown",
      "metadata": {
        "id": "H7_EXhmb8zwb"
      },
      "source": [
        "# 4. Entrenamiento de una red con CPU (training)"
      ]
    },
    {
      "cell_type": "markdown",
      "metadata": {
        "id": "TH6WlZfx_L3n"
      },
      "source": [
        "En este script, se utilizarán las siguientes rutas"
      ]
    },
    {
      "cell_type": "code",
      "metadata": {
        "id": "qSZZsS4i_KP1"
      },
      "source": [
        "drivedir = '/content/gdrive'\n",
        "tmpdir = '/content/tmp/' #temporal location to download and store the dataset\n",
        "\n",
        "pracdir = drivedir + '/My Drive/p1indexacion' #directory for practica 1 indexacion\n",
        "datadir = pracdir + '/data' #directory for storing datasets\n",
        "resudir = pracdir + '/result' #directory to save results"
      ],
      "execution_count": 2,
      "outputs": []
    },
    {
      "cell_type": "markdown",
      "metadata": {
        "id": "UOv5AC7z9_Gm"
      },
      "source": [
        "## Preparación del entorno de trabajo: Pytorch\n",
        "\n",
        "A continuación tiene un conjunto de instrucciones que instalan el software necesario para esta parte de la práctica.\n",
        "\n",
        "Recuerde que este código es compatible con Python 3."
      ]
    },
    {
      "cell_type": "code",
      "metadata": {
        "id": "Cq7viwqX-D5j",
        "outputId": "ba408cbf-f6e0-4ea7-844c-3cc9aa67564f",
        "colab": {
          "base_uri": "https://localhost:8080/",
          "height": 749
        }
      },
      "source": [
        "!pip3 install torch==1.10.0+cu111 torchvision==0.11.1+cu111 torchaudio==0.10.0+cu111 -f https://download.pytorch.org/whl/torch_stable.html"
      ],
      "execution_count": 3,
      "outputs": [
        {
          "output_type": "stream",
          "name": "stdout",
          "text": [
            "Looking in indexes: https://pypi.org/simple, https://us-python.pkg.dev/colab-wheels/public/simple/\n",
            "Looking in links: https://download.pytorch.org/whl/torch_stable.html\n",
            "Collecting torch==1.10.0+cu111\n",
            "  Downloading https://download.pytorch.org/whl/cu111/torch-1.10.0%2Bcu111-cp37-cp37m-linux_x86_64.whl (2137.6 MB)\n",
            "\u001b[K     |████████████▌                   | 834.1 MB 1.3 MB/s eta 0:17:16tcmalloc: large alloc 1147494400 bytes == 0x39a7a000 @  0x7f007d74b615 0x58e046 0x4f2e5e 0x4d19df 0x51b31c 0x5b41c5 0x58f49e 0x51b221 0x5b41c5 0x58f49e 0x51837f 0x4cfabb 0x517aa0 0x4cfabb 0x517aa0 0x4cfabb 0x517aa0 0x4ba70a 0x538136 0x590055 0x51b180 0x5b41c5 0x58f49e 0x51837f 0x5b41c5 0x58f49e 0x51740e 0x58f2a7 0x517947 0x5b41c5 0x58f49e\n",
            "\u001b[K     |███████████████▉                | 1055.7 MB 1.3 MB/s eta 0:14:23tcmalloc: large alloc 1434370048 bytes == 0x7e0d0000 @  0x7f007d74b615 0x58e046 0x4f2e5e 0x4d19df 0x51b31c 0x5b41c5 0x58f49e 0x51b221 0x5b41c5 0x58f49e 0x51837f 0x4cfabb 0x517aa0 0x4cfabb 0x517aa0 0x4cfabb 0x517aa0 0x4ba70a 0x538136 0x590055 0x51b180 0x5b41c5 0x58f49e 0x51837f 0x5b41c5 0x58f49e 0x51740e 0x58f2a7 0x517947 0x5b41c5 0x58f49e\n",
            "\u001b[K     |████████████████████            | 1336.2 MB 1.3 MB/s eta 0:10:12tcmalloc: large alloc 1792966656 bytes == 0x2f02000 @  0x7f007d74b615 0x58e046 0x4f2e5e 0x4d19df 0x51b31c 0x5b41c5 0x58f49e 0x51b221 0x5b41c5 0x58f49e 0x51837f 0x4cfabb 0x517aa0 0x4cfabb 0x517aa0 0x4cfabb 0x517aa0 0x4ba70a 0x538136 0x590055 0x51b180 0x5b41c5 0x58f49e 0x51837f 0x5b41c5 0x58f49e 0x51740e 0x58f2a7 0x517947 0x5b41c5 0x58f49e\n",
            "\u001b[K     |█████████████████████████▎      | 1691.1 MB 1.2 MB/s eta 0:06:13tcmalloc: large alloc 2241208320 bytes == 0x6dcea000 @  0x7f007d74b615 0x58e046 0x4f2e5e 0x4d19df 0x51b31c 0x5b41c5 0x58f49e 0x51b221 0x5b41c5 0x58f49e 0x51837f 0x4cfabb 0x517aa0 0x4cfabb 0x517aa0 0x4cfabb 0x517aa0 0x4ba70a 0x538136 0x590055 0x51b180 0x5b41c5 0x58f49e 0x51837f 0x5b41c5 0x58f49e 0x51740e 0x58f2a7 0x517947 0x5b41c5 0x58f49e\n",
            "\u001b[K     |████████████████████████████████| 2137.6 MB 1.3 MB/s eta 0:00:01tcmalloc: large alloc 2137645056 bytes == 0xf364c000 @  0x7f007d74a1e7 0x4b2150 0x4b21dc 0x58e046 0x4f2e5e 0x4d19df 0x51b31c 0x5b41c5 0x58f49e 0x517947 0x5b41c5 0x58f49e 0x517947 0x5b41c5 0x58f49e 0x517947 0x5b41c5 0x58f49e 0x517947 0x5b41c5 0x58f49e 0x517947 0x58f2a7 0x517947 0x5b41c5 0x58f49e 0x51837f 0x5b41c5 0x58f49e 0x51837f 0x5b41c5\n",
            "tcmalloc: large alloc 2672058368 bytes == 0x1e71a0000 @  0x7f007d74b615 0x58e046 0x4f2e5e 0x4d19df 0x51b31c 0x5b41c5 0x58f49e 0x517947 0x5b41c5 0x58f49e 0x517947 0x5b41c5 0x58f49e 0x517947 0x5b41c5 0x58f49e 0x517947 0x5b41c5 0x58f49e 0x517947 0x58f2a7 0x517947 0x5b41c5 0x58f49e 0x51837f 0x5b41c5 0x58f49e 0x51837f 0x5b41c5 0x4ba899 0x4d29f9\n",
            "\u001b[K     |████████████████████████████████| 2137.6 MB 396 bytes/s \n",
            "\u001b[?25hCollecting torchvision==0.11.1+cu111\n",
            "  Downloading https://download.pytorch.org/whl/cu111/torchvision-0.11.1%2Bcu111-cp37-cp37m-linux_x86_64.whl (24.5 MB)\n",
            "\u001b[K     |████████████████████████████████| 24.5 MB 100.3 MB/s \n",
            "\u001b[?25hCollecting torchaudio==0.10.0+cu111\n",
            "  Downloading https://download.pytorch.org/whl/cu111/torchaudio-0.10.0%2Bcu111-cp37-cp37m-linux_x86_64.whl (2.9 MB)\n",
            "\u001b[K     |████████████████████████████████| 2.9 MB 43.7 MB/s \n",
            "\u001b[?25hRequirement already satisfied: typing-extensions in /usr/local/lib/python3.7/dist-packages (from torch==1.10.0+cu111) (4.1.1)\n",
            "Requirement already satisfied: pillow!=8.3.0,>=5.3.0 in /usr/local/lib/python3.7/dist-packages (from torchvision==0.11.1+cu111) (7.1.2)\n",
            "Requirement already satisfied: numpy in /usr/local/lib/python3.7/dist-packages (from torchvision==0.11.1+cu111) (1.21.6)\n",
            "Installing collected packages: torch, torchvision, torchaudio\n",
            "  Attempting uninstall: torch\n",
            "    Found existing installation: torch 1.12.1+cu113\n",
            "    Uninstalling torch-1.12.1+cu113:\n",
            "      Successfully uninstalled torch-1.12.1+cu113\n",
            "  Attempting uninstall: torchvision\n",
            "    Found existing installation: torchvision 0.13.1+cu113\n",
            "    Uninstalling torchvision-0.13.1+cu113:\n",
            "      Successfully uninstalled torchvision-0.13.1+cu113\n",
            "  Attempting uninstall: torchaudio\n",
            "    Found existing installation: torchaudio 0.12.1+cu113\n",
            "    Uninstalling torchaudio-0.12.1+cu113:\n",
            "      Successfully uninstalled torchaudio-0.12.1+cu113\n",
            "\u001b[31mERROR: pip's dependency resolver does not currently take into account all the packages that are installed. This behaviour is the source of the following dependency conflicts.\n",
            "torchtext 0.13.1 requires torch==1.12.1, but you have torch 1.10.0+cu111 which is incompatible.\u001b[0m\n",
            "Successfully installed torch-1.10.0+cu111 torchaudio-0.10.0+cu111 torchvision-0.11.1+cu111\n"
          ]
        },
        {
          "output_type": "display_data",
          "data": {
            "application/vnd.colab-display-data+json": {
              "pip_warning": {
                "packages": [
                  "torch",
                  "torchvision"
                ]
              }
            }
          },
          "metadata": {}
        }
      ]
    },
    {
      "cell_type": "markdown",
      "metadata": {
        "id": "M84gYYV9c8RH"
      },
      "source": [
        "Descarga de ficheros adicionales"
      ]
    },
    {
      "cell_type": "code",
      "metadata": {
        "id": "0JkHG-Bnc71J",
        "outputId": "e6ccf8a4-64a5-4c7f-81ad-bd826915be3c",
        "colab": {
          "base_uri": "https://localhost:8080/"
        }
      },
      "source": [
        "import os\n",
        "import subprocess\n",
        "\n",
        "tmpdir = '/content/tmp/' #temporal location to download and store the dataset\n",
        "\n",
        "out=subprocess.call([\"mkdir\",tmpdir]) #create a empty directory\n",
        "os.chdir(tmpdir) #move to directory\n",
        "\n",
        "!wget http://www-vpu.eps.uam.es/~jcs/bigdata/utils.zip -O utils.zip #download utils\n",
        "!unzip -o -q utils.zip -d . #unzip file"
      ],
      "execution_count": 4,
      "outputs": [
        {
          "output_type": "stream",
          "name": "stdout",
          "text": [
            "--2022-10-09 17:29:59--  http://www-vpu.eps.uam.es/~jcs/bigdata/utils.zip\n",
            "Resolving www-vpu.eps.uam.es (www-vpu.eps.uam.es)... 150.244.56.90\n",
            "Connecting to www-vpu.eps.uam.es (www-vpu.eps.uam.es)|150.244.56.90|:80... connected.\n",
            "HTTP request sent, awaiting response... 200 OK\n",
            "Length: 2452 (2.4K) [application/zip]\n",
            "Saving to: ‘utils.zip’\n",
            "\n",
            "utils.zip           100%[===================>]   2.39K  --.-KB/s    in 0s      \n",
            "\n",
            "2022-10-09 17:29:59 (420 MB/s) - ‘utils.zip’ saved [2452/2452]\n",
            "\n"
          ]
        }
      ]
    },
    {
      "cell_type": "markdown",
      "metadata": {
        "id": "9zoOE4V7l5tS"
      },
      "source": [
        "## Preparación del entorno de trabajo: Google Drive\n",
        "\n",
        "Ejecute el siguiente código para enlazar este script con su cuenta de Google Drive. Los datos que se generen aquí se guardarán en su carpeta Drive para posterior uso. Por defecto, la unidad de Google Drive es enlaza con el directorio **/content/drive/**."
      ]
    },
    {
      "cell_type": "code",
      "metadata": {
        "id": "YdwRGAHB3nM1",
        "outputId": "dee9245e-b7c1-46c5-b5aa-5c194cedd40c",
        "colab": {
          "base_uri": "https://localhost:8080/"
        }
      },
      "source": [
        "from google.colab import drive\n",
        "drive.mount(drivedir)\n",
        "\n",
        "print(\"Google Drive mount completed\")\n",
        "\n",
        "#check correct mount of drive directory\n",
        "!df -h"
      ],
      "execution_count": 5,
      "outputs": [
        {
          "output_type": "stream",
          "name": "stdout",
          "text": [
            "Mounted at /content/gdrive\n",
            "Google Drive mount completed\n",
            "Filesystem      Size  Used Avail Use% Mounted on\n",
            "overlay          79G   30G   49G  38% /\n",
            "tmpfs            64M     0   64M   0% /dev\n",
            "shm             5.7G     0  5.7G   0% /dev/shm\n",
            "/dev/root       2.0G  1.1G  910M  54% /sbin/docker-init\n",
            "tmpfs           6.4G   32K  6.4G   1% /var/colab\n",
            "/dev/sda1        50G   36G   15G  72% /opt/bin/.nvidia\n",
            "tmpfs           6.4G     0  6.4G   0% /proc/acpi\n",
            "tmpfs           6.4G     0  6.4G   0% /proc/scsi\n",
            "tmpfs           6.4G     0  6.4G   0% /sys/firmware\n",
            "drive            15G   15G  378M  98% /content/gdrive\n"
          ]
        }
      ]
    },
    {
      "cell_type": "markdown",
      "metadata": {
        "id": "74-1H-SB6U_p"
      },
      "source": [
        "## Dataset\n",
        "\n",
        "En este ejemplo de entrenamiento, vamos a utilizar el dataset Scenes15"
      ]
    },
    {
      "cell_type": "code",
      "metadata": {
        "id": "fq6c0XQy6d2X",
        "outputId": "c5ef8f6b-3819-4250-8b2b-daeba7b08d23",
        "colab": {
          "base_uri": "https://localhost:8080/"
        }
      },
      "source": [
        "import subprocess\n",
        "import os\n",
        "\n",
        "out=subprocess.call([\"mkdir\",pracdir])#create directory\n",
        "out=subprocess.call([\"mkdir\",datadir])#create directory\n",
        "out=subprocess.call([\"mkdir\",resudir])#create directory\n",
        "\n",
        "os.chdir(datadir) #move to directory\n",
        "\n",
        "#download and unzip the file\n",
        "!wget http://www-vpu.eps.uam.es/~jcs/bigdata/Scene15.zip -O Scene15.zip\n",
        "!unzip -o -q Scene15.zip -d .\n",
        "\n",
        "print('Dataset downloaded and unzipped')\n",
        "\n",
        "!ls -lah #show directory & file usage"
      ],
      "execution_count": 6,
      "outputs": [
        {
          "output_type": "stream",
          "name": "stdout",
          "text": [
            "--2022-10-09 17:30:23--  http://www-vpu.eps.uam.es/~jcs/bigdata/Scene15.zip\n",
            "Resolving www-vpu.eps.uam.es (www-vpu.eps.uam.es)... 150.244.56.90\n",
            "Connecting to www-vpu.eps.uam.es (www-vpu.eps.uam.es)|150.244.56.90|:80... connected.\n",
            "HTTP request sent, awaiting response... 200 OK\n",
            "Length: 86395596 (82M) [application/zip]\n",
            "Saving to: ‘Scene15.zip’\n",
            "\n",
            "Scene15.zip         100%[===================>]  82.39M  20.4MB/s    in 5.1s    \n",
            "\n",
            "2022-10-09 17:30:28 (16.2 MB/s) - ‘Scene15.zip’ saved [86395596/86395596]\n",
            "\n",
            "Dataset downloaded and unzipped\n",
            "total 83M\n",
            "drwx------ 4 root root 4.0K Oct  8 16:44 Scene15\n",
            "-rw------- 1 root root  83M Feb 28  2018 Scene15.zip\n"
          ]
        }
      ]
    },
    {
      "cell_type": "markdown",
      "metadata": {
        "id": "Acnx8c5Q3n4K"
      },
      "source": [
        "Parametros para la generación del dataset"
      ]
    },
    {
      "cell_type": "code",
      "metadata": {
        "id": "R6Q0dZw6Hq2E"
      },
      "source": [
        "import os\n",
        "import torch\n",
        "from torchvision import datasets\n",
        "import torchvision.transforms as transforms\n",
        "\n",
        "#path to the downloaded dataset\n",
        "dataset_dir = datadir + '/Scene15/'\n",
        "\n",
        "#number of samples/images per group\n",
        "batch_size = 4\n",
        "# batch_sizes=[2, 4, 8, 16, 32]\n",
        "\n",
        "#data transformation\n",
        "Resizing_factor = (64,64)\n",
        "transform = transforms.Compose([ transforms.Resize(size=Resizing_factor),                                 \n",
        "                                transforms.ToTensor()                                \n",
        "                                ])\n",
        "\n",
        "#list & load images\n",
        "image_datasets = {x: datasets.ImageFolder(os.path.join(dataset_dir, x), transform) for x in ['train', 'val']}\n",
        "class_names = image_datasets['train'].classes\n",
        "\n",
        "#load & convert images to tensors in Python\n",
        "dataloaders = {x: torch.utils.data.DataLoader(image_datasets[x], batch_size, shuffle=True, num_workers=2) for x in ['train', 'val']}"
      ],
      "execution_count": 7,
      "outputs": []
    },
    {
      "cell_type": "markdown",
      "metadata": {
        "id": "7QK8uZt7CCRb"
      },
      "source": [
        "## Creación de la red\n",
        "\n",
        "A continuación, creamos una red tipo Lenet (modificada para soportar imágenes distintas a 32x32)"
      ]
    },
    {
      "cell_type": "code",
      "metadata": {
        "id": "HWEfU3PqCRCV",
        "outputId": "73176621-011d-43b0-c065-aab8396fd65e",
        "colab": {
          "base_uri": "https://localhost:8080/"
        }
      },
      "source": [
        "import os\n",
        "os.chdir(tmpdir) #move to directory\n",
        "\n",
        "#runs script and keeps variables\n",
        "%run -i ./utils/mylenet.py\n",
        "\n",
        "# get some random training images to initialize network\n",
        "images, labels = iter(dataloaders['train']).next()\n",
        "\n",
        "net = Net(input_shape=images[0].size(), num_outputs=len(class_names))\n",
        "print(net)\n",
        "\n",
        "print(\"Network ready to train!\")"
      ],
      "execution_count": 8,
      "outputs": [
        {
          "output_type": "stream",
          "name": "stdout",
          "text": [
            "Net(\n",
            "  (conv1): Conv2d(3, 6, kernel_size=(5, 5), stride=(1, 1))\n",
            "  (pool): MaxPool2d(kernel_size=2, stride=2, padding=0, dilation=1, ceil_mode=False)\n",
            "  (conv2): Conv2d(6, 16, kernel_size=(5, 5), stride=(1, 1))\n",
            "  (fc1): Linear(in_features=2704, out_features=120, bias=True)\n",
            "  (fc2): Linear(in_features=120, out_features=84, bias=True)\n",
            "  (fc3): Linear(in_features=84, out_features=15, bias=True)\n",
            ")\n",
            "Network ready to train!\n"
          ]
        }
      ]
    },
    {
      "cell_type": "markdown",
      "metadata": {
        "id": "umau1YMBKeN_"
      },
      "source": [
        "## Definir una función de coste/optimizador\n",
        "\n",
        "En este ejemplo utilizamos Cross-Entropy para medir la precisión de nuestro clasificador y SGD como optimizador."
      ]
    },
    {
      "cell_type": "code",
      "metadata": {
        "id": "kQDA6EkKKem_"
      },
      "source": [
        "import torch.optim as optim\n",
        "import torch.nn as nn\n",
        "\n",
        "criterion = nn.CrossEntropyLoss()\n",
        "optimizer = optim.SGD(net.parameters(), lr=0.001, momentum=0.9)"
      ],
      "execution_count": 9,
      "outputs": []
    },
    {
      "cell_type": "markdown",
      "metadata": {
        "id": "GaYSTVfOK1lD"
      },
      "source": [
        "## Entrenar la red\n",
        "\n",
        "Ejecución iterativa sobre los datos de entrenamiento/test y actualización de los pesos"
      ]
    },
    {
      "cell_type": "code",
      "metadata": {
        "id": "5jcjp9XGLAeR",
        "outputId": "be44eda3-2257-4809-e3da-1eb3b2a3f7c4",
        "colab": {
          "base_uri": "https://localhost:8080/"
        }
      },
      "source": [
        "import time\n",
        "import numpy as np\n",
        "from torch.autograd import Variable\n",
        "\n",
        "display_batch_iter = 100\n",
        "number_epochs = 50\n",
        "\n",
        "epoch_loss =  np.zeros((number_epochs,1))\n",
        "epoch_train_acc =  np.zeros((number_epochs,1))\n",
        "epoch_test_acc =  np.zeros((number_epochs,1))  \n",
        "train_time =  0.0\n",
        "\n",
        "Ntrain = len(image_datasets['train']) #number of samples for training\n",
        "Ntest = len(image_datasets['val']) #number of samples for test/validation\n",
        "    \n",
        "device = torch.device(\"cpu\") #CPU mode for training\n",
        "\n",
        "start = time.time()\n",
        "\n",
        "print('Training in CPUmode #epochs=%d #batches=%d batchsize=%d' % (number_epochs, len(dataloaders['train']),batch_size))\n",
        "print('**** Printing loss every %5d batches ****' % (display_batch_iter))  \n",
        "for epoch in range(number_epochs):  # loop over the dataset multiple times\n",
        "    running_loss = 0.0\n",
        "    for i, data in enumerate(dataloaders['train'], 0):\n",
        "        # get the inputs\n",
        "        inputs, labels = data\n",
        "\n",
        "        # wrap them in Variable\n",
        "        inputs, labels = Variable(inputs), Variable(labels)\n",
        "\n",
        "        # zero the parameter gradients\n",
        "        optimizer.zero_grad()\n",
        "\n",
        "        # forward + backward + optimize\n",
        "        outputs = net(inputs)\n",
        "        loss = criterion(outputs, labels)\n",
        "        loss.backward()\n",
        "        optimizer.step()\n",
        "\n",
        "        # print statistics\n",
        "        running_loss += loss.data.numpy()\n",
        "        epoch_loss[epoch] += loss.data.numpy()\n",
        "        if i % display_batch_iter == display_batch_iter-1:    # print every XXX mini-batches\n",
        "            print('[%d, %5d] loss: %.3f' % (epoch + 1, i + 1, running_loss / display_batch_iter))\n",
        "            running_loss = 0.0\n",
        "\n",
        "    # compute accuracy on training set\n",
        "    correct1 = 0.0\n",
        "    for data in dataloaders['train']:    \n",
        "      images, labels = data\n",
        "      outputs = net(Variable(images))\n",
        "      _, predicted = torch.max(outputs.data, 1)\n",
        "      correct1 += (predicted == labels).sum()\n",
        "      \n",
        "    # compute accuracy on test set\n",
        "    correct2 = 0.0\n",
        "    for data in dataloaders['val']:    \n",
        "      images, labels = data\n",
        "      outputs = net(Variable(images))\n",
        "      _, predicted = torch.max(outputs.data, 1)\n",
        "      correct2 += (predicted == labels).sum()\n",
        "    \n",
        "    epoch_loss[epoch] = epoch_loss[epoch] / len(dataloaders['train']) # average loss for each epoch\n",
        "    epoch_train_acc[epoch] =  100 * correct1 / Ntrain   # average train accuracy for each epoch\n",
        "    epoch_test_acc[epoch]  =  100 * correct2 / Ntest    # average test accuracy for each epoch\n",
        "    print('Epoch %02d, loss: %1.3f, accuracy train: %2.3f %% (correct %04d total %04d ) accuracy test: %2.3f %% (correct %04d total %04d )' % (epoch + 1, epoch_loss[epoch], epoch_train_acc[epoch], correct1, Ntrain, epoch_test_acc[epoch], correct2, Ntest ))\n",
        "    \n",
        "train_time = time.time() - start\n",
        "print('Finished Training (' + str(train_time) + ' secs)')"
      ],
      "execution_count": 10,
      "outputs": [
        {
          "output_type": "stream",
          "name": "stdout",
          "text": [
            "Training in CPUmode #epochs=50 #batches=375 batchsize=4\n",
            "**** Printing loss every   100 batches ****\n",
            "[1,   100] loss: 2.710\n",
            "[1,   200] loss: 2.713\n",
            "[1,   300] loss: 2.710\n",
            "Epoch 01, loss: 2.712, accuracy train: 8.333 % (correct 0125 total 1500 ) accuracy test: 5.896 % (correct 0176 total 2985 )\n",
            "[2,   100] loss: 2.707\n",
            "[2,   200] loss: 2.706\n",
            "[2,   300] loss: 2.709\n",
            "Epoch 02, loss: 2.707, accuracy train: 8.667 % (correct 0130 total 1500 ) accuracy test: 5.528 % (correct 0165 total 2985 )\n",
            "[3,   100] loss: 2.703\n",
            "[3,   200] loss: 2.697\n",
            "[3,   300] loss: 2.696\n",
            "Epoch 03, loss: 2.694, accuracy train: 10.200 % (correct 0153 total 1500 ) accuracy test: 7.404 % (correct 0221 total 2985 )\n",
            "[4,   100] loss: 2.648\n",
            "[4,   200] loss: 2.669\n",
            "[4,   300] loss: 2.593\n",
            "Epoch 04, loss: 2.631, accuracy train: 16.000 % (correct 0240 total 1500 ) accuracy test: 12.362 % (correct 0369 total 2985 )\n",
            "[5,   100] loss: 2.558\n",
            "[5,   200] loss: 2.606\n",
            "[5,   300] loss: 2.545\n",
            "Epoch 05, loss: 2.569, accuracy train: 16.933 % (correct 0254 total 1500 ) accuracy test: 12.328 % (correct 0368 total 2985 )\n",
            "[6,   100] loss: 2.515\n",
            "[6,   200] loss: 2.504\n",
            "[6,   300] loss: 2.538\n",
            "Epoch 06, loss: 2.511, accuracy train: 19.867 % (correct 0298 total 1500 ) accuracy test: 13.903 % (correct 0415 total 2985 )\n",
            "[7,   100] loss: 2.438\n",
            "[7,   200] loss: 2.546\n",
            "[7,   300] loss: 2.480\n",
            "Epoch 07, loss: 2.473, accuracy train: 21.667 % (correct 0325 total 1500 ) accuracy test: 17.152 % (correct 0512 total 2985 )\n",
            "[8,   100] loss: 2.469\n",
            "[8,   200] loss: 2.460\n",
            "[8,   300] loss: 2.392\n",
            "Epoch 08, loss: 2.425, accuracy train: 23.667 % (correct 0355 total 1500 ) accuracy test: 17.755 % (correct 0530 total 2985 )\n",
            "[9,   100] loss: 2.309\n",
            "[9,   200] loss: 2.419\n",
            "[9,   300] loss: 2.418\n",
            "Epoch 09, loss: 2.381, accuracy train: 24.000 % (correct 0360 total 1500 ) accuracy test: 18.258 % (correct 0545 total 2985 )\n",
            "[10,   100] loss: 2.370\n",
            "[10,   200] loss: 2.318\n",
            "[10,   300] loss: 2.310\n",
            "Epoch 10, loss: 2.328, accuracy train: 28.733 % (correct 0431 total 1500 ) accuracy test: 22.010 % (correct 0657 total 2985 )\n",
            "[11,   100] loss: 2.250\n",
            "[11,   200] loss: 2.330\n",
            "[11,   300] loss: 2.217\n",
            "Epoch 11, loss: 2.267, accuracy train: 30.133 % (correct 0452 total 1500 ) accuracy test: 21.843 % (correct 0652 total 2985 )\n",
            "[12,   100] loss: 2.205\n",
            "[12,   200] loss: 2.146\n",
            "[12,   300] loss: 2.104\n",
            "Epoch 12, loss: 2.149, accuracy train: 36.867 % (correct 0553 total 1500 ) accuracy test: 26.700 % (correct 0797 total 2985 )\n",
            "[13,   100] loss: 1.952\n",
            "[13,   200] loss: 2.029\n",
            "[13,   300] loss: 2.023\n",
            "Epoch 13, loss: 2.014, accuracy train: 38.600 % (correct 0579 total 1500 ) accuracy test: 28.007 % (correct 0836 total 2985 )\n",
            "[14,   100] loss: 1.917\n",
            "[14,   200] loss: 1.857\n",
            "[14,   300] loss: 1.912\n",
            "Epoch 14, loss: 1.884, accuracy train: 43.667 % (correct 0655 total 1500 ) accuracy test: 32.596 % (correct 0973 total 2985 )\n",
            "[15,   100] loss: 1.742\n",
            "[15,   200] loss: 1.787\n",
            "[15,   300] loss: 1.710\n",
            "Epoch 15, loss: 1.759, accuracy train: 51.800 % (correct 0777 total 1500 ) accuracy test: 33.266 % (correct 0993 total 2985 )\n",
            "[16,   100] loss: 1.543\n",
            "[16,   200] loss: 1.658\n",
            "[16,   300] loss: 1.633\n",
            "Epoch 16, loss: 1.625, accuracy train: 59.067 % (correct 0886 total 1500 ) accuracy test: 31.223 % (correct 0932 total 2985 )\n",
            "[17,   100] loss: 1.403\n",
            "[17,   200] loss: 1.603\n",
            "[17,   300] loss: 1.334\n",
            "Epoch 17, loss: 1.465, accuracy train: 59.733 % (correct 0896 total 1500 ) accuracy test: 28.710 % (correct 0857 total 2985 )\n",
            "[18,   100] loss: 1.129\n",
            "[18,   200] loss: 1.429\n",
            "[18,   300] loss: 1.417\n",
            "Epoch 18, loss: 1.314, accuracy train: 68.200 % (correct 1023 total 1500 ) accuracy test: 31.960 % (correct 0954 total 2985 )\n",
            "[19,   100] loss: 1.021\n",
            "[19,   200] loss: 1.121\n",
            "[19,   300] loss: 1.043\n",
            "Epoch 19, loss: 1.073, accuracy train: 74.200 % (correct 1113 total 1500 ) accuracy test: 30.050 % (correct 0897 total 2985 )\n",
            "[20,   100] loss: 0.802\n",
            "[20,   200] loss: 0.915\n",
            "[20,   300] loss: 0.881\n",
            "Epoch 20, loss: 0.898, accuracy train: 78.200 % (correct 1173 total 1500 ) accuracy test: 31.390 % (correct 0937 total 2985 )\n",
            "[21,   100] loss: 0.779\n",
            "[21,   200] loss: 0.627\n",
            "[21,   300] loss: 0.805\n",
            "Epoch 21, loss: 0.758, accuracy train: 80.000 % (correct 1200 total 1500 ) accuracy test: 28.576 % (correct 0853 total 2985 )\n",
            "[22,   100] loss: 0.632\n",
            "[22,   200] loss: 0.567\n",
            "[22,   300] loss: 0.801\n",
            "Epoch 22, loss: 0.688, accuracy train: 81.800 % (correct 1227 total 1500 ) accuracy test: 31.189 % (correct 0931 total 2985 )\n",
            "[23,   100] loss: 0.501\n",
            "[23,   200] loss: 0.368\n",
            "[23,   300] loss: 0.538\n",
            "Epoch 23, loss: 0.475, accuracy train: 84.733 % (correct 1271 total 1500 ) accuracy test: 31.022 % (correct 0926 total 2985 )\n",
            "[24,   100] loss: 0.380\n",
            "[24,   200] loss: 0.353\n",
            "[24,   300] loss: 0.445\n",
            "Epoch 24, loss: 0.445, accuracy train: 86.000 % (correct 1290 total 1500 ) accuracy test: 27.638 % (correct 0825 total 2985 )\n",
            "[25,   100] loss: 0.444\n",
            "[25,   200] loss: 0.346\n",
            "[25,   300] loss: 0.473\n",
            "Epoch 25, loss: 0.452, accuracy train: 91.867 % (correct 1378 total 1500 ) accuracy test: 30.821 % (correct 0920 total 2985 )\n",
            "[26,   100] loss: 0.222\n",
            "[26,   200] loss: 0.388\n",
            "[26,   300] loss: 0.336\n",
            "Epoch 26, loss: 0.317, accuracy train: 95.267 % (correct 1429 total 1500 ) accuracy test: 31.323 % (correct 0935 total 2985 )\n",
            "[27,   100] loss: 0.284\n",
            "[27,   200] loss: 0.246\n",
            "[27,   300] loss: 0.396\n",
            "Epoch 27, loss: 0.319, accuracy train: 95.733 % (correct 1436 total 1500 ) accuracy test: 30.620 % (correct 0914 total 2985 )\n",
            "[28,   100] loss: 0.279\n",
            "[28,   200] loss: 0.381\n",
            "[28,   300] loss: 0.226\n",
            "Epoch 28, loss: 0.297, accuracy train: 96.067 % (correct 1441 total 1500 ) accuracy test: 30.787 % (correct 0919 total 2985 )\n",
            "[29,   100] loss: 0.185\n",
            "[29,   200] loss: 0.136\n",
            "[29,   300] loss: 0.262\n",
            "Epoch 29, loss: 0.182, accuracy train: 97.133 % (correct 1457 total 1500 ) accuracy test: 30.419 % (correct 0908 total 2985 )\n",
            "[30,   100] loss: 0.066\n",
            "[30,   200] loss: 0.078\n",
            "[30,   300] loss: 0.171\n",
            "Epoch 30, loss: 0.158, accuracy train: 90.267 % (correct 1354 total 1500 ) accuracy test: 25.930 % (correct 0774 total 2985 )\n",
            "[31,   100] loss: 0.141\n",
            "[31,   200] loss: 0.132\n",
            "[31,   300] loss: 0.147\n",
            "Epoch 31, loss: 0.144, accuracy train: 98.600 % (correct 1479 total 1500 ) accuracy test: 32.429 % (correct 0968 total 2985 )\n",
            "[32,   100] loss: 0.055\n",
            "[32,   200] loss: 0.230\n",
            "[32,   300] loss: 0.136\n",
            "Epoch 32, loss: 0.132, accuracy train: 99.333 % (correct 1490 total 1500 ) accuracy test: 32.295 % (correct 0964 total 2985 )\n",
            "[33,   100] loss: 0.029\n",
            "[33,   200] loss: 0.052\n",
            "[33,   300] loss: 0.197\n",
            "Epoch 33, loss: 0.098, accuracy train: 98.133 % (correct 1472 total 1500 ) accuracy test: 29.514 % (correct 0881 total 2985 )\n",
            "[34,   100] loss: 0.046\n",
            "[34,   200] loss: 0.064\n",
            "[34,   300] loss: 0.137\n",
            "Epoch 34, loss: 0.088, accuracy train: 98.733 % (correct 1481 total 1500 ) accuracy test: 30.586 % (correct 0913 total 2985 )\n",
            "[35,   100] loss: 0.037\n",
            "[35,   200] loss: 0.071\n",
            "[35,   300] loss: 0.207\n",
            "Epoch 35, loss: 0.105, accuracy train: 97.200 % (correct 1458 total 1500 ) accuracy test: 29.514 % (correct 0881 total 2985 )\n",
            "[36,   100] loss: 0.111\n",
            "[36,   200] loss: 0.146\n",
            "[36,   300] loss: 0.255\n",
            "Epoch 36, loss: 0.171, accuracy train: 97.267 % (correct 1459 total 1500 ) accuracy test: 30.318 % (correct 0905 total 2985 )\n",
            "[37,   100] loss: 0.072\n",
            "[37,   200] loss: 0.157\n",
            "[37,   300] loss: 0.255\n",
            "Epoch 37, loss: 0.158, accuracy train: 97.733 % (correct 1466 total 1500 ) accuracy test: 29.983 % (correct 0895 total 2985 )\n",
            "[38,   100] loss: 0.097\n",
            "[38,   200] loss: 0.162\n",
            "[38,   300] loss: 0.199\n",
            "Epoch 38, loss: 0.208, accuracy train: 95.067 % (correct 1426 total 1500 ) accuracy test: 30.184 % (correct 0901 total 2985 )\n",
            "[39,   100] loss: 0.112\n",
            "[39,   200] loss: 0.067\n",
            "[39,   300] loss: 0.108\n",
            "Epoch 39, loss: 0.096, accuracy train: 98.933 % (correct 1484 total 1500 ) accuracy test: 30.385 % (correct 0907 total 2985 )\n",
            "[40,   100] loss: 0.031\n",
            "[40,   200] loss: 0.029\n",
            "[40,   300] loss: 0.016\n",
            "Epoch 40, loss: 0.024, accuracy train: 99.867 % (correct 1498 total 1500 ) accuracy test: 31.424 % (correct 0938 total 2985 )\n",
            "[41,   100] loss: 0.005\n",
            "[41,   200] loss: 0.009\n",
            "[41,   300] loss: 0.023\n",
            "Epoch 41, loss: 0.016, accuracy train: 99.800 % (correct 1497 total 1500 ) accuracy test: 31.390 % (correct 0937 total 2985 )\n",
            "[42,   100] loss: 0.004\n",
            "[42,   200] loss: 0.010\n",
            "[42,   300] loss: 0.007\n",
            "Epoch 42, loss: 0.006, accuracy train: 100.000 % (correct 1500 total 1500 ) accuracy test: 31.524 % (correct 0941 total 2985 )\n",
            "[43,   100] loss: 0.005\n",
            "[43,   200] loss: 0.003\n",
            "[43,   300] loss: 0.004\n",
            "Epoch 43, loss: 0.003, accuracy train: 100.000 % (correct 1500 total 1500 ) accuracy test: 31.725 % (correct 0947 total 2985 )\n",
            "[44,   100] loss: 0.002\n",
            "[44,   200] loss: 0.002\n",
            "[44,   300] loss: 0.003\n",
            "Epoch 44, loss: 0.002, accuracy train: 100.000 % (correct 1500 total 1500 ) accuracy test: 31.960 % (correct 0954 total 2985 )\n",
            "[45,   100] loss: 0.001\n",
            "[45,   200] loss: 0.002\n",
            "[45,   300] loss: 0.002\n",
            "Epoch 45, loss: 0.002, accuracy train: 100.000 % (correct 1500 total 1500 ) accuracy test: 31.792 % (correct 0949 total 2985 )\n",
            "[46,   100] loss: 0.001\n",
            "[46,   200] loss: 0.001\n",
            "[46,   300] loss: 0.002\n",
            "Epoch 46, loss: 0.001, accuracy train: 100.000 % (correct 1500 total 1500 ) accuracy test: 31.826 % (correct 0950 total 2985 )\n",
            "[47,   100] loss: 0.001\n",
            "[47,   200] loss: 0.001\n",
            "[47,   300] loss: 0.001\n",
            "Epoch 47, loss: 0.001, accuracy train: 100.000 % (correct 1500 total 1500 ) accuracy test: 31.759 % (correct 0948 total 2985 )\n",
            "[48,   100] loss: 0.000\n",
            "[48,   200] loss: 0.001\n",
            "[48,   300] loss: 0.001\n",
            "Epoch 48, loss: 0.001, accuracy train: 100.000 % (correct 1500 total 1500 ) accuracy test: 31.926 % (correct 0953 total 2985 )\n",
            "[49,   100] loss: 0.001\n",
            "[49,   200] loss: 0.001\n",
            "[49,   300] loss: 0.001\n",
            "Epoch 49, loss: 0.001, accuracy train: 100.000 % (correct 1500 total 1500 ) accuracy test: 31.893 % (correct 0952 total 2985 )\n",
            "[50,   100] loss: 0.001\n",
            "[50,   200] loss: 0.001\n",
            "[50,   300] loss: 0.001\n",
            "Epoch 50, loss: 0.001, accuracy train: 100.000 % (correct 1500 total 1500 ) accuracy test: 31.826 % (correct 0950 total 2985 )\n",
            "Finished Training (850.3378167152405 secs)\n"
          ]
        }
      ]
    },
    {
      "cell_type": "markdown",
      "metadata": {
        "id": "84AJx1XzjfRm"
      },
      "source": [
        "Finalmente podemos guardar los datos tras el entrenamiento en nuestra carpeta de Google Drive"
      ]
    },
    {
      "cell_type": "code",
      "metadata": {
        "id": "GRv6KngBjkha",
        "outputId": "b38280f0-54f6-4954-d395-44b39464fdcb",
        "colab": {
          "base_uri": "https://localhost:8080/"
        }
      },
      "source": [
        "#save results in a single file\n",
        "import pickle\n",
        "import os\n",
        "os.chdir(pracdir) #move to drive directory\n",
        "\n",
        "# Saving the objects:\n",
        "f = open('training_baseline_cpu_results_epochs_'+ str(number_epochs) +'.pkl', 'wb')\n",
        "pickle.dump([epoch_train_acc, epoch_test_acc, epoch_loss, train_time, number_epochs, batch_size], f)\n",
        "f.close()\n",
        "print('Saved data')"
      ],
      "execution_count": 11,
      "outputs": [
        {
          "output_type": "stream",
          "name": "stdout",
          "text": [
            "Saved data\n"
          ]
        }
      ]
    },
    {
      "cell_type": "markdown",
      "metadata": {
        "id": "i9fHv1kN70nG"
      },
      "source": [
        "Posteriormente, si quisieramos recuperar las variables/objetos para analizar, utilizaremos el siguiente código"
      ]
    },
    {
      "cell_type": "code",
      "metadata": {
        "id": "iyIVJxTi7p1s",
        "outputId": "2dde2f6d-5440-4b9b-ae29-dc3ccf1ed9a8",
        "colab": {
          "base_uri": "https://localhost:8080/",
          "height": 222
        }
      },
      "source": [
        "#get results from a single file\n",
        "import pickle\n",
        "import os\n",
        "os.chdir(pracdir) #move to drive directory\n",
        "\n",
        "# Load the objects\n",
        "f = open('training_baseline_results_epochs_30.pkl', 'rb')\n",
        "epoch_train_acc, epoch_test_acc, epoch_loss, train_time, number_epochs, batch_size = pickle.load(f)"
      ],
      "execution_count": null,
      "outputs": [
        {
          "output_type": "error",
          "ename": "FileNotFoundError",
          "evalue": "ignored",
          "traceback": [
            "\u001b[0;31m---------------------------------------------------------------------------\u001b[0m",
            "\u001b[0;31mFileNotFoundError\u001b[0m                         Traceback (most recent call last)",
            "\u001b[0;32m./utils/mylenet.py\u001b[0m in \u001b[0;36m<module>\u001b[0;34m\u001b[0m\n\u001b[1;32m      5\u001b[0m \u001b[0;34m\u001b[0m\u001b[0m\n\u001b[1;32m      6\u001b[0m \u001b[0;31m# Load the objects\u001b[0m\u001b[0;34m\u001b[0m\u001b[0;34m\u001b[0m\u001b[0;34m\u001b[0m\u001b[0m\n\u001b[0;32m----> 7\u001b[0;31m \u001b[0mf\u001b[0m \u001b[0;34m=\u001b[0m \u001b[0mopen\u001b[0m\u001b[0;34m(\u001b[0m\u001b[0;34m'training_baseline_results_epochs_30.pkl'\u001b[0m\u001b[0;34m,\u001b[0m \u001b[0;34m'rb'\u001b[0m\u001b[0;34m)\u001b[0m\u001b[0;34m\u001b[0m\u001b[0;34m\u001b[0m\u001b[0m\n\u001b[0m\u001b[1;32m      8\u001b[0m \u001b[0mepoch_train_acc\u001b[0m\u001b[0;34m,\u001b[0m \u001b[0mepoch_test_acc\u001b[0m\u001b[0;34m,\u001b[0m \u001b[0mepoch_loss\u001b[0m\u001b[0;34m,\u001b[0m \u001b[0mtrain_time\u001b[0m\u001b[0;34m,\u001b[0m \u001b[0mnumber_epochs\u001b[0m\u001b[0;34m,\u001b[0m \u001b[0mbatch_size\u001b[0m \u001b[0;34m=\u001b[0m \u001b[0mpickle\u001b[0m\u001b[0;34m.\u001b[0m\u001b[0mload\u001b[0m\u001b[0;34m(\u001b[0m\u001b[0mf\u001b[0m\u001b[0;34m)\u001b[0m\u001b[0;34m\u001b[0m\u001b[0;34m\u001b[0m\u001b[0m\n",
            "\u001b[0;31mFileNotFoundError\u001b[0m: [Errno 2] No such file or directory: 'training_baseline_results_epochs_30.pkl'"
          ]
        }
      ]
    },
    {
      "cell_type": "markdown",
      "metadata": {
        "id": "WIpYsUwtmk9v"
      },
      "source": [
        "# Resultados tras entrenamiento \n",
        "\n"
      ]
    },
    {
      "cell_type": "markdown",
      "metadata": {
        "id": "E2kqMm6FmuMT"
      },
      "source": [
        "## Análisis de precisión y función de pérdidas\n",
        "A continuación pintamos las variables que hemos acumulado durante el entrenamiento."
      ]
    },
    {
      "cell_type": "code",
      "metadata": {
        "id": "6vlAL68xjl1-",
        "outputId": "87090625-c58a-478e-ce5d-b18b20d639d3",
        "colab": {
          "base_uri": "https://localhost:8080/",
          "height": 295
        }
      },
      "source": [
        "import matplotlib.pyplot as plt\n",
        "\n",
        "t = range(number_epochs)\n",
        "lineObjects =plt.plot(t,epoch_train_acc,'r--',t,epoch_test_acc,'bs')\n",
        "plt.legend(lineObjects, ('train', 'test'))\n",
        "plt.ylabel('Accuracy (%)')\n",
        "plt.xlabel('Epoch')\n",
        "plt.title('Accuracy results') \n",
        "\n",
        "import os\n",
        "os.chdir(pracdir) #move to drive directory for saving data\n",
        "\n",
        "plt.savefig('training_accuracy_baseline__epochs'+ str(number_epochs) + '_CPU.png',bbox_inches='tight')#call this function before \"plt.show()\"\n",
        "plt.show()"
      ],
      "execution_count": 12,
      "outputs": [
        {
          "output_type": "display_data",
          "data": {
            "text/plain": [
              "<Figure size 432x288 with 1 Axes>"
            ],
            "image/png": "[encoded data removed]"
          },
          "metadata": {
            "needs_background": "light"
          }
        }
      ]
    },
    {
      "cell_type": "code",
      "metadata": {
        "id": "AlaiffYgmOok",
        "outputId": "1b61923b-c4ff-4770-db9a-6239a861b0fd",
        "colab": {
          "base_uri": "https://localhost:8080/",
          "height": 295
        }
      },
      "source": [
        "import matplotlib.pyplot as plt\n",
        "\n",
        "t = range(number_epochs)\n",
        "plt.plot(t,epoch_loss,'r--')\n",
        "plt.ylabel('Loss')\n",
        "plt.xlabel('Epoch')\n",
        "plt.title('Epoch loss for training') \n",
        "plt.show()"
      ],
      "execution_count": 13,
      "outputs": [
        {
          "output_type": "display_data",
          "data": {
            "text/plain": [
              "<Figure size 432x288 with 1 Axes>"
            ],
            "image/png": "[encoded data removed]"
          },
          "metadata": {
            "needs_background": "light"
          }
        }
      ]
    },
    {
      "cell_type": "markdown",
      "metadata": {
        "id": "evgVriqsXN7Q"
      },
      "source": [
        "## Ejemplos de resultado\n",
        "\n",
        "Es recomendable repasar los resultados obtenidos tanto gráficamente como estadísticamente.\n",
        "\n",
        "Primero, seleccionamos algunos datos y visualmente verificamos errores:\n"
      ]
    },
    {
      "cell_type": "code",
      "metadata": {
        "id": "79GFRR-XQjdc",
        "outputId": "81ed84e7-c4e6-494c-99e1-3208341801b0",
        "colab": {
          "base_uri": "https://localhost:8080/",
          "height": 172
        }
      },
      "source": [
        "import torchvision\n",
        "\n",
        "# function to show an image\n",
        "def imshow(img):\n",
        "    #img = img / 2 + 0.5  # unnormalize if normalization is done in transform\n",
        "    npimg = img.numpy()\n",
        "    plt.imshow(np.transpose(npimg, (1, 2, 0)))\n",
        "    \n",
        "#get sample data\n",
        "images, labels = iter(dataloaders['val']).next()\n",
        "   \n",
        "# print images\n",
        "imshow(torchvision.utils.make_grid(images))\n",
        "print('GroundTruth: ', ' '.join('%5s' % class_names[labels[j]] for j in range(batch_size)))\n",
        "\n",
        "outputs = net(Variable(images))\n",
        "_, predicted = torch.max(outputs.data, 1)\n",
        "\n",
        "print('Predicted: ', ' '.join('%5s' % class_names[predicted[j]] for j in range(batch_size)))"
      ],
      "execution_count": 14,
      "outputs": [
        {
          "output_type": "stream",
          "name": "stdout",
          "text": [
            "GroundTruth:  Street Street Office TallBuilding\n",
            "Predicted:  Street Highway Industrial Office\n"
          ]
        },
        {
          "output_type": "display_data",
          "data": {
            "text/plain": [
              "<Figure size 432x288 with 1 Axes>"
            ],
            "image/png": "[encoded data removed]"
          },
          "metadata": {
            "needs_background": "light"
          }
        }
      ]
    },
    {
      "cell_type": "markdown",
      "metadata": {
        "id": "h7fYSZtMXdY-"
      },
      "source": [
        "Posteriormente estudiamos los resultados para cada clase"
      ]
    },
    {
      "cell_type": "code",
      "metadata": {
        "id": "Z6Qgu3X0QtIL",
        "outputId": "00200ae7-9f07-4daf-d6d2-a9cf1d8d4915",
        "colab": {
          "base_uri": "https://localhost:8080/"
        }
      },
      "source": [
        "class_correct = list(0. for i in range(len(class_names)))\n",
        "class_total = list(0. for i in range(len(class_names)))\n",
        "for data in dataloaders['val']:\n",
        "    images, labels = data\n",
        "    outputs = net(Variable(images))\n",
        "    _, predicted = torch.max(outputs.data, 1)\n",
        "    c = (predicted == labels).squeeze()\n",
        "    for i in range(len(labels)):\n",
        "        label = labels[i]\n",
        "        class_correct[label] += float(c.numpy().reshape(1,c.numpy().size)[0,i])\n",
        "        class_total[label] += 1\n",
        "\n",
        "class_totalT = 0\n",
        "for i in range(len(class_names)):\n",
        "    print('Accuracy of %5s : %2d %%' % (class_names[i], 100 * class_correct[i] / class_total[i]))\n",
        "    class_totalT += class_total[i]\n",
        "print('Total test data = %d images' % (class_totalT))"
      ],
      "execution_count": 15,
      "outputs": [
        {
          "output_type": "stream",
          "name": "stdout",
          "text": [
            "Accuracy of Bedroom : 27 %\n",
            "Accuracy of Coast : 38 %\n",
            "Accuracy of Forest : 26 %\n",
            "Accuracy of Highway : 60 %\n",
            "Accuracy of Industrial : 18 %\n",
            "Accuracy of InsideCity : 12 %\n",
            "Accuracy of Kitchen : 18 %\n",
            "Accuracy of LivingRoom : 25 %\n",
            "Accuracy of Mountain : 20 %\n",
            "Accuracy of Office : 25 %\n",
            "Accuracy of OpenCountry : 42 %\n",
            "Accuracy of Store : 21 %\n",
            "Accuracy of Street : 48 %\n",
            "Accuracy of Suburb : 48 %\n",
            "Accuracy of TallBuilding : 40 %\n",
            "Total test data = 2985 images\n"
          ]
        }
      ]
    },
    {
      "cell_type": "code",
      "source": [],
      "metadata": {
        "id": "Ue4JZItGPT64"
      },
      "execution_count": null,
      "outputs": []
    }
  ]
}