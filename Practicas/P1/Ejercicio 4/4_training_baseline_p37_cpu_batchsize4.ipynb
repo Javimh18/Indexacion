{
  "nbformat": 4,
  "nbformat_minor": 0,
  "metadata": {
    "colab": {
      "provenance": [],
      "collapsed_sections": []
    },
    "kernelspec": {
      "name": "python3",
      "display_name": "Python 3"
    },
    "accelerator": "GPU",
    "language_info": {
      "name": "python"
    }
  },
  "cells": [
    {
      "cell_type": "markdown",
      "metadata": {
        "id": "MbrPXkSGlcmB"
      },
      "source": [
        "#Máster en Big Data y Data Science: Ciencia e Ingeniería de Datos\n",
        "### ASIGNATURA: Indexación, búsqueda y análisis en repositorios multimedia\n",
        "### PARTE: Multimedia (imagen, video)\n",
        "### Práctica 1: Introducción al diseño de redes neuronales convolucionales con Pytorch mediante Google Colaboratory\n",
        "\n",
        "---\n",
        "\n",
        "Autor: Juan C. SanMiguel (juancarlos.sanmiguel@uam.es), Universidad Autónoma de Madrid\n",
        "\n",
        "Fecha: Febrero 2018"
      ]
    },
    {
      "cell_type": "markdown",
      "metadata": {
        "id": "H7_EXhmb8zwb"
      },
      "source": [
        "# 4. Entrenamiento de una red con CPU (training)"
      ]
    },
    {
      "cell_type": "markdown",
      "metadata": {
        "id": "TH6WlZfx_L3n"
      },
      "source": [
        "En este script, se utilizarán las siguientes rutas"
      ]
    },
    {
      "cell_type": "code",
      "metadata": {
        "id": "qSZZsS4i_KP1"
      },
      "source": [
        "drivedir = '/content/gdrive'\n",
        "tmpdir = '/content/tmp/' #temporal location to download and store the dataset\n",
        "\n",
        "pracdir = drivedir + '/My Drive/p1indexacion' #directory for practica 1 indexacion\n",
        "datadir = pracdir + '/data' #directory for storing datasets\n",
        "resudir = pracdir + '/result' #directory to save results"
      ],
      "execution_count": 2,
      "outputs": []
    },
    {
      "cell_type": "markdown",
      "metadata": {
        "id": "UOv5AC7z9_Gm"
      },
      "source": [
        "## Preparación del entorno de trabajo: Pytorch\n",
        "\n",
        "A continuación tiene un conjunto de instrucciones que instalan el software necesario para esta parte de la práctica.\n",
        "\n",
        "Recuerde que este código es compatible con Python 3."
      ]
    },
    {
      "cell_type": "code",
      "metadata": {
        "id": "Cq7viwqX-D5j",
        "outputId": "89e0b12b-8d84-4c17-844f-4d17f933b24e",
        "colab": {
          "base_uri": "https://localhost:8080/",
          "height": 749
        }
      },
      "source": [
        "!pip3 install torch==1.10.0+cu111 torchvision==0.11.1+cu111 torchaudio==0.10.0+cu111 -f https://download.pytorch.org/whl/torch_stable.html"
      ],
      "execution_count": 3,
      "outputs": [
        {
          "output_type": "stream",
          "name": "stdout",
          "text": [
            "Looking in indexes: https://pypi.org/simple, https://us-python.pkg.dev/colab-wheels/public/simple/\n",
            "Looking in links: https://download.pytorch.org/whl/torch_stable.html\n",
            "Collecting torch==1.10.0+cu111\n",
            "  Downloading https://download.pytorch.org/whl/cu111/torch-1.10.0%2Bcu111-cp37-cp37m-linux_x86_64.whl (2137.6 MB)\n",
            "\u001b[K     |████████████▌                   | 834.1 MB 1.4 MB/s eta 0:15:21tcmalloc: large alloc 1147494400 bytes == 0x3aada000 @  0x7f55ed732615 0x58e046 0x4f2e5e 0x4d19df 0x51b31c 0x5b41c5 0x58f49e 0x51b221 0x5b41c5 0x58f49e 0x51837f 0x4cfabb 0x517aa0 0x4cfabb 0x517aa0 0x4cfabb 0x517aa0 0x4ba70a 0x538136 0x590055 0x51b180 0x5b41c5 0x58f49e 0x51837f 0x5b41c5 0x58f49e 0x51740e 0x58f2a7 0x517947 0x5b41c5 0x58f49e\n",
            "\u001b[K     |███████████████▉                | 1055.7 MB 1.3 MB/s eta 0:14:25tcmalloc: large alloc 1434370048 bytes == 0x7f130000 @  0x7f55ed732615 0x58e046 0x4f2e5e 0x4d19df 0x51b31c 0x5b41c5 0x58f49e 0x51b221 0x5b41c5 0x58f49e 0x51837f 0x4cfabb 0x517aa0 0x4cfabb 0x517aa0 0x4cfabb 0x517aa0 0x4ba70a 0x538136 0x590055 0x51b180 0x5b41c5 0x58f49e 0x51837f 0x5b41c5 0x58f49e 0x51740e 0x58f2a7 0x517947 0x5b41c5 0x58f49e\n",
            "\u001b[K     |████████████████████            | 1336.2 MB 1.4 MB/s eta 0:09:39tcmalloc: large alloc 1792966656 bytes == 0x3f62000 @  0x7f55ed732615 0x58e046 0x4f2e5e 0x4d19df 0x51b31c 0x5b41c5 0x58f49e 0x51b221 0x5b41c5 0x58f49e 0x51837f 0x4cfabb 0x517aa0 0x4cfabb 0x517aa0 0x4cfabb 0x517aa0 0x4ba70a 0x538136 0x590055 0x51b180 0x5b41c5 0x58f49e 0x51837f 0x5b41c5 0x58f49e 0x51740e 0x58f2a7 0x517947 0x5b41c5 0x58f49e\n",
            "\u001b[K     |█████████████████████████▎      | 1691.1 MB 1.2 MB/s eta 0:06:02tcmalloc: large alloc 2241208320 bytes == 0x6ed4a000 @  0x7f55ed732615 0x58e046 0x4f2e5e 0x4d19df 0x51b31c 0x5b41c5 0x58f49e 0x51b221 0x5b41c5 0x58f49e 0x51837f 0x4cfabb 0x517aa0 0x4cfabb 0x517aa0 0x4cfabb 0x517aa0 0x4ba70a 0x538136 0x590055 0x51b180 0x5b41c5 0x58f49e 0x51837f 0x5b41c5 0x58f49e 0x51740e 0x58f2a7 0x517947 0x5b41c5 0x58f49e\n",
            "\u001b[K     |████████████████████████████████| 2137.6 MB 1.2 MB/s eta 0:00:01tcmalloc: large alloc 2137645056 bytes == 0xf46ac000 @  0x7f55ed7311e7 0x4b2150 0x4b21dc 0x58e046 0x4f2e5e 0x4d19df 0x51b31c 0x5b41c5 0x58f49e 0x517947 0x5b41c5 0x58f49e 0x517947 0x5b41c5 0x58f49e 0x517947 0x5b41c5 0x58f49e 0x517947 0x5b41c5 0x58f49e 0x517947 0x58f2a7 0x517947 0x5b41c5 0x58f49e 0x51837f 0x5b41c5 0x58f49e 0x51837f 0x5b41c5\n",
            "tcmalloc: large alloc 2672058368 bytes == 0x1e8200000 @  0x7f55ed732615 0x58e046 0x4f2e5e 0x4d19df 0x51b31c 0x5b41c5 0x58f49e 0x517947 0x5b41c5 0x58f49e 0x517947 0x5b41c5 0x58f49e 0x517947 0x5b41c5 0x58f49e 0x517947 0x5b41c5 0x58f49e 0x517947 0x58f2a7 0x517947 0x5b41c5 0x58f49e 0x51837f 0x5b41c5 0x58f49e 0x51837f 0x5b41c5 0x4ba899 0x4d29f9\n",
            "\u001b[K     |████████████████████████████████| 2137.6 MB 396 bytes/s \n",
            "\u001b[?25hCollecting torchvision==0.11.1+cu111\n",
            "  Downloading https://download.pytorch.org/whl/cu111/torchvision-0.11.1%2Bcu111-cp37-cp37m-linux_x86_64.whl (24.5 MB)\n",
            "\u001b[K     |████████████████████████████████| 24.5 MB 1.4 MB/s \n",
            "\u001b[?25hCollecting torchaudio==0.10.0+cu111\n",
            "  Downloading https://download.pytorch.org/whl/cu111/torchaudio-0.10.0%2Bcu111-cp37-cp37m-linux_x86_64.whl (2.9 MB)\n",
            "\u001b[K     |████████████████████████████████| 2.9 MB 74.6 MB/s \n",
            "\u001b[?25hRequirement already satisfied: typing-extensions in /usr/local/lib/python3.7/dist-packages (from torch==1.10.0+cu111) (4.1.1)\n",
            "Requirement already satisfied: numpy in /usr/local/lib/python3.7/dist-packages (from torchvision==0.11.1+cu111) (1.21.6)\n",
            "Requirement already satisfied: pillow!=8.3.0,>=5.3.0 in /usr/local/lib/python3.7/dist-packages (from torchvision==0.11.1+cu111) (7.1.2)\n",
            "Installing collected packages: torch, torchvision, torchaudio\n",
            "  Attempting uninstall: torch\n",
            "    Found existing installation: torch 1.12.1+cu113\n",
            "    Uninstalling torch-1.12.1+cu113:\n",
            "      Successfully uninstalled torch-1.12.1+cu113\n",
            "  Attempting uninstall: torchvision\n",
            "    Found existing installation: torchvision 0.13.1+cu113\n",
            "    Uninstalling torchvision-0.13.1+cu113:\n",
            "      Successfully uninstalled torchvision-0.13.1+cu113\n",
            "  Attempting uninstall: torchaudio\n",
            "    Found existing installation: torchaudio 0.12.1+cu113\n",
            "    Uninstalling torchaudio-0.12.1+cu113:\n",
            "      Successfully uninstalled torchaudio-0.12.1+cu113\n",
            "\u001b[31mERROR: pip's dependency resolver does not currently take into account all the packages that are installed. This behaviour is the source of the following dependency conflicts.\n",
            "torchtext 0.13.1 requires torch==1.12.1, but you have torch 1.10.0+cu111 which is incompatible.\u001b[0m\n",
            "Successfully installed torch-1.10.0+cu111 torchaudio-0.10.0+cu111 torchvision-0.11.1+cu111\n"
          ]
        },
        {
          "output_type": "display_data",
          "data": {
            "application/vnd.colab-display-data+json": {
              "pip_warning": {
                "packages": [
                  "torch",
                  "torchvision"
                ]
              }
            }
          },
          "metadata": {}
        }
      ]
    },
    {
      "cell_type": "markdown",
      "metadata": {
        "id": "M84gYYV9c8RH"
      },
      "source": [
        "Descarga de ficheros adicionales"
      ]
    },
    {
      "cell_type": "code",
      "metadata": {
        "id": "0JkHG-Bnc71J",
        "outputId": "897cb956-4d85-4691-e4f9-4089988c757d",
        "colab": {
          "base_uri": "https://localhost:8080/"
        }
      },
      "source": [
        "import os\n",
        "import subprocess\n",
        "\n",
        "tmpdir = '/content/tmp/' #temporal location to download and store the dataset\n",
        "\n",
        "out=subprocess.call([\"mkdir\",tmpdir]) #create a empty directory\n",
        "os.chdir(tmpdir) #move to directory\n",
        "\n",
        "!wget http://www-vpu.eps.uam.es/~jcs/bigdata/utils.zip -O utils.zip #download utils\n",
        "!unzip -o -q utils.zip -d . #unzip file"
      ],
      "execution_count": 4,
      "outputs": [
        {
          "output_type": "stream",
          "name": "stdout",
          "text": [
            "--2022-10-09 10:38:48--  http://www-vpu.eps.uam.es/~jcs/bigdata/utils.zip\n",
            "Resolving www-vpu.eps.uam.es (www-vpu.eps.uam.es)... 150.244.56.90\n",
            "Connecting to www-vpu.eps.uam.es (www-vpu.eps.uam.es)|150.244.56.90|:80... connected.\n",
            "HTTP request sent, awaiting response... 200 OK\n",
            "Length: 2452 (2.4K) [application/zip]\n",
            "Saving to: ‘utils.zip’\n",
            "\n",
            "\rutils.zip             0%[                    ]       0  --.-KB/s               \rutils.zip           100%[===================>]   2.39K  --.-KB/s    in 0s      \n",
            "\n",
            "2022-10-09 10:38:48 (284 MB/s) - ‘utils.zip’ saved [2452/2452]\n",
            "\n"
          ]
        }
      ]
    },
    {
      "cell_type": "markdown",
      "metadata": {
        "id": "9zoOE4V7l5tS"
      },
      "source": [
        "## Preparación del entorno de trabajo: Google Drive\n",
        "\n",
        "Ejecute el siguiente código para enlazar este script con su cuenta de Google Drive. Los datos que se generen aquí se guardarán en su carpeta Drive para posterior uso. Por defecto, la unidad de Google Drive es enlaza con el directorio **/content/drive/**."
      ]
    },
    {
      "cell_type": "code",
      "metadata": {
        "id": "YdwRGAHB3nM1",
        "outputId": "3358bb3c-4255-48c0-d966-ce19706e7d21",
        "colab": {
          "base_uri": "https://localhost:8080/"
        }
      },
      "source": [
        "from google.colab import drive\n",
        "drive.mount(drivedir)\n",
        "\n",
        "print(\"Google Drive mount completed\")\n",
        "\n",
        "#check correct mount of drive directory\n",
        "!df -h"
      ],
      "execution_count": 5,
      "outputs": [
        {
          "output_type": "stream",
          "name": "stdout",
          "text": [
            "Mounted at /content/gdrive\n",
            "Google Drive mount completed\n",
            "Filesystem      Size  Used Avail Use% Mounted on\n",
            "overlay          79G   30G   49G  38% /\n",
            "tmpfs            64M     0   64M   0% /dev\n",
            "shm             5.7G     0  5.7G   0% /dev/shm\n",
            "/dev/root       2.0G  1.1G  910M  54% /sbin/docker-init\n",
            "tmpfs           6.4G   32K  6.4G   1% /var/colab\n",
            "/dev/sda1        50G   36G   15G  72% /opt/bin/.nvidia\n",
            "tmpfs           6.4G     0  6.4G   0% /proc/acpi\n",
            "tmpfs           6.4G     0  6.4G   0% /proc/scsi\n",
            "tmpfs           6.4G     0  6.4G   0% /sys/firmware\n",
            "drive            15G   15G  378M  98% /content/gdrive\n"
          ]
        }
      ]
    },
    {
      "cell_type": "markdown",
      "metadata": {
        "id": "74-1H-SB6U_p"
      },
      "source": [
        "## Dataset\n",
        "\n",
        "En este ejemplo de entrenamiento, vamos a utilizar el dataset Scenes15"
      ]
    },
    {
      "cell_type": "code",
      "metadata": {
        "id": "fq6c0XQy6d2X",
        "outputId": "10f5ebcc-8888-46a6-b1fd-6a0b648827f2",
        "colab": {
          "base_uri": "https://localhost:8080/"
        }
      },
      "source": [
        "import subprocess\n",
        "import os\n",
        "\n",
        "out=subprocess.call([\"mkdir\",pracdir])#create directory\n",
        "out=subprocess.call([\"mkdir\",datadir])#create directory\n",
        "out=subprocess.call([\"mkdir\",resudir])#create directory\n",
        "\n",
        "os.chdir(datadir) #move to directory\n",
        "\n",
        "#download and unzip the file\n",
        "!wget http://www-vpu.eps.uam.es/~jcs/bigdata/Scene15.zip -O Scene15.zip\n",
        "!unzip -o -q Scene15.zip -d .\n",
        "\n",
        "print('Dataset downloaded and unzipped')\n",
        "\n",
        "!ls -lah #show directory & file usage"
      ],
      "execution_count": 6,
      "outputs": [
        {
          "output_type": "stream",
          "name": "stdout",
          "text": [
            "--2022-10-09 10:43:47--  http://www-vpu.eps.uam.es/~jcs/bigdata/Scene15.zip\n",
            "Resolving www-vpu.eps.uam.es (www-vpu.eps.uam.es)... 150.244.56.90\n",
            "Connecting to www-vpu.eps.uam.es (www-vpu.eps.uam.es)|150.244.56.90|:80... connected.\n",
            "HTTP request sent, awaiting response... 200 OK\n",
            "Length: 86395596 (82M) [application/zip]\n",
            "Saving to: ‘Scene15.zip’\n",
            "\n",
            "Scene15.zip         100%[===================>]  82.39M  54.6MB/s    in 1.5s    \n",
            "\n",
            "2022-10-09 10:43:48 (54.6 MB/s) - ‘Scene15.zip’ saved [86395596/86395596]\n",
            "\n",
            "Dataset downloaded and unzipped\n",
            "total 83M\n",
            "drwx------ 4 root root 4.0K Oct  8 16:44 Scene15\n",
            "-rw------- 1 root root  83M Feb 28  2018 Scene15.zip\n"
          ]
        }
      ]
    },
    {
      "cell_type": "markdown",
      "metadata": {
        "id": "Acnx8c5Q3n4K"
      },
      "source": [
        "Parametros para la generación del dataset"
      ]
    },
    {
      "cell_type": "code",
      "metadata": {
        "id": "R6Q0dZw6Hq2E"
      },
      "source": [
        "import os\n",
        "import torch\n",
        "from torchvision import datasets\n",
        "import torchvision.transforms as transforms\n",
        "\n",
        "#path to the downloaded dataset\n",
        "dataset_dir = datadir + '/Scene15/'\n",
        "\n",
        "#number of samples/images per group\n",
        "batch_size = 4\n",
        "# batch_sizes=[2, 4, 8, 16, 32]\n",
        "\n",
        "#data transformation\n",
        "Resizing_factor = (128,128)\n",
        "transform = transforms.Compose([ transforms.Resize(size=Resizing_factor),                                 \n",
        "                                transforms.ToTensor()                                \n",
        "                                ])\n",
        "\n",
        "#list & load images\n",
        "image_datasets = {x: datasets.ImageFolder(os.path.join(dataset_dir, x), transform) for x in ['train', 'val']}\n",
        "class_names = image_datasets['train'].classes\n",
        "\n",
        "#load & convert images to tensors in Python\n",
        "dataloaders = {x: torch.utils.data.DataLoader(image_datasets[x], batch_size, shuffle=True, num_workers=2) for x in ['train', 'val']}"
      ],
      "execution_count": 7,
      "outputs": []
    },
    {
      "cell_type": "markdown",
      "metadata": {
        "id": "7QK8uZt7CCRb"
      },
      "source": [
        "## Creación de la red\n",
        "\n",
        "A continuación, creamos una red tipo Lenet (modificada para soportar imágenes distintas a 32x32)"
      ]
    },
    {
      "cell_type": "code",
      "metadata": {
        "id": "HWEfU3PqCRCV",
        "outputId": "84860741-9122-4edf-e848-cdcf631b0075",
        "colab": {
          "base_uri": "https://localhost:8080/"
        }
      },
      "source": [
        "import os\n",
        "os.chdir(tmpdir) #move to directory\n",
        "\n",
        "#runs script and keeps variables\n",
        "%run -i ./utils/mylenet.py\n",
        "\n",
        "# get some random training images to initialize network\n",
        "images, labels = iter(dataloaders['train']).next()\n",
        "\n",
        "net = Net(input_shape=images[0].size(), num_outputs=len(class_names))\n",
        "print(net)\n",
        "\n",
        "print(\"Network ready to train!\")"
      ],
      "execution_count": 8,
      "outputs": [
        {
          "output_type": "stream",
          "name": "stdout",
          "text": [
            "Net(\n",
            "  (conv1): Conv2d(3, 6, kernel_size=(5, 5), stride=(1, 1))\n",
            "  (pool): MaxPool2d(kernel_size=2, stride=2, padding=0, dilation=1, ceil_mode=False)\n",
            "  (conv2): Conv2d(6, 16, kernel_size=(5, 5), stride=(1, 1))\n",
            "  (fc1): Linear(in_features=13456, out_features=120, bias=True)\n",
            "  (fc2): Linear(in_features=120, out_features=84, bias=True)\n",
            "  (fc3): Linear(in_features=84, out_features=15, bias=True)\n",
            ")\n",
            "Network ready to train!\n"
          ]
        }
      ]
    },
    {
      "cell_type": "markdown",
      "metadata": {
        "id": "umau1YMBKeN_"
      },
      "source": [
        "## Definir una función de coste/optimizador\n",
        "\n",
        "En este ejemplo utilizamos Cross-Entropy para medir la precisión de nuestro clasificador y SGD como optimizador."
      ]
    },
    {
      "cell_type": "code",
      "metadata": {
        "id": "kQDA6EkKKem_"
      },
      "source": [
        "import torch.optim as optim\n",
        "import torch.nn as nn\n",
        "\n",
        "criterion = nn.CrossEntropyLoss()\n",
        "optimizer = optim.SGD(net.parameters(), lr=0.001, momentum=0.9)"
      ],
      "execution_count": 9,
      "outputs": []
    },
    {
      "cell_type": "markdown",
      "metadata": {
        "id": "GaYSTVfOK1lD"
      },
      "source": [
        "## Entrenar la red\n",
        "\n",
        "Ejecución iterativa sobre los datos de entrenamiento/test y actualización de los pesos"
      ]
    },
    {
      "cell_type": "code",
      "metadata": {
        "id": "5jcjp9XGLAeR",
        "outputId": "2bc634c8-833a-4580-f5db-3af72f174fe9",
        "colab": {
          "base_uri": "https://localhost:8080/"
        }
      },
      "source": [
        "import time\n",
        "import numpy as np\n",
        "from torch.autograd import Variable\n",
        "\n",
        "display_batch_iter = 100\n",
        "number_epochs = 50\n",
        "\n",
        "epoch_loss =  np.zeros((number_epochs,1))\n",
        "epoch_train_acc =  np.zeros((number_epochs,1))\n",
        "epoch_test_acc =  np.zeros((number_epochs,1))  \n",
        "train_time =  0.0\n",
        "\n",
        "Ntrain = len(image_datasets['train']) #number of samples for training\n",
        "Ntest = len(image_datasets['val']) #number of samples for test/validation\n",
        "    \n",
        "device = torch.device(\"cpu\") #CPU mode for training\n",
        "\n",
        "start = time.time()\n",
        "\n",
        "print('Training in CPUmode #epochs=%d #batches=%d batchsize=%d' % (number_epochs, len(dataloaders['train']),batch_size))\n",
        "print('**** Printing loss every %5d batches ****' % (display_batch_iter))  \n",
        "for epoch in range(number_epochs):  # loop over the dataset multiple times\n",
        "    running_loss = 0.0\n",
        "    for i, data in enumerate(dataloaders['train'], 0):\n",
        "        # get the inputs\n",
        "        inputs, labels = data\n",
        "\n",
        "        # wrap them in Variable\n",
        "        inputs, labels = Variable(inputs), Variable(labels)\n",
        "\n",
        "        # zero the parameter gradients\n",
        "        optimizer.zero_grad()\n",
        "\n",
        "        # forward + backward + optimize\n",
        "        outputs = net(inputs)\n",
        "        loss = criterion(outputs, labels)\n",
        "        loss.backward()\n",
        "        optimizer.step()\n",
        "\n",
        "        # print statistics\n",
        "        running_loss += loss.data.numpy()\n",
        "        epoch_loss[epoch] += loss.data.numpy()\n",
        "        if i % display_batch_iter == display_batch_iter-1:    # print every XXX mini-batches\n",
        "            print('[%d, %5d] loss: %.3f' % (epoch + 1, i + 1, running_loss / display_batch_iter))\n",
        "            running_loss = 0.0\n",
        "\n",
        "    # compute accuracy on training set\n",
        "    correct1 = 0.0\n",
        "    for data in dataloaders['train']:    \n",
        "      images, labels = data\n",
        "      outputs = net(Variable(images))\n",
        "      _, predicted = torch.max(outputs.data, 1)\n",
        "      correct1 += (predicted == labels).sum()\n",
        "      \n",
        "    # compute accuracy on test set\n",
        "    correct2 = 0.0\n",
        "    for data in dataloaders['val']:    \n",
        "      images, labels = data\n",
        "      outputs = net(Variable(images))\n",
        "      _, predicted = torch.max(outputs.data, 1)\n",
        "      correct2 += (predicted == labels).sum()\n",
        "    \n",
        "    epoch_loss[epoch] = epoch_loss[epoch] / len(dataloaders['train']) # average loss for each epoch\n",
        "    epoch_train_acc[epoch] =  100 * correct1 / Ntrain   # average train accuracy for each epoch\n",
        "    epoch_test_acc[epoch]  =  100 * correct2 / Ntest    # average test accuracy for each epoch\n",
        "    print('Epoch %02d, loss: %1.3f, accuracy train: %2.3f %% (correct %04d total %04d ) accuracy test: %2.3f %% (correct %04d total %04d )' % (epoch + 1, epoch_loss[epoch], epoch_train_acc[epoch], correct1, Ntrain, epoch_test_acc[epoch], correct2, Ntest ))\n",
        "    \n",
        "train_time = time.time() - start\n",
        "print('Finished Training (' + str(train_time) + ' secs)')"
      ],
      "execution_count": 10,
      "outputs": [
        {
          "output_type": "stream",
          "name": "stdout",
          "text": [
            "Training in CPUmode #epochs=50 #batches=375 batchsize=4\n",
            "**** Printing loss every   100 batches ****\n",
            "[1,   100] loss: 2.714\n",
            "[1,   200] loss: 2.708\n",
            "[1,   300] loss: 2.710\n",
            "Epoch 01, loss: 2.711, accuracy train: 6.667 % (correct 0100 total 1500 ) accuracy test: 3.886 % (correct 0116 total 2985 )\n",
            "[2,   100] loss: 2.707\n",
            "[2,   200] loss: 2.708\n",
            "[2,   300] loss: 2.706\n",
            "Epoch 02, loss: 2.707, accuracy train: 9.067 % (correct 0136 total 1500 ) accuracy test: 5.494 % (correct 0164 total 2985 )\n",
            "[3,   100] loss: 2.702\n",
            "[3,   200] loss: 2.699\n",
            "[3,   300] loss: 2.703\n",
            "Epoch 03, loss: 2.701, accuracy train: 11.267 % (correct 0169 total 1500 ) accuracy test: 8.275 % (correct 0247 total 2985 )\n",
            "[4,   100] loss: 2.693\n",
            "[4,   200] loss: 2.667\n",
            "[4,   300] loss: 2.664\n",
            "Epoch 04, loss: 2.666, accuracy train: 17.867 % (correct 0268 total 1500 ) accuracy test: 13.199 % (correct 0394 total 2985 )\n",
            "[5,   100] loss: 2.563\n",
            "[5,   200] loss: 2.509\n",
            "[5,   300] loss: 2.517\n",
            "Epoch 05, loss: 2.521, accuracy train: 25.333 % (correct 0380 total 1500 ) accuracy test: 20.771 % (correct 0620 total 2985 )\n",
            "[6,   100] loss: 2.388\n",
            "[6,   200] loss: 2.402\n",
            "[6,   300] loss: 2.297\n",
            "Epoch 06, loss: 2.350, accuracy train: 27.067 % (correct 0406 total 1500 ) accuracy test: 21.407 % (correct 0639 total 2985 )\n",
            "[7,   100] loss: 2.180\n",
            "[7,   200] loss: 2.243\n",
            "[7,   300] loss: 2.185\n",
            "Epoch 07, loss: 2.200, accuracy train: 32.467 % (correct 0487 total 1500 ) accuracy test: 22.412 % (correct 0669 total 2985 )\n",
            "[8,   100] loss: 1.983\n",
            "[8,   200] loss: 1.996\n",
            "[8,   300] loss: 1.991\n",
            "Epoch 08, loss: 1.996, accuracy train: 38.733 % (correct 0581 total 1500 ) accuracy test: 25.293 % (correct 0755 total 2985 )\n",
            "[9,   100] loss: 1.673\n",
            "[9,   200] loss: 1.843\n",
            "[9,   300] loss: 1.878\n",
            "Epoch 09, loss: 1.805, accuracy train: 46.000 % (correct 0690 total 1500 ) accuracy test: 26.734 % (correct 0798 total 2985 )\n",
            "[10,   100] loss: 1.580\n",
            "[10,   200] loss: 1.572\n",
            "[10,   300] loss: 1.641\n",
            "Epoch 10, loss: 1.592, accuracy train: 56.800 % (correct 0852 total 1500 ) accuracy test: 30.720 % (correct 0917 total 2985 )\n",
            "[11,   100] loss: 1.319\n",
            "[11,   200] loss: 1.295\n",
            "[11,   300] loss: 1.335\n",
            "Epoch 11, loss: 1.338, accuracy train: 60.533 % (correct 0908 total 1500 ) accuracy test: 28.811 % (correct 0860 total 2985 )\n",
            "[12,   100] loss: 0.997\n",
            "[12,   200] loss: 1.019\n",
            "[12,   300] loss: 1.092\n",
            "Epoch 12, loss: 1.033, accuracy train: 76.133 % (correct 1142 total 1500 ) accuracy test: 28.308 % (correct 0845 total 2985 )\n",
            "[13,   100] loss: 0.742\n",
            "[13,   200] loss: 0.737\n",
            "[13,   300] loss: 0.812\n",
            "Epoch 13, loss: 0.745, accuracy train: 84.000 % (correct 1260 total 1500 ) accuracy test: 31.491 % (correct 0940 total 2985 )\n",
            "[14,   100] loss: 0.504\n",
            "[14,   200] loss: 0.513\n",
            "[14,   300] loss: 0.559\n",
            "Epoch 14, loss: 0.525, accuracy train: 90.200 % (correct 1353 total 1500 ) accuracy test: 31.792 % (correct 0949 total 2985 )\n",
            "[15,   100] loss: 0.301\n",
            "[15,   200] loss: 0.276\n",
            "[15,   300] loss: 0.363\n",
            "Epoch 15, loss: 0.329, accuracy train: 94.333 % (correct 1415 total 1500 ) accuracy test: 31.457 % (correct 0939 total 2985 )\n",
            "[16,   100] loss: 0.175\n",
            "[16,   200] loss: 0.137\n",
            "[16,   300] loss: 0.175\n",
            "Epoch 16, loss: 0.193, accuracy train: 93.867 % (correct 1408 total 1500 ) accuracy test: 32.529 % (correct 0971 total 2985 )\n",
            "[17,   100] loss: 0.115\n",
            "[17,   200] loss: 0.142\n",
            "[17,   300] loss: 0.181\n",
            "Epoch 17, loss: 0.140, accuracy train: 97.933 % (correct 1469 total 1500 ) accuracy test: 33.668 % (correct 1005 total 2985 )\n",
            "[18,   100] loss: 0.116\n",
            "[18,   200] loss: 0.097\n",
            "[18,   300] loss: 0.106\n",
            "Epoch 18, loss: 0.115, accuracy train: 97.867 % (correct 1468 total 1500 ) accuracy test: 31.424 % (correct 0938 total 2985 )\n",
            "[19,   100] loss: 0.142\n",
            "[19,   200] loss: 0.129\n",
            "[19,   300] loss: 0.150\n",
            "Epoch 19, loss: 0.143, accuracy train: 94.000 % (correct 1410 total 1500 ) accuracy test: 29.615 % (correct 0884 total 2985 )\n",
            "[20,   100] loss: 0.301\n",
            "[20,   200] loss: 0.108\n",
            "[20,   300] loss: 0.048\n",
            "Epoch 20, loss: 0.152, accuracy train: 97.267 % (correct 1459 total 1500 ) accuracy test: 30.318 % (correct 0905 total 2985 )\n",
            "[21,   100] loss: 0.035\n",
            "[21,   200] loss: 0.085\n",
            "[21,   300] loss: 0.114\n",
            "Epoch 21, loss: 0.081, accuracy train: 98.533 % (correct 1478 total 1500 ) accuracy test: 33.836 % (correct 1010 total 2985 )\n",
            "[22,   100] loss: 0.024\n",
            "[22,   200] loss: 0.095\n",
            "[22,   300] loss: 0.025\n",
            "Epoch 22, loss: 0.045, accuracy train: 99.467 % (correct 1492 total 1500 ) accuracy test: 31.826 % (correct 0950 total 2985 )\n",
            "[23,   100] loss: 0.021\n",
            "[23,   200] loss: 0.026\n",
            "[23,   300] loss: 0.009\n",
            "Epoch 23, loss: 0.018, accuracy train: 99.933 % (correct 1499 total 1500 ) accuracy test: 35.243 % (correct 1052 total 2985 )\n",
            "[24,   100] loss: 0.004\n",
            "[24,   200] loss: 0.004\n",
            "[24,   300] loss: 0.003\n",
            "Epoch 24, loss: 0.004, accuracy train: 100.000 % (correct 1500 total 1500 ) accuracy test: 34.908 % (correct 1042 total 2985 )\n",
            "[25,   100] loss: 0.002\n",
            "[25,   200] loss: 0.002\n",
            "[25,   300] loss: 0.002\n",
            "Epoch 25, loss: 0.002, accuracy train: 100.000 % (correct 1500 total 1500 ) accuracy test: 35.477 % (correct 1059 total 2985 )\n",
            "[26,   100] loss: 0.002\n",
            "[26,   200] loss: 0.001\n",
            "[26,   300] loss: 0.001\n",
            "Epoch 26, loss: 0.001, accuracy train: 100.000 % (correct 1500 total 1500 ) accuracy test: 35.578 % (correct 1062 total 2985 )\n",
            "[27,   100] loss: 0.001\n",
            "[27,   200] loss: 0.001\n",
            "[27,   300] loss: 0.001\n",
            "Epoch 27, loss: 0.001, accuracy train: 100.000 % (correct 1500 total 1500 ) accuracy test: 35.745 % (correct 1067 total 2985 )\n",
            "[28,   100] loss: 0.001\n",
            "[28,   200] loss: 0.001\n",
            "[28,   300] loss: 0.001\n",
            "Epoch 28, loss: 0.001, accuracy train: 100.000 % (correct 1500 total 1500 ) accuracy test: 35.477 % (correct 1059 total 2985 )\n",
            "[29,   100] loss: 0.001\n",
            "[29,   200] loss: 0.001\n",
            "[29,   300] loss: 0.001\n",
            "Epoch 29, loss: 0.001, accuracy train: 100.000 % (correct 1500 total 1500 ) accuracy test: 35.812 % (correct 1069 total 2985 )\n",
            "[30,   100] loss: 0.001\n",
            "[30,   200] loss: 0.001\n",
            "[30,   300] loss: 0.001\n",
            "Epoch 30, loss: 0.001, accuracy train: 100.000 % (correct 1500 total 1500 ) accuracy test: 35.544 % (correct 1061 total 2985 )\n",
            "[31,   100] loss: 0.000\n",
            "[31,   200] loss: 0.000\n",
            "[31,   300] loss: 0.000\n",
            "Epoch 31, loss: 0.001, accuracy train: 100.000 % (correct 1500 total 1500 ) accuracy test: 35.712 % (correct 1066 total 2985 )\n",
            "[32,   100] loss: 0.000\n",
            "[32,   200] loss: 0.001\n",
            "[32,   300] loss: 0.001\n",
            "Epoch 32, loss: 0.000, accuracy train: 100.000 % (correct 1500 total 1500 ) accuracy test: 35.812 % (correct 1069 total 2985 )\n",
            "[33,   100] loss: 0.001\n",
            "[33,   200] loss: 0.000\n",
            "[33,   300] loss: 0.000\n",
            "Epoch 33, loss: 0.000, accuracy train: 100.000 % (correct 1500 total 1500 ) accuracy test: 35.712 % (correct 1066 total 2985 )\n",
            "[34,   100] loss: 0.000\n",
            "[34,   200] loss: 0.000\n",
            "[34,   300] loss: 0.000\n",
            "Epoch 34, loss: 0.000, accuracy train: 100.000 % (correct 1500 total 1500 ) accuracy test: 35.812 % (correct 1069 total 2985 )\n",
            "[35,   100] loss: 0.000\n",
            "[35,   200] loss: 0.000\n",
            "[35,   300] loss: 0.000\n",
            "Epoch 35, loss: 0.000, accuracy train: 100.000 % (correct 1500 total 1500 ) accuracy test: 35.611 % (correct 1063 total 2985 )\n",
            "[36,   100] loss: 0.000\n",
            "[36,   200] loss: 0.000\n",
            "[36,   300] loss: 0.000\n",
            "Epoch 36, loss: 0.000, accuracy train: 100.000 % (correct 1500 total 1500 ) accuracy test: 35.611 % (correct 1063 total 2985 )\n",
            "[37,   100] loss: 0.000\n",
            "[37,   200] loss: 0.000\n",
            "[37,   300] loss: 0.000\n",
            "Epoch 37, loss: 0.000, accuracy train: 100.000 % (correct 1500 total 1500 ) accuracy test: 35.745 % (correct 1067 total 2985 )\n",
            "[38,   100] loss: 0.000\n",
            "[38,   200] loss: 0.000\n",
            "[38,   300] loss: 0.000\n",
            "Epoch 38, loss: 0.000, accuracy train: 100.000 % (correct 1500 total 1500 ) accuracy test: 35.745 % (correct 1067 total 2985 )\n",
            "[39,   100] loss: 0.000\n",
            "[39,   200] loss: 0.000\n",
            "[39,   300] loss: 0.000\n",
            "Epoch 39, loss: 0.000, accuracy train: 100.000 % (correct 1500 total 1500 ) accuracy test: 35.712 % (correct 1066 total 2985 )\n",
            "[40,   100] loss: 0.000\n",
            "[40,   200] loss: 0.000\n",
            "[40,   300] loss: 0.000\n",
            "Epoch 40, loss: 0.000, accuracy train: 100.000 % (correct 1500 total 1500 ) accuracy test: 35.779 % (correct 1068 total 2985 )\n",
            "[41,   100] loss: 0.000\n",
            "[41,   200] loss: 0.000\n",
            "[41,   300] loss: 0.000\n",
            "Epoch 41, loss: 0.000, accuracy train: 100.000 % (correct 1500 total 1500 ) accuracy test: 35.812 % (correct 1069 total 2985 )\n",
            "[42,   100] loss: 0.000\n",
            "[42,   200] loss: 0.000\n",
            "[42,   300] loss: 0.000\n",
            "Epoch 42, loss: 0.000, accuracy train: 100.000 % (correct 1500 total 1500 ) accuracy test: 35.879 % (correct 1071 total 2985 )\n",
            "[43,   100] loss: 0.000\n",
            "[43,   200] loss: 0.000\n",
            "[43,   300] loss: 0.000\n",
            "Epoch 43, loss: 0.000, accuracy train: 100.000 % (correct 1500 total 1500 ) accuracy test: 35.913 % (correct 1072 total 2985 )\n",
            "[44,   100] loss: 0.000\n",
            "[44,   200] loss: 0.000\n",
            "[44,   300] loss: 0.000\n",
            "Epoch 44, loss: 0.000, accuracy train: 100.000 % (correct 1500 total 1500 ) accuracy test: 35.913 % (correct 1072 total 2985 )\n",
            "[45,   100] loss: 0.000\n",
            "[45,   200] loss: 0.000\n",
            "[45,   300] loss: 0.000\n",
            "Epoch 45, loss: 0.000, accuracy train: 100.000 % (correct 1500 total 1500 ) accuracy test: 35.913 % (correct 1072 total 2985 )\n",
            "[46,   100] loss: 0.000\n",
            "[46,   200] loss: 0.000\n",
            "[46,   300] loss: 0.000\n",
            "Epoch 46, loss: 0.000, accuracy train: 100.000 % (correct 1500 total 1500 ) accuracy test: 35.846 % (correct 1070 total 2985 )\n",
            "[47,   100] loss: 0.000\n",
            "[47,   200] loss: 0.000\n",
            "[47,   300] loss: 0.000\n",
            "Epoch 47, loss: 0.000, accuracy train: 100.000 % (correct 1500 total 1500 ) accuracy test: 35.846 % (correct 1070 total 2985 )\n",
            "[48,   100] loss: 0.000\n",
            "[48,   200] loss: 0.000\n",
            "[48,   300] loss: 0.000\n",
            "Epoch 48, loss: 0.000, accuracy train: 100.000 % (correct 1500 total 1500 ) accuracy test: 35.812 % (correct 1069 total 2985 )\n",
            "[49,   100] loss: 0.000\n",
            "[49,   200] loss: 0.000\n",
            "[49,   300] loss: 0.000\n",
            "Epoch 49, loss: 0.000, accuracy train: 100.000 % (correct 1500 total 1500 ) accuracy test: 35.879 % (correct 1071 total 2985 )\n",
            "[50,   100] loss: 0.000\n",
            "[50,   200] loss: 0.000\n",
            "[50,   300] loss: 0.000\n",
            "Epoch 50, loss: 0.000, accuracy train: 100.000 % (correct 1500 total 1500 ) accuracy test: 35.779 % (correct 1068 total 2985 )\n",
            "Finished Training (1526.5247099399567 secs)\n"
          ]
        }
      ]
    },
    {
      "cell_type": "markdown",
      "metadata": {
        "id": "84AJx1XzjfRm"
      },
      "source": [
        "Finalmente podemos guardar los datos tras el entrenamiento en nuestra carpeta de Google Drive"
      ]
    },
    {
      "cell_type": "code",
      "metadata": {
        "id": "GRv6KngBjkha",
        "outputId": "28b4c3ab-15cc-4fb9-d8b1-914c6b0dc8f1",
        "colab": {
          "base_uri": "https://localhost:8080/"
        }
      },
      "source": [
        "#save results in a single file\n",
        "import pickle\n",
        "import os\n",
        "os.chdir(pracdir) #move to drive directory\n",
        "\n",
        "# Saving the objects:\n",
        "f = open('training_baseline_cpu_results_epochs_'+ str(number_epochs) +'.pkl', 'wb')\n",
        "pickle.dump([epoch_train_acc, epoch_test_acc, epoch_loss, train_time, number_epochs, batch_size], f)\n",
        "f.close()\n",
        "print('Saved data')"
      ],
      "execution_count": 10,
      "outputs": [
        {
          "output_type": "stream",
          "name": "stdout",
          "text": [
            "Saved data\n"
          ]
        }
      ]
    },
    {
      "cell_type": "markdown",
      "metadata": {
        "id": "i9fHv1kN70nG"
      },
      "source": [
        "Posteriormente, si quisieramos recuperar las variables/objetos para analizar, utilizaremos el siguiente código"
      ]
    },
    {
      "cell_type": "code",
      "metadata": {
        "id": "iyIVJxTi7p1s",
        "outputId": "2dde2f6d-5440-4b9b-ae29-dc3ccf1ed9a8",
        "colab": {
          "base_uri": "https://localhost:8080/",
          "height": 222
        }
      },
      "source": [
        "#get results from a single file\n",
        "import pickle\n",
        "import os\n",
        "os.chdir(pracdir) #move to drive directory\n",
        "\n",
        "# Load the objects\n",
        "f = open('training_baseline_results_epochs_30.pkl', 'rb')\n",
        "epoch_train_acc, epoch_test_acc, epoch_loss, train_time, number_epochs, batch_size = pickle.load(f)"
      ],
      "execution_count": null,
      "outputs": [
        {
          "output_type": "error",
          "ename": "FileNotFoundError",
          "evalue": "ignored",
          "traceback": [
            "\u001b[0;31m---------------------------------------------------------------------------\u001b[0m",
            "\u001b[0;31mFileNotFoundError\u001b[0m                         Traceback (most recent call last)",
            "\u001b[0;32m./utils/mylenet.py\u001b[0m in \u001b[0;36m<module>\u001b[0;34m\u001b[0m\n\u001b[1;32m      5\u001b[0m \u001b[0;34m\u001b[0m\u001b[0m\n\u001b[1;32m      6\u001b[0m \u001b[0;31m# Load the objects\u001b[0m\u001b[0;34m\u001b[0m\u001b[0;34m\u001b[0m\u001b[0;34m\u001b[0m\u001b[0m\n\u001b[0;32m----> 7\u001b[0;31m \u001b[0mf\u001b[0m \u001b[0;34m=\u001b[0m \u001b[0mopen\u001b[0m\u001b[0;34m(\u001b[0m\u001b[0;34m'training_baseline_results_epochs_30.pkl'\u001b[0m\u001b[0;34m,\u001b[0m \u001b[0;34m'rb'\u001b[0m\u001b[0;34m)\u001b[0m\u001b[0;34m\u001b[0m\u001b[0;34m\u001b[0m\u001b[0m\n\u001b[0m\u001b[1;32m      8\u001b[0m \u001b[0mepoch_train_acc\u001b[0m\u001b[0;34m,\u001b[0m \u001b[0mepoch_test_acc\u001b[0m\u001b[0;34m,\u001b[0m \u001b[0mepoch_loss\u001b[0m\u001b[0;34m,\u001b[0m \u001b[0mtrain_time\u001b[0m\u001b[0;34m,\u001b[0m \u001b[0mnumber_epochs\u001b[0m\u001b[0;34m,\u001b[0m \u001b[0mbatch_size\u001b[0m \u001b[0;34m=\u001b[0m \u001b[0mpickle\u001b[0m\u001b[0;34m.\u001b[0m\u001b[0mload\u001b[0m\u001b[0;34m(\u001b[0m\u001b[0mf\u001b[0m\u001b[0;34m)\u001b[0m\u001b[0;34m\u001b[0m\u001b[0;34m\u001b[0m\u001b[0m\n",
            "\u001b[0;31mFileNotFoundError\u001b[0m: [Errno 2] No such file or directory: 'training_baseline_results_epochs_30.pkl'"
          ]
        }
      ]
    },
    {
      "cell_type": "markdown",
      "metadata": {
        "id": "WIpYsUwtmk9v"
      },
      "source": [
        "# Resultados tras entrenamiento \n",
        "\n"
      ]
    },
    {
      "cell_type": "markdown",
      "metadata": {
        "id": "E2kqMm6FmuMT"
      },
      "source": [
        "## Análisis de precisión y función de pérdidas\n",
        "A continuación pintamos las variables que hemos acumulado durante el entrenamiento."
      ]
    },
    {
      "cell_type": "code",
      "metadata": {
        "id": "6vlAL68xjl1-",
        "outputId": "8e1f563b-ea72-453d-dd34-86b89aafd5af",
        "colab": {
          "base_uri": "https://localhost:8080/",
          "height": 295
        }
      },
      "source": [
        "import matplotlib.pyplot as plt\n",
        "\n",
        "t = range(number_epochs)\n",
        "lineObjects =plt.plot(t,epoch_train_acc,'r--',t,epoch_test_acc,'bs')\n",
        "plt.legend(lineObjects, ('train', 'test'))\n",
        "plt.ylabel('Accuracy (%)')\n",
        "plt.xlabel('Epoch')\n",
        "plt.title('Accuracy results') \n",
        "\n",
        "import os\n",
        "os.chdir(pracdir) #move to drive directory for saving data\n",
        "\n",
        "plt.savefig('training_accuracy_baseline__epochs'+ str(number_epochs) + '_CPU.png',bbox_inches='tight')#call this function before \"plt.show()\"\n",
        "plt.show()"
      ],
      "execution_count": 11,
      "outputs": [
        {
          "output_type": "display_data",
          "data": {
            "text/plain": [
              "<Figure size 432x288 with 1 Axes>"
            ],
            "image/png": "[encoded data removed]"
          },
          "metadata": {
            "needs_background": "light"
          }
        }
      ]
    },
    {
      "cell_type": "code",
      "metadata": {
        "id": "AlaiffYgmOok",
        "outputId": "ef9e2b12-098a-461b-dd79-38f7d296f01f",
        "colab": {
          "base_uri": "https://localhost:8080/",
          "height": 295
        }
      },
      "source": [
        "import matplotlib.pyplot as plt\n",
        "\n",
        "t = range(number_epochs)\n",
        "plt.plot(t,epoch_loss,'r--')\n",
        "plt.ylabel('Loss')\n",
        "plt.xlabel('Epoch')\n",
        "plt.title('Epoch loss for training') \n",
        "plt.show()"
      ],
      "execution_count": 12,
      "outputs": [
        {
          "output_type": "display_data",
          "data": {
            "text/plain": [
              "<Figure size 432x288 with 1 Axes>"
            ],
            "image/png": "[encoded data removed]"
          },
          "metadata": {
            "needs_background": "light"
          }
        }
      ]
    },
    {
      "cell_type": "markdown",
      "metadata": {
        "id": "evgVriqsXN7Q"
      },
      "source": [
        "## Ejemplos de resultado\n",
        "\n",
        "Es recomendable repasar los resultados obtenidos tanto gráficamente como estadísticamente.\n",
        "\n",
        "Primero, seleccionamos algunos datos y visualmente verificamos errores:\n"
      ]
    },
    {
      "cell_type": "code",
      "metadata": {
        "id": "79GFRR-XQjdc",
        "outputId": "53ca478d-e1ce-40c3-fcff-701fa99e7349",
        "colab": {
          "base_uri": "https://localhost:8080/",
          "height": 129
        }
      },
      "source": [
        "import torchvision\n",
        "\n",
        "# function to show an image\n",
        "def imshow(img):\n",
        "    #img = img / 2 + 0.5  # unnormalize if normalization is done in transform\n",
        "    npimg = img.numpy()\n",
        "    plt.imshow(np.transpose(npimg, (1, 2, 0)))\n",
        "    \n",
        "#get sample data\n",
        "images, labels = iter(dataloaders['val']).next()\n",
        "   \n",
        "# print images\n",
        "imshow(torchvision.utils.make_grid(images))\n",
        "print('GroundTruth: ', ' '.join('%5s' % class_names[labels[j]] for j in range(batch_size)))\n",
        "\n",
        "outputs = net(Variable(images))\n",
        "_, predicted = torch.max(outputs.data, 1)\n",
        "\n",
        "print('Predicted: ', ' '.join('%5s' % class_names[predicted[j]] for j in range(batch_size)))"
      ],
      "execution_count": 13,
      "outputs": [
        {
          "output_type": "stream",
          "name": "stdout",
          "text": [
            "GroundTruth:  Forest Forest InsideCity Store OpenCountry InsideCity OpenCountry Forest\n",
            "Predicted:  InsideCity Mountain TallBuilding Office Coast Office Coast Store\n"
          ]
        },
        {
          "output_type": "display_data",
          "data": {
            "text/plain": [
              "<Figure size 432x288 with 1 Axes>"
            ],
            "image/png": "[encoded data removed]"
          },
          "metadata": {
            "needs_background": "light"
          }
        }
      ]
    },
    {
      "cell_type": "markdown",
      "metadata": {
        "id": "h7fYSZtMXdY-"
      },
      "source": [
        "Posteriormente estudiamos los resultados para cada clase"
      ]
    },
    {
      "cell_type": "code",
      "metadata": {
        "id": "Z6Qgu3X0QtIL",
        "outputId": "571c0127-f12e-4c33-fe29-c589a5df97e9",
        "colab": {
          "base_uri": "https://localhost:8080/"
        }
      },
      "source": [
        "class_correct = list(0. for i in range(len(class_names)))\n",
        "class_total = list(0. for i in range(len(class_names)))\n",
        "for data in dataloaders['val']:\n",
        "    images, labels = data\n",
        "    outputs = net(Variable(images))\n",
        "    _, predicted = torch.max(outputs.data, 1)\n",
        "    c = (predicted == labels).squeeze()\n",
        "    for i in range(len(labels)):\n",
        "        label = labels[i]\n",
        "        class_correct[label] += float(c.numpy().reshape(1,c.numpy().size)[0,i])\n",
        "        class_total[label] += 1\n",
        "\n",
        "class_totalT = 0\n",
        "for i in range(len(class_names)):\n",
        "    print('Accuracy of %5s : %2d %%' % (class_names[i], 100 * class_correct[i] / class_total[i]))\n",
        "    class_totalT += class_total[i]\n",
        "print('Total test data = %d images' % (class_totalT))"
      ],
      "execution_count": 14,
      "outputs": [
        {
          "output_type": "stream",
          "name": "stdout",
          "text": [
            "Accuracy of Bedroom : 20 %\n",
            "Accuracy of Coast : 43 %\n",
            "Accuracy of Forest : 26 %\n",
            "Accuracy of Highway : 58 %\n",
            "Accuracy of Industrial : 14 %\n",
            "Accuracy of InsideCity : 16 %\n",
            "Accuracy of Kitchen : 16 %\n",
            "Accuracy of LivingRoom : 30 %\n",
            "Accuracy of Mountain : 28 %\n",
            "Accuracy of Office : 36 %\n",
            "Accuracy of OpenCountry : 41 %\n",
            "Accuracy of Store : 25 %\n",
            "Accuracy of Street : 46 %\n",
            "Accuracy of Suburb : 46 %\n",
            "Accuracy of TallBuilding : 44 %\n",
            "Total test data = 2985 images\n"
          ]
        }
      ]
    },
    {
      "cell_type": "code",
      "source": [],
      "metadata": {
        "id": "Ue4JZItGPT64"
      },
      "execution_count": null,
      "outputs": []
    }
  ]
}