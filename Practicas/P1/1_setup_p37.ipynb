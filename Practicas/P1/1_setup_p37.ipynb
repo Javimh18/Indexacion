{
  "nbformat": 4,
  "nbformat_minor": 0,
  "metadata": {
    "colab": {
      "provenance": [],
      "collapsed_sections": [
        "wVQg60QVXE8m",
        "55oysizVn1Rp",
        "U0ZHNFrBo2sa"
      ]
    },
    "kernelspec": {
      "name": "python2",
      "display_name": "Python 2"
    },
    "accelerator": "GPU"
  },
  "cells": [
    {
      "cell_type": "markdown",
      "metadata": {
        "id": "0jJwbyFc60Rx"
      },
      "source": [
        "#Máster en Big Data y Data Science: Ciencia e Ingeniería de Datos\n",
        "### ASIGNATURA: Indexación, búsqueda y análisis en repositorios multimedia\n",
        "### PARTE: Multimedia (imagen, video)\n",
        "### Práctica 1: Introducción al diseño de redes neuronales convolucionales con Pytorch mediante Google Colaboratory\n",
        "\n",
        "---\n",
        "\n",
        "Autor: Juan C. SanMiguel (juancarlos.sanmiguel@uam.es), Universidad Autónoma de Madrid\n"
      ]
    },
    {
      "cell_type": "markdown",
      "metadata": {
        "id": "MbrPXkSGlcmB"
      },
      "source": [
        "# 1. Setup\n",
        "En este script interativo de python aprendera como utilizar la herramienta Google Colaboratory https://colab.research.google.com \n",
        "\n",
        "Colaboratory permite utilizar gratuitamente una máquina virtual con Ubuntu que proporciona un entorno de Jupyter para ejecutar interactivamente instrucciones en una consola de Python. \n",
        "\n",
        "Información adicional (política de uso, restricciones,...) disponible en https://research.google.com/colaboratory/faq.html"
      ]
    },
    {
      "cell_type": "markdown",
      "metadata": {
        "id": "9zoOE4V7l5tS"
      },
      "source": [
        "## Ejecutar instrucciones de sistema\n",
        "\n",
        "Utilize el símbolo '!' delante de cada instrucción de sistema que desee ejecutar. Como por ejemplo la instruccion 'ls' muestra el contenido del directorio actual\n",
        "\n",
        "```\n",
        "$ !ls\n",
        "```\n",
        "Por ejemplo, ejecute cualquiera de las siguientes instrucciones para analizar los detalles de la máquina virtual ejecutando este entorno de Jupyter"
      ]
    },
    {
      "cell_type": "code",
      "metadata": {
        "id": "XqR8mC1UNLJq"
      },
      "source": [
        "# Show linux release\n",
        "!lsb_release -a"
      ],
      "execution_count": null,
      "outputs": []
    },
    {
      "cell_type": "code",
      "metadata": {
        "id": "y4YD9m1RNukQ"
      },
      "source": [
        "# Show CPU info\n",
        "!cat /proc/cpuinfo"
      ],
      "execution_count": null,
      "outputs": []
    },
    {
      "cell_type": "code",
      "metadata": {
        "id": "7moKjV2GNvcA"
      },
      "source": [
        "# Show RAM info\n",
        "!cat /proc/meminfo"
      ],
      "execution_count": null,
      "outputs": []
    },
    {
      "cell_type": "code",
      "metadata": {
        "id": "R9EoCHJtN1JF"
      },
      "source": [
        "# Show mounted directories \n",
        "!df -h"
      ],
      "execution_count": null,
      "outputs": []
    },
    {
      "cell_type": "markdown",
      "metadata": {
        "id": "Q9wVz9UKM7w7"
      },
      "source": [
        "En esta práctica, vamos a verificar la versión de Python que estamos ejecutando (recuerde que el código de esta práctica se ha comprobado sobre Python 2.7)"
      ]
    },
    {
      "cell_type": "code",
      "metadata": {
        "id": "Dm_31ZAnl8wl"
      },
      "source": [
        "#Check Python version\n",
        "import sys\n",
        "sys.version"
      ],
      "execution_count": null,
      "outputs": []
    },
    {
      "cell_type": "markdown",
      "metadata": {
        "id": "klP4mwmXqe4S"
      },
      "source": [
        "## Verificar existencia de GPU\n",
        "Una de las principales ventajas de *Google Colaboratory* es la disponibilidad gratuita de recursos de calculo intensivo mediante GPUs (Graphic Processing Unit). En esta sección describiremos como verificar la existencia de esta GPU."
      ]
    },
    {
      "cell_type": "markdown",
      "metadata": {
        "id": "b7yo4y71q644"
      },
      "source": [
        "Primeramente, debe activar el recurso GPU. Para ello navege por el menu \"Edit-->Notebook Settings\" y seleccione la opción \"GPU\" en la parte \"Hardware acceleretor\". En la otra parte \"Runtime type\", seleccione \"Python3\" pues que todo el código de esta práctica ha sido verificado con Python 3. \n",
        "\n",
        "A continuación se muestra un ejemplo visual de las opciones en \"Notebook Settings\"\n",
        "\n",
        "![alt text](https://cdn-images-1.medium.com/max/1600/1*WNovJnpGMOys8Rv7YIsZzA.png)"
      ]
    },
    {
      "cell_type": "markdown",
      "metadata": {
        "id": "gAuXy-n-sdCc"
      },
      "source": [
        "Posteriormente vamos a utilizar la instrucción  *nvidia-smi* para identificar cuantas GPUs existen en nuestro sistema:"
      ]
    },
    {
      "cell_type": "code",
      "metadata": {
        "id": "2ULmb0BQqkQz"
      },
      "source": [
        "!nvidia-smi"
      ],
      "execution_count": null,
      "outputs": []
    },
    {
      "cell_type": "markdown",
      "metadata": {
        "id": "3Vc3u6EoOlWR"
      },
      "source": [
        "## Instalacion de paquetes necesarios\n",
        "\n",
        "En esta sección vamos a mostrar el procedimiento para instalar el software necesario para realizar esta práctica"
      ]
    },
    {
      "cell_type": "markdown",
      "metadata": {
        "id": "H4dIice9P1zR"
      },
      "source": [
        "### Jupyter notebook\n",
        "En el caso de que la máquina virtual de https://colab.research.google.com/ no esté disponible (puede verificar que aparece la palabra \"CONNECTED\" arriba a la derecha de su pantalla). Se sugiere realizar la práctica en local (e.g. PC o portátil personal). Para ejecutar los scripts interactivos \\*.ipynb, necesitará instalar *Jupyter*. \n",
        "\n",
        "Ejecute los siguientes comandos en un terminal de linux\n",
        "\n",
        "\n",
        "```\n",
        "$ pip install jupyter #version 2.X python (recomendada)\n",
        "$ pip3 install jupyter #version 3.X python\n",
        "$ jupyter notebook # lanza jupyter y abre un navegador para ejecutar scripts ipynb\n",
        "```\n",
        "\n",
        "El procedimiento completo está descrito en http://jupyter.readthedocs.io/en/latest/install.html\n",
        "\n",
        "NOTA: los scripts ipynb de esta práctica están preparados para funcionar tanto en local como en colab.research.google.com (asumiendo una conexión directa a internet, sin proxy alguno).\n"
      ]
    },
    {
      "cell_type": "markdown",
      "metadata": {
        "id": "9Qh1axCOPpyp"
      },
      "source": [
        "### Pytorch \n",
        "En esta práctica utilizaremos ```Pytorch``` para las tareas de *deep learning* y el paquete ``torchvision`` que proporciona funcionalidad extendida. \n",
        "\n",
        "A continuación se muestran las instrucciones necesarias para instalar Pytorch con/sin soporte para cálculo intensivo mediante GPUs (descomente aquella opción que desee instalar):"
      ]
    },
    {
      "cell_type": "code",
      "metadata": {
        "id": "8T8AKTMnPogu"
      },
      "source": [
        "#install pytorch for python 2.7 without CUDA support\n",
        "#!pip install torchvision==0.2.0\n",
        "#!pip install http://download.pytorch.org/whl/cpu/torch-0.3.1-cp27-cp27mu-linux_x86_64.whl \n",
        "\n",
        "#install pytorch for python 2.7 with CUDA 8.0 support\n",
        "!pip install torchvision==0.2.0\n",
        "!pip install http://download.pytorch.org/whl/cu80/torch-0.3.1-cp27-cp27mu-linux_x86_64.whl "
      ],
      "execution_count": null,
      "outputs": []
    },
    {
      "cell_type": "markdown",
      "metadata": {
        "id": "xmg8-D_3SUCh"
      },
      "source": [
        "### Pillow\n",
        "\n",
        "También utilizaremos la librería ``Pillow`` para lectura/escritura de imágenes. En esta práctica utilizaremos la versión 5.0.0 debido a que \n",
        "la versión 4.0.0 tiene problemas de compatibilidad con Colaborative (en concreto para la lectura de imágenes con plugins de lectura *TiffImageFile*)"
      ]
    },
    {
      "cell_type": "code",
      "metadata": {
        "id": "9tNr4GLBSUzY"
      },
      "source": [
        "!pip install Pillow==5.0.0\n",
        "!pip show pillow #check pillow version"
      ],
      "execution_count": null,
      "outputs": []
    },
    {
      "cell_type": "markdown",
      "metadata": {
        "id": "w-j_kzfxgHP3"
      },
      "source": [
        "Para actualizar el entorno y se utilice la versión 5.0 del paquete ``Pillow``, deberá resetear el *runtime* de esta sesión de ``Jupyter``.\n",
        "\n",
        "Para ello, utilice la opción del menu \"Runtime\"->\"Restart Runtime\" ó seleccione Ctrl+M."
      ]
    },
    {
      "cell_type": "markdown",
      "metadata": {
        "id": "7ZorEikzbvvB"
      },
      "source": [
        "## Conectarse a sus carpetas en google drive\n",
        "Debido a que el uso del entorno *colab.research.google.com* está registringido a un máximo de 12 horas continuadas (tras las cuales, se reseteará su máquina virtual y podrá volver a utilizar otra distinta) se sugiere conectar esta máquina virtual a la unidad de *Google Drive* asociada a su usuario con cuenta @gmail. Así podrá guardar datos y resultados que genere para un posterior uso.\n",
        "\n",
        "Debido a que el procedimiento descrito a continuación requiere acceder a su cuenta personal @gmail, **se sugiere crear una nueva cuenta @gmail para la realización de esta práctica**.\n",
        "\n",
        "Tras identificarse con su nueva cuenta @gmail, vuelva a cargar este script refrescando esta página web en el navegador.\n"
      ]
    },
    {
      "cell_type": "markdown",
      "metadata": {
        "id": "onB0-K98g8xa"
      },
      "source": [
        "A continuación utilizaremos el paquete *drive* de *Google.Colab* que permite montar sus directorios de Drive en la carpeta del sistema */content/gdrive/*\n",
        "\n",
        "Estas instrucciónes le pediran autorizar el acceso a su cuenta proporcionándole un enlace. Haga click sore el enlace y copie en el código que obtenga en el cuadro de texto."
      ]
    },
    {
      "cell_type": "code",
      "metadata": {
        "id": "yqAWqJiEbxoz"
      },
      "source": [
        "from google.colab import drive\n",
        "drive.mount('/content/gdrive')"
      ],
      "execution_count": null,
      "outputs": []
    },
    {
      "cell_type": "markdown",
      "metadata": {
        "id": "cjz32tS4Ag_x"
      },
      "source": [
        "Podemos visualizar el contenido de nuestra carpeta raíz en Google Drive con la siguiente instrucción"
      ]
    },
    {
      "cell_type": "code",
      "metadata": {
        "id": "COePZRUiAnxl"
      },
      "source": [
        "!ls /content/gdrive/My\\ Drive/"
      ],
      "execution_count": null,
      "outputs": []
    },
    {
      "cell_type": "markdown",
      "metadata": {
        "id": "bV6vRyrCAPJm"
      },
      "source": [
        "A continuación creamos un fichero de ejemplo para verificar el correcto funcionamiento de las instrucciones anteriores\n",
        "\n"
      ]
    },
    {
      "cell_type": "code",
      "metadata": {
        "id": "P38Vz9uBAPrk"
      },
      "source": [
        "with open('/content/gdrive/My Drive/foo.txt', 'w') as f:\n",
        "  f.write('Hello Google Drive!')\n",
        "!cat /content/gdrive/My\\ Drive/foo.txt"
      ],
      "execution_count": null,
      "outputs": []
    },
    {
      "cell_type": "markdown",
      "metadata": {
        "id": "TwRPNw6AArIR"
      },
      "source": [
        "Por último podemos crear un carpeta para guardar los datos de esta práctica"
      ]
    },
    {
      "cell_type": "code",
      "metadata": {
        "id": "muOvZswOAbU3"
      },
      "source": [
        "!mkdir /content/gdrive/My\\ Drive/practica1indexacion"
      ],
      "execution_count": null,
      "outputs": []
    },
    {
      "cell_type": "markdown",
      "metadata": {
        "id": "YhO-oaoDnrFh"
      },
      "source": [
        "## Operaciones comúnes"
      ]
    },
    {
      "cell_type": "markdown",
      "metadata": {
        "id": "MJtM1Mxbnu4B"
      },
      "source": [
        "En esta sección repasaremos operaciones/comandos de utilidad para el resto de partes de la práctica"
      ]
    },
    {
      "cell_type": "markdown",
      "metadata": {
        "id": "wVQg60QVXE8m"
      },
      "source": [
        "### Moverse a otros directorios\n",
        "\n",
        "El directorio de trabajo por defecto es '/content'. Si hemos seguido el paso anterior, lo deseable es que trabajemos en nuestros directorios de *Google Drive*. \n",
        "\n",
        "Para movernos entre directorios normalmente utilizariamos la instrucción **cd**. De manera alternativa se sugiere utilizar la libreria *os* para moverse entre directorios.\n"
      ]
    },
    {
      "cell_type": "code",
      "metadata": {
        "id": "k1RVQzSTXFpE"
      },
      "source": [
        "#show current directory\n",
        "!pwd\n",
        "\n",
        "#move to a specific directory\n",
        "import os\n",
        "os.chdir('/content/gdrive/My Drive/practica1indexacion/')\n",
        "!pwd"
      ],
      "execution_count": null,
      "outputs": []
    },
    {
      "cell_type": "markdown",
      "metadata": {
        "id": "55oysizVn1Rp"
      },
      "source": [
        "### Generación de scripts\n",
        "\n",
        "Frecuentemente, tras desarrollar una nueva funcionalidad es conveniente utilizar un fichero *.py* para encapsular esta funcionalidad.\n",
        "\n",
        "En el siguiente código puede ver como se generan el fichero *textproc.py*"
      ]
    },
    {
      "cell_type": "code",
      "metadata": {
        "id": "HUJTl8uvoPbT"
      },
      "source": [
        "%%writefile textproc.py\n",
        "\n",
        "def plural(word):\n",
        "    if word.endswith('y'):\n",
        "        return word[:-1] + 'ies'\n",
        "    elif word[-1] in 'sx' or word[-2:] in ['sh', 'ch']:\n",
        "        return word + 'es'\n",
        "    elif word.endswith('an'):\n",
        "        return word[:-2] + 'en'\n",
        "    else:\n",
        "        return word + 's'"
      ],
      "execution_count": null,
      "outputs": []
    },
    {
      "cell_type": "code",
      "metadata": {
        "id": "pB9DzOtcoxKe"
      },
      "source": [
        "#list directory contents\n",
        "!ls"
      ],
      "execution_count": null,
      "outputs": []
    },
    {
      "cell_type": "markdown",
      "metadata": {
        "id": "U0ZHNFrBo2sa"
      },
      "source": [
        "### Ejecución de scripts\n",
        "\n",
        "Tras encapsular la funcionalidad deseada en un fichero *.py*, tenemos dos maneras utilizar dicha funcionalidad"
      ]
    },
    {
      "cell_type": "code",
      "metadata": {
        "id": "dvnoFzvzo1wo"
      },
      "source": [
        "#example 1 for importing library\n",
        "from textproc import plural\n",
        "\n",
        "#create object\n",
        "plural('wish') "
      ],
      "execution_count": null,
      "outputs": []
    },
    {
      "cell_type": "code",
      "metadata": {
        "id": "3yjTxFM7pmSV"
      },
      "source": [
        "#example 2 for running an external script\n",
        "\n",
        "%run -i textproc.py #runs script and keeps variables\n",
        "plural('wish')"
      ],
      "execution_count": null,
      "outputs": []
    },
    {
      "cell_type": "markdown",
      "metadata": {
        "id": "LbW88PSLEyv7"
      },
      "source": [
        "### Reiniciar la máquina virtual\n",
        "Es posible que realice diversas operaciones sobre el sistema (e.g. instalación de paquetes) que produzca un sistema inestable. \n",
        "\n",
        "En ese caso, se recomienda:\n",
        "\n",
        "1) Haga un \"restart runtime\" mediante las teclas Ctrl+M\n",
        "\n",
        "2) En el caso de que no se resuelva su problema, ejecute la siguiente instrucción para forzar un reseteo del sistema. Tras ejecutar esta instrucción la máquina sufrirá un bloqueo durante un pequeño lapso de tiempo (1-2 minutos). Refresque la página y verifique que se conecta a la máquina virtual (\"CONNECTED\" en la esquina superior derecha)\n",
        "\n",
        "```\n",
        "!kill -9 -1\n",
        "```\n",
        "   \n",
        "\n",
        "\n"
      ]
    },
    {
      "cell_type": "code",
      "metadata": {
        "id": "P2Uuh4kzE9j7"
      },
      "source": [
        "!kill -9 -1"
      ],
      "execution_count": null,
      "outputs": []
    }
  ]
}