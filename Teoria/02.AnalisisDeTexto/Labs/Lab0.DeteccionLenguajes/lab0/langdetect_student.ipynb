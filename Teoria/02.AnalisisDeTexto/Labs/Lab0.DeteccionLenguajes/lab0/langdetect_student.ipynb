{
 "cells": [
  {
   "cell_type": "markdown",
   "metadata": {
    "nbgrader": {
     "grade": false,
     "locked": false,
     "solution": false
    }
   },
   "source": [
    "# Práctica: detector de idioma"
   ]
  },
  {
   "cell_type": "markdown",
   "metadata": {
    "nbgrader": {
     "grade": false,
     "locked": false,
     "solution": false
    }
   },
   "source": [
    "<img src=\"img/multilingual.png\" style=\"width:400px;\">"
   ]
  },
  {
   "cell_type": "markdown",
   "metadata": {
    "nbgrader": {
     "grade": false,
     "locked": false,
     "solution": false
    }
   },
   "source": [
    "En esta práctica vamos a construir un detector automático de idioma, capaz de discriminar texto de 20 idiomas diferentes. Para ello vamos a utilizar únicamente método basados en análisis de caracteres, que sin embargo resultan ser muy efectivos para este problema."
   ]
  },
  {
   "cell_type": "markdown",
   "metadata": {
    "nbgrader": {
     "grade": false,
     "locked": false,
     "solution": false
    }
   },
   "source": [
    "## Instrucciones"
   ]
  },
  {
   "cell_type": "markdown",
   "metadata": {
    "nbgrader": {
     "grade": false,
     "locked": false,
     "solution": false
    }
   },
   "source": [
    "A lo largo de este cuaderno encontrarás celdas vacías que tendrás que rellenar con tu propio código. Sigue las instrucciones del cuaderno y presta especial atención a los siguientes iconos:\n",
    "\n",
    "<table>\n",
    "<tr><td width=\"80\"><img src=\"img/question.png\" style=\"width:auto;height:auto\"></td><td style=\"text-align:left\">Deberás responder a la pregunta indicada con el código o contestación que escribas en la celda inferior.</td></tr>\n",
    " <tr><td width=\"80\"><img src=\"img/exclamation.png\" style=\"width:auto;height:auto\"></td><td style=\"text-align:left\">Esto es una pista u observación que te puede ayudar a resolver la práctica.</td></tr>\n",
    " <tr><td width=\"80\"><img src=\"img/pro.png\" style=\"width:auto;height:auto\"></td><td style=\"text-align:left\">Este es un ejercicio avanzado y voluntario que puedes realizar si quieres profundar más sobre el tema. Te animamos a intentarlo para aprender más ¡Ánimo!</td></tr>\n",
    "</table>\n",
    "\n",
    "Para evitar problemas de compatibilidad y de paquetes no instalados, se recomienda ejecutar este notebook bajo uno de los [entornos recomendados de Text Mining](https://github.com/albarji/teaching-environments/tree/master/textmining).\n",
    "\n",
    "Adicionalmente si necesitas consultar la ayuda de cualquier función python puedes colocar el cursor de escritura sobre el nombre de la misma y pulsar Mayúsculas+Shift para que aparezca un recuadro con sus detalles. Ten en cuenta que esto únicamente funciona en las celdas de código.\n",
    "\n",
    "¡Adelante!"
   ]
  },
  {
   "cell_type": "markdown",
   "metadata": {
    "nbgrader": {
     "grade": false,
     "locked": false,
     "solution": false
    }
   },
   "source": [
    "## Carga y preparación de datos"
   ]
  },
  {
   "cell_type": "markdown",
   "metadata": {},
   "source": [
    "Para este ejercicio usaremos el corpus de muestras de frases de diferentes idiomas que puede obtenerse de Tatoeba: https://tatoeba.org/eng/downloads ."
   ]
  },
  {
   "cell_type": "markdown",
   "metadata": {},
   "source": [
    "<table>\n",
    " <tr>\n",
    "  <tr><td width=\"80\"><img src=\"img/question.png\" style=\"width:auto;height:auto\"></td><td style=\"text-align:left\">\n",
    "    Descarga el fichero <i>sentences.tar.bz2</i> de la web de Tatoeba y descomprímelo. Crea una variable DATAFILE con la ruta completa al fichero descomprimido.\n",
    "  </td>\n",
    " </tr> \n",
    "</table>"
   ]
  },
  {
   "cell_type": "code",
   "execution_count": 3,
   "metadata": {
    "collapsed": true
   },
   "outputs": [
    {
     "name": "stdout",
     "output_type": "stream",
     "text": [
      "/mnt/c/Universidad/MasterBDyDS/Segundo/Indexacion/Teoria/02.AnalisisDeTexto/Labs/Lab0.DeteccionLenguajes/lab0\n",
      "--2022-11-01 18:40:02--  https://downloads.tatoeba.org/exports/sentences.tar.bz2\n",
      "Resolving downloads.tatoeba.org (downloads.tatoeba.org)... 94.130.77.194\n",
      "Connecting to downloads.tatoeba.org (downloads.tatoeba.org)|94.130.77.194|:443... connected.\n",
      "HTTP request sent, awaiting response... 200 OK\n",
      "Length: 169742588 (162M) [application/octet-stream]\n",
      "Saving to: ‘sentences.tar.bz2.1’\n",
      "\n",
      "sentences.tar.bz2.1 100%[===================>] 161.88M  13.9MB/s    in 11s     \n",
      "\n",
      "2022-11-01 18:40:13 (14.5 MB/s) - ‘sentences.tar.bz2.1’ saved [169742588/169742588]\n",
      "\n",
      "sentences.csv\n"
     ]
    }
   ],
   "source": [
    "####### INSERT YOUR CODE HERE\n",
    "!pwd\n",
    "!wget https://downloads.tatoeba.org/exports/sentences.tar.bz2\n",
    "!tar -xvf sentences.tar.bz2"
   ]
  },
  {
   "cell_type": "markdown",
   "metadata": {},
   "source": [
    "Al tratarse de un fichero en formato TSV (tab separated file) podemos cargarlo como un Dataframe de pandas con facilidad. Si lo has descargado y has indicado la ruta correctamente, la siguiente celda debería cargar los datos y mostrar una porción de los mismos."
   ]
  },
  {
   "cell_type": "code",
   "execution_count": 1,
   "metadata": {
    "collapsed": true
   },
   "outputs": [
    {
     "data": {
      "text/html": [
       "<div>\n",
       "<style scoped>\n",
       "    .dataframe tbody tr th:only-of-type {\n",
       "        vertical-align: middle;\n",
       "    }\n",
       "\n",
       "    .dataframe tbody tr th {\n",
       "        vertical-align: top;\n",
       "    }\n",
       "\n",
       "    .dataframe thead th {\n",
       "        text-align: right;\n",
       "    }\n",
       "</style>\n",
       "<table border=\"1\" class=\"dataframe\">\n",
       "  <thead>\n",
       "    <tr style=\"text-align: right;\">\n",
       "      <th></th>\n",
       "      <th>lang</th>\n",
       "      <th>text</th>\n",
       "    </tr>\n",
       "  </thead>\n",
       "  <tbody>\n",
       "    <tr>\n",
       "      <th>1</th>\n",
       "      <td>cmn</td>\n",
       "      <td>我們試試看！</td>\n",
       "    </tr>\n",
       "    <tr>\n",
       "      <th>2</th>\n",
       "      <td>cmn</td>\n",
       "      <td>我该去睡觉了。</td>\n",
       "    </tr>\n",
       "    <tr>\n",
       "      <th>3</th>\n",
       "      <td>cmn</td>\n",
       "      <td>你在干什麼啊？</td>\n",
       "    </tr>\n",
       "    <tr>\n",
       "      <th>4</th>\n",
       "      <td>cmn</td>\n",
       "      <td>這是什麼啊？</td>\n",
       "    </tr>\n",
       "    <tr>\n",
       "      <th>5</th>\n",
       "      <td>cmn</td>\n",
       "      <td>今天是６月１８号，也是Muiriel的生日！</td>\n",
       "    </tr>\n",
       "    <tr>\n",
       "      <th>...</th>\n",
       "      <td>...</td>\n",
       "      <td>...</td>\n",
       "    </tr>\n",
       "    <tr>\n",
       "      <th>11214146</th>\n",
       "      <td>deu</td>\n",
       "      <td>Es ist schon ein komisches Gefühl, wenn man fü...</td>\n",
       "    </tr>\n",
       "    <tr>\n",
       "      <th>11214147</th>\n",
       "      <td>deu</td>\n",
       "      <td>Setzt euch!</td>\n",
       "    </tr>\n",
       "    <tr>\n",
       "      <th>11214148</th>\n",
       "      <td>deu</td>\n",
       "      <td>Die alte Müller ist nicht mehr ganz beieinander.</td>\n",
       "    </tr>\n",
       "    <tr>\n",
       "      <th>11214149</th>\n",
       "      <td>fra</td>\n",
       "      <td>Viens me voir !</td>\n",
       "    </tr>\n",
       "    <tr>\n",
       "      <th>11214150</th>\n",
       "      <td>deu</td>\n",
       "      <td>Komm zu mir!</td>\n",
       "    </tr>\n",
       "  </tbody>\n",
       "</table>\n",
       "<p>10758599 rows × 2 columns</p>\n",
       "</div>"
      ],
      "text/plain": [
       "         lang                                               text\n",
       "1         cmn                                             我們試試看！\n",
       "2         cmn                                            我该去睡觉了。\n",
       "3         cmn                                            你在干什麼啊？\n",
       "4         cmn                                             這是什麼啊？\n",
       "5         cmn                             今天是６月１８号，也是Muiriel的生日！\n",
       "...       ...                                                ...\n",
       "11214146  deu  Es ist schon ein komisches Gefühl, wenn man fü...\n",
       "11214147  deu                                        Setzt euch!\n",
       "11214148  deu   Die alte Müller ist nicht mehr ganz beieinander.\n",
       "11214149  fra                                    Viens me voir !\n",
       "11214150  deu                                       Komm zu mir!\n",
       "\n",
       "[10758599 rows x 2 columns]"
      ]
     },
     "execution_count": 1,
     "metadata": {},
     "output_type": "execute_result"
    }
   ],
   "source": [
    "import pandas as pd\n",
    "DATAFILE = './sentences.csv'\n",
    "df = pd.read_csv(DATAFILE, sep=\"\\t\", index_col=0, names=[\"lang\", \"text\"])\n",
    "df"
   ]
  },
  {
   "cell_type": "markdown",
   "metadata": {},
   "source": [
    "Como podemos ver, cada registro contiene una frase (columna \"text\") y un indicador del idioma al que pertenece (columna \"lang\"). El indicador de idioma sigue el estándar [ISO 639-3](https://en.wikipedia.org/wiki/List_of_ISO_639-3_codes)."
   ]
  },
  {
   "cell_type": "markdown",
   "metadata": {},
   "source": [
    "Antes de ponernos a trabajar con los datos debemos limpiarlos un poco. La siguiente comprobación nos demuestra que en el indicador de idioma existen valores desconocidos:"
   ]
  },
  {
   "cell_type": "code",
   "execution_count": 2,
   "metadata": {
    "collapsed": true
   },
   "outputs": [
    {
     "data": {
      "text/plain": [
       "lang    15\n",
       "text     0\n",
       "dtype: int64"
      ]
     },
     "execution_count": 2,
     "metadata": {},
     "output_type": "execute_result"
    }
   ],
   "source": [
    "df.isnull().sum()"
   ]
  },
  {
   "cell_type": "markdown",
   "metadata": {},
   "source": [
    "Podemos eliminar esos registros inválidos con la siguiente instrucción"
   ]
  },
  {
   "cell_type": "code",
   "execution_count": 3,
   "metadata": {
    "collapsed": true
   },
   "outputs": [],
   "source": [
    "df = df.dropna()"
   ]
  },
  {
   "cell_type": "markdown",
   "metadata": {},
   "source": [
    "Ahora vamos a comprobar qué idiomas hay presentes en los datos. Para ello vamos a utilizar Counter, una estructura que funciona de manera análoga a un diccionario de python, pero que permite llevar la cuenta del número de veces que ha aparecido un elemento."
   ]
  },
  {
   "cell_type": "code",
   "execution_count": 4,
   "metadata": {
    "collapsed": true
   },
   "outputs": [
    {
     "data": {
      "text/plain": [
       "Counter({'cmn': 72882,\n",
       "         'deu': 596375,\n",
       "         'rus': 944964,\n",
       "         'fra': 516751,\n",
       "         'eng': 1650176,\n",
       "         'jpn': 230474,\n",
       "         'spa': 380536,\n",
       "         'ita': 819153,\n",
       "         'kor': 11375,\n",
       "         'vie': 21180,\n",
       "         'nld': 165060,\n",
       "         'epo': 699081,\n",
       "         'por': 408287,\n",
       "         'tur': 719345,\n",
       "         'heb': 199716,\n",
       "         'hun': 371396,\n",
       "         'ell': 35541,\n",
       "         'ind': 16983,\n",
       "         'ara': 40009,\n",
       "         'arz': 1136,\n",
       "         'fin': 141686,\n",
       "         'bul': 24707,\n",
       "         'yue': 6301,\n",
       "         'swe': 49845,\n",
       "         'ukr': 180227,\n",
       "         'bel': 12673,\n",
       "         'que': 426,\n",
       "         'ces': 67746,\n",
       "         'swh': 4449,\n",
       "         'nno': 1580,\n",
       "         'wuu': 4764,\n",
       "         'nob': 16831,\n",
       "         'zsm': 7258,\n",
       "         'est': 3727,\n",
       "         'kat': 6130,\n",
       "         'pol': 117574,\n",
       "         'lat': 46917,\n",
       "         'urd': 2340,\n",
       "         'sqi': 2557,\n",
       "         'isl': 13013,\n",
       "         'fry': 520,\n",
       "         'afr': 4155,\n",
       "         'ron': 29327,\n",
       "         'fao': 404,\n",
       "         'san': 156,\n",
       "         'bre': 7323,\n",
       "         'tat': 14165,\n",
       "         'yid': 11256,\n",
       "         'uig': 7852,\n",
       "         'uzb': 999,\n",
       "         'srp': 47176,\n",
       "         'qya': 142,\n",
       "         'dan': 55734,\n",
       "         'pes': 26814,\n",
       "         'slk': 17225,\n",
       "         'eus': 6183,\n",
       "         'cycl': 36,\n",
       "         'acm': 49,\n",
       "         'tgl': 18170,\n",
       "         'lvs': 3060,\n",
       "         'kaz': 4101,\n",
       "         'hye': 5091,\n",
       "         'hin': 14907,\n",
       "         'lit': 81787,\n",
       "         'ben': 5412,\n",
       "         'cat': 8084,\n",
       "         'bos': 1690,\n",
       "         'hrv': 5375,\n",
       "         'tha': 4907,\n",
       "         'orv': 1307,\n",
       "         'cha': 343,\n",
       "         'mon': 2788,\n",
       "         'lzh': 1830,\n",
       "         'scn': 35,\n",
       "         'gle': 2809,\n",
       "         'mkd': 77989,\n",
       "         'slv': 1147,\n",
       "         'frm': 32,\n",
       "         'glg': 4677,\n",
       "         'vol': 4823,\n",
       "         'ain': 303,\n",
       "         'jbo': 16401,\n",
       "         'tok': 50256,\n",
       "         'ina': 27710,\n",
       "         'nds': 18005,\n",
       "         'mal': 878,\n",
       "         'tlh': 24116,\n",
       "         'roh': 24,\n",
       "         'ltz': 883,\n",
       "         'oss': 6856,\n",
       "         'ido': 10151,\n",
       "         'gla': 1035,\n",
       "         'mlt': 216,\n",
       "         'sco': 87,\n",
       "         'ast': 280,\n",
       "         'jav': 999,\n",
       "         'oci': 5695,\n",
       "         'ile': 7713,\n",
       "         'ota': 2277,\n",
       "         '\\\\N': 387,\n",
       "         'xal': 870,\n",
       "         'tel': 271,\n",
       "         'sjn': 89,\n",
       "         'nov': 426,\n",
       "         'khm': 1511,\n",
       "         'tpi': 89,\n",
       "         'ang': 362,\n",
       "         'aze': 5483,\n",
       "         'tgk': 64,\n",
       "         'tuk': 6796,\n",
       "         'chv': 1645,\n",
       "         'hsb': 1510,\n",
       "         'dsb': 1095,\n",
       "         'bod': 41,\n",
       "         'sme': 209,\n",
       "         'cym': 1612,\n",
       "         'mri': 396,\n",
       "         'ksh': 82,\n",
       "         'kmr': 10046,\n",
       "         'ewe': 26,\n",
       "         'kab': 554791,\n",
       "         'ber': 613704,\n",
       "         'tpw': 563,\n",
       "         'udm': 71,\n",
       "         'lld': 85,\n",
       "         'pms': 823,\n",
       "         'lad': 1295,\n",
       "         'grn': 3298,\n",
       "         'mlg': 60,\n",
       "         'xho': 253,\n",
       "         'pnb': 35,\n",
       "         'grc': 1169,\n",
       "         'hat': 93,\n",
       "         'lao': 219,\n",
       "         'npi': 178,\n",
       "         'cor': 3923,\n",
       "         'nah': 212,\n",
       "         'avk': 4103,\n",
       "         'mar': 72201,\n",
       "         'guj': 168,\n",
       "         'pan': 196,\n",
       "         'kir': 315,\n",
       "         'myv': 68,\n",
       "         'prg': 1000,\n",
       "         'sux': 183,\n",
       "         'crs': 66,\n",
       "         'ckt': 531,\n",
       "         'bak': 243,\n",
       "         'zlm': 1727,\n",
       "         'hil': 44,\n",
       "         'cbk': 2731,\n",
       "         'chr': 28,\n",
       "         'nav': 85,\n",
       "         'lkt': 22,\n",
       "         'enm': 135,\n",
       "         'arq': 2332,\n",
       "         'lin': 4740,\n",
       "         'abk': 28,\n",
       "         'pcd': 1348,\n",
       "         'rom': 873,\n",
       "         'gsw': 468,\n",
       "         'tam': 500,\n",
       "         'zul': 84,\n",
       "         'awa': 253,\n",
       "         'wln': 53,\n",
       "         'amh': 234,\n",
       "         'bar': 224,\n",
       "         'hbo': 138,\n",
       "         'mhr': 4301,\n",
       "         'bho': 55,\n",
       "         'mrj': 83,\n",
       "         'ckb': 12000,\n",
       "         'osx': 3,\n",
       "         'pfl': 3,\n",
       "         'mgm': 60,\n",
       "         'sna': 42,\n",
       "         'mah': 27,\n",
       "         'hau': 21611,\n",
       "         'kan': 176,\n",
       "         'nog': 162,\n",
       "         'sin': 53,\n",
       "         'glv': 37,\n",
       "         'dng': 31,\n",
       "         'kal': 78,\n",
       "         'liv': 33,\n",
       "         'vro': 15,\n",
       "         'apc': 101,\n",
       "         'jdt': 9,\n",
       "         'fur': 33,\n",
       "         'che': 28,\n",
       "         'haw': 158,\n",
       "         'yor': 59,\n",
       "         'crh': 311,\n",
       "         'pdc': 57,\n",
       "         'ppl': 59,\n",
       "         'kin': 28,\n",
       "         'shs': 95,\n",
       "         'mnw': 9,\n",
       "         'tet': 59,\n",
       "         'sah': 967,\n",
       "         'kum': 117,\n",
       "         'ngt': 19,\n",
       "         'nya': 24,\n",
       "         'pus': 46,\n",
       "         'hif': 34,\n",
       "         'mya': 555,\n",
       "         'moh': 74,\n",
       "         'wol': 121,\n",
       "         'tir': 103,\n",
       "         'ton': 20,\n",
       "         'lzz': 28,\n",
       "         'oar': 22,\n",
       "         'lug': 2,\n",
       "         'brx': 11,\n",
       "         'non': 21,\n",
       "         'mww': 82,\n",
       "         'hak': 55,\n",
       "         'nlv': 14,\n",
       "         'ngu': 43,\n",
       "         'bua': 905,\n",
       "         'aym': 2,\n",
       "         'vec': 190,\n",
       "         'ibo': 34,\n",
       "         'tkl': 12,\n",
       "         'bam': 13,\n",
       "         'kha': 2099,\n",
       "         'ceb': 1563,\n",
       "         'lou': 22,\n",
       "         'fuc': 7,\n",
       "         'smo': 78,\n",
       "         'gag': 26,\n",
       "         'lfn': 21575,\n",
       "         'arg': 103,\n",
       "         'umb': 30,\n",
       "         'tyv': 69,\n",
       "         'kjh': 41,\n",
       "         'oji': 35,\n",
       "         'cyo': 1,\n",
       "         'urh': 1,\n",
       "         'kzj': 5321,\n",
       "         'pam': 1482,\n",
       "         'srd': 15,\n",
       "         'lmo': 29,\n",
       "         'swg': 1960,\n",
       "         'mdf': 9,\n",
       "         'gil': 14,\n",
       "         'snd': 6,\n",
       "         'tso': 3,\n",
       "         'sot': 2,\n",
       "         'zza': 1712,\n",
       "         'tsn': 41,\n",
       "         'pau': 34,\n",
       "         'som': 94,\n",
       "         'egl': 144,\n",
       "         'ady': 31,\n",
       "         'asm': 3664,\n",
       "         'ori': 397,\n",
       "         'dtp': 2914,\n",
       "         'cho': 124,\n",
       "         'max': 427,\n",
       "         'kam': 10,\n",
       "         'niu': 35,\n",
       "         'sag': 8,\n",
       "         'ilo': 2461,\n",
       "         'kaa': 12,\n",
       "         'fuv': 35,\n",
       "         'nch': 39,\n",
       "         'hoc': 701,\n",
       "         'iba': 64,\n",
       "         'gbm': 36,\n",
       "         'sun': 31,\n",
       "         'war': 2025,\n",
       "         'mvv': 28,\n",
       "         'pap': 89,\n",
       "         'ary': 69,\n",
       "         'kxi': 3,\n",
       "         'csb': 947,\n",
       "         'pag': 55,\n",
       "         'cos': 24,\n",
       "         'rif': 227,\n",
       "         'kek': 24,\n",
       "         'krc': 204,\n",
       "         'aii': 6,\n",
       "         'ban': 6,\n",
       "         'ssw': 1,\n",
       "         'tvl': 14,\n",
       "         'mfe': 6,\n",
       "         'tah': 30,\n",
       "         'bvy': 76,\n",
       "         'bcl': 5,\n",
       "         'hnj': 4,\n",
       "         'nau': 11,\n",
       "         'nst': 793,\n",
       "         'afb': 136,\n",
       "         'quc': 7,\n",
       "         'min': 121,\n",
       "         'tmw': 5,\n",
       "         'mad': 7,\n",
       "         'bjn': 136,\n",
       "         'mai': 8,\n",
       "         'cjy': 18,\n",
       "         'got': 269,\n",
       "         'hsn': 4,\n",
       "         'gan': 3,\n",
       "         'tzl': 342,\n",
       "         'dws': 57,\n",
       "         'ldn': 139,\n",
       "         'afh': 79,\n",
       "         'sgs': 47,\n",
       "         'krl': 194,\n",
       "         'vep': 13,\n",
       "         'rue': 117,\n",
       "         'tly': 66,\n",
       "         'mic': 18,\n",
       "         'ext': 66,\n",
       "         'izh': 21,\n",
       "         'sma': 59,\n",
       "         'jam': 34,\n",
       "         'cmo': 85,\n",
       "         'mwl': 22,\n",
       "         'kpv': 46,\n",
       "         'koi': 43,\n",
       "         'bis': 28,\n",
       "         'ike': 50,\n",
       "         'run': 5280,\n",
       "         'evn': 116,\n",
       "         'ryu': 42,\n",
       "         'mnc': 2,\n",
       "         'aoz': 24,\n",
       "         'otk': 7,\n",
       "         'kas': 49,\n",
       "         'aln': 28,\n",
       "         'akl': 28,\n",
       "         'yua': 10,\n",
       "         'shy': 247,\n",
       "         'fkv': 517,\n",
       "         'gos': 5663,\n",
       "         'fij': 38,\n",
       "         'thv': 588,\n",
       "         'zgh': 3278,\n",
       "         'gcf': 2122,\n",
       "         'cay': 31,\n",
       "         'xmf': 632,\n",
       "         'tig': 3831,\n",
       "         'div': 40,\n",
       "         'lij': 1801,\n",
       "         'rap': 33,\n",
       "         'hrx': 1111,\n",
       "         'cpi': 7,\n",
       "         'tts': 55,\n",
       "         'gaa': 3,\n",
       "         'tmr': 205,\n",
       "         'iii': 60,\n",
       "         'ltg': 33,\n",
       "         'bzt': 263,\n",
       "         'syc': 3,\n",
       "         'emx': 12,\n",
       "         'jpa': 17,\n",
       "         'gom': 4,\n",
       "         'chg': 8,\n",
       "         'osp': 21,\n",
       "         'stq': 96,\n",
       "         'frr': 2855,\n",
       "         'fro': 93,\n",
       "         'nys': 2,\n",
       "         'toi': 15,\n",
       "         'new': 17,\n",
       "         'phn': 15,\n",
       "         'rel': 1,\n",
       "         'drt': 40,\n",
       "         'chn': 53,\n",
       "         'pli': 2,\n",
       "         'laa': 10,\n",
       "         'bal': 140,\n",
       "         'hdn': 3,\n",
       "         'hax': 1,\n",
       "         'mik': 104,\n",
       "         'ajp': 9,\n",
       "         'xqa': 12,\n",
       "         'pal': 5,\n",
       "         'crk': 4,\n",
       "         'mni': 3,\n",
       "         'lut': 59,\n",
       "         'ayl': 3,\n",
       "         'ood': 28,\n",
       "         'sdh': 1048,\n",
       "         'ofs': 13,\n",
       "         'nus': 2081,\n",
       "         'kiu': 6,\n",
       "         'diq': 6,\n",
       "         'qxq': 14,\n",
       "         'alt': 8,\n",
       "         'bfz': 57,\n",
       "         'klj': 20,\n",
       "         'mus': 598,\n",
       "         'srn': 198,\n",
       "         'guc': 912,\n",
       "         'lim': 45,\n",
       "         'zea': 12,\n",
       "         'shi': 2785,\n",
       "         'mnr': 3,\n",
       "         'bom': 52,\n",
       "         'sat': 3239,\n",
       "         'szl': 10,\n",
       "         'igs': 31,\n",
       "         'mfa': 319,\n",
       "         'rhg': 3850,\n",
       "         'swc': 23818,\n",
       "         'nnb': 14222,\n",
       "         'knc': 3801,\n",
       "         'skr': 66,\n",
       "         'ava': 9,\n",
       "         'kbd': 61})"
      ]
     },
     "execution_count": 4,
     "metadata": {},
     "output_type": "execute_result"
    }
   ],
   "source": [
    "from collections import Counter\n",
    "\n",
    "langcounter = Counter(df[\"lang\"])\n",
    "langcounter"
   ]
  },
  {
   "cell_type": "markdown",
   "metadata": {},
   "source": [
    "¡Son 331 idiomas! Para centrar este ejercicio vamos a focalizarnos en los 20 idiomas más representativos. Podemos obtener 20 los elementos más frecuentes de un Counter de la siguiente manera:"
   ]
  },
  {
   "cell_type": "code",
   "execution_count": 5,
   "metadata": {
    "collapsed": true
   },
   "outputs": [
    {
     "data": {
      "text/plain": [
       "[('eng', 1650176),\n",
       " ('rus', 944964),\n",
       " ('ita', 819153),\n",
       " ('tur', 719345),\n",
       " ('epo', 699081),\n",
       " ('ber', 613704),\n",
       " ('deu', 596375),\n",
       " ('kab', 554791),\n",
       " ('fra', 516751),\n",
       " ('por', 408287),\n",
       " ('spa', 380536),\n",
       " ('hun', 371396),\n",
       " ('jpn', 230474),\n",
       " ('heb', 199716),\n",
       " ('ukr', 180227),\n",
       " ('nld', 165060),\n",
       " ('fin', 141686),\n",
       " ('pol', 117574),\n",
       " ('lit', 81787),\n",
       " ('mkd', 77989)]"
      ]
     },
     "execution_count": 5,
     "metadata": {},
     "output_type": "execute_result"
    }
   ],
   "source": [
    "langcounter.most_common(20)"
   ]
  },
  {
   "cell_type": "markdown",
   "metadata": {},
   "source": [
    "Esto nos devuelve los 20 elementos más frecuentes, junto con sus frecuencias de aparición. Entre los idiomas más frecuentes encontramos el inglés, italiano, ruso, turco, alemán, español, hebreo, japonés, finlandes, chino mandarín, ..."
   ]
  },
  {
   "cell_type": "markdown",
   "metadata": {},
   "source": [
    "<table>\n",
    " <tr>\n",
    "  <tr><td width=\"80\"><img src=\"img/question.png\" style=\"width:auto;height:auto\"></td><td style=\"text-align:left\">\n",
    "      Crea una variable <b>commonlangs</b> que sea una lista con los nombres de esos 20 idiomas más frecuentes. Tendrás que tomar la salida del método most_common y quedarte solo con los nombres de los idiomas.\n",
    "  </td>\n",
    " </tr> \n",
    "</table>"
   ]
  },
  {
   "cell_type": "code",
   "execution_count": 6,
   "metadata": {
    "collapsed": true
   },
   "outputs": [
    {
     "data": {
      "text/plain": [
       "['eng',\n",
       " 'rus',\n",
       " 'ita',\n",
       " 'tur',\n",
       " 'epo',\n",
       " 'ber',\n",
       " 'deu',\n",
       " 'kab',\n",
       " 'fra',\n",
       " 'por',\n",
       " 'spa',\n",
       " 'hun',\n",
       " 'jpn',\n",
       " 'heb',\n",
       " 'ukr',\n",
       " 'nld',\n",
       " 'fin',\n",
       " 'pol',\n",
       " 'lit',\n",
       " 'mkd']"
      ]
     },
     "execution_count": 6,
     "metadata": {},
     "output_type": "execute_result"
    }
   ],
   "source": [
    "####### INSERT YOUR CODE HERE\n",
    "commonlangs = []\n",
    "for lang in langcounter.most_common(20):\n",
    "    commonlangs.append(lang[0])\n",
    "\n",
    "commonlangs"
   ]
  },
  {
   "cell_type": "markdown",
   "metadata": {},
   "source": [
    "Si todo es correcto, la siguiente línea debería filtrar los datos para quedarnos solo con las frases de esos 20 idiomas."
   ]
  },
  {
   "cell_type": "code",
   "execution_count": 7,
   "metadata": {
    "collapsed": true
   },
   "outputs": [
    {
     "data": {
      "text/html": [
       "<div>\n",
       "<style scoped>\n",
       "    .dataframe tbody tr th:only-of-type {\n",
       "        vertical-align: middle;\n",
       "    }\n",
       "\n",
       "    .dataframe tbody tr th {\n",
       "        vertical-align: top;\n",
       "    }\n",
       "\n",
       "    .dataframe thead th {\n",
       "        text-align: right;\n",
       "    }\n",
       "</style>\n",
       "<table border=\"1\" class=\"dataframe\">\n",
       "  <thead>\n",
       "    <tr style=\"text-align: right;\">\n",
       "      <th></th>\n",
       "      <th>lang</th>\n",
       "      <th>text</th>\n",
       "    </tr>\n",
       "  </thead>\n",
       "  <tbody>\n",
       "    <tr>\n",
       "      <th>77</th>\n",
       "      <td>deu</td>\n",
       "      <td>Lass uns etwas versuchen!</td>\n",
       "    </tr>\n",
       "    <tr>\n",
       "      <th>78</th>\n",
       "      <td>deu</td>\n",
       "      <td>Ich muss schlafen gehen.</td>\n",
       "    </tr>\n",
       "    <tr>\n",
       "      <th>80</th>\n",
       "      <td>deu</td>\n",
       "      <td>Was ist das?</td>\n",
       "    </tr>\n",
       "    <tr>\n",
       "      <th>81</th>\n",
       "      <td>deu</td>\n",
       "      <td>Heute ist der 18. Juni und das ist der Geburts...</td>\n",
       "    </tr>\n",
       "    <tr>\n",
       "      <th>82</th>\n",
       "      <td>deu</td>\n",
       "      <td>Herzlichen Glückwunsch zum Geburtstag, Muiriel!</td>\n",
       "    </tr>\n",
       "    <tr>\n",
       "      <th>...</th>\n",
       "      <td>...</td>\n",
       "      <td>...</td>\n",
       "    </tr>\n",
       "    <tr>\n",
       "      <th>11214146</th>\n",
       "      <td>deu</td>\n",
       "      <td>Es ist schon ein komisches Gefühl, wenn man fü...</td>\n",
       "    </tr>\n",
       "    <tr>\n",
       "      <th>11214147</th>\n",
       "      <td>deu</td>\n",
       "      <td>Setzt euch!</td>\n",
       "    </tr>\n",
       "    <tr>\n",
       "      <th>11214148</th>\n",
       "      <td>deu</td>\n",
       "      <td>Die alte Müller ist nicht mehr ganz beieinander.</td>\n",
       "    </tr>\n",
       "    <tr>\n",
       "      <th>11214149</th>\n",
       "      <td>fra</td>\n",
       "      <td>Viens me voir !</td>\n",
       "    </tr>\n",
       "    <tr>\n",
       "      <th>11214150</th>\n",
       "      <td>deu</td>\n",
       "      <td>Komm zu mir!</td>\n",
       "    </tr>\n",
       "  </tbody>\n",
       "</table>\n",
       "<p>9469072 rows × 2 columns</p>\n",
       "</div>"
      ],
      "text/plain": [
       "         lang                                               text\n",
       "77        deu                          Lass uns etwas versuchen!\n",
       "78        deu                           Ich muss schlafen gehen.\n",
       "80        deu                                       Was ist das?\n",
       "81        deu  Heute ist der 18. Juni und das ist der Geburts...\n",
       "82        deu    Herzlichen Glückwunsch zum Geburtstag, Muiriel!\n",
       "...       ...                                                ...\n",
       "11214146  deu  Es ist schon ein komisches Gefühl, wenn man fü...\n",
       "11214147  deu                                        Setzt euch!\n",
       "11214148  deu   Die alte Müller ist nicht mehr ganz beieinander.\n",
       "11214149  fra                                    Viens me voir !\n",
       "11214150  deu                                       Komm zu mir!\n",
       "\n",
       "[9469072 rows x 2 columns]"
      ]
     },
     "execution_count": 7,
     "metadata": {},
     "output_type": "execute_result"
    }
   ],
   "source": [
    "df = df[df[\"lang\"].isin(commonlangs)]\n",
    "df"
   ]
  },
  {
   "cell_type": "markdown",
   "metadata": {},
   "source": [
    "Ahora que hemos limpiado los datos, vamos a separar las variables de entrada (texto) de las de salida (idiomas). Para poder introducir las etiquetas de idioma en el modelo tendremos que codificarlas de forma numérica: para ello usaremos LabelEncoder de scikit-learn:"
   ]
  },
  {
   "cell_type": "code",
   "execution_count": null,
   "metadata": {
    "collapsed": true
   },
   "outputs": [],
   "source": [
    "from sklearn.preprocessing import LabelEncoder\n",
    "\n",
    "X = df[\"text\"]\n",
    "labelencoder = LabelEncoder().fit(df[\"lang\"])\n",
    "y = labelencoder.transform(df[\"lang\"])"
   ]
  },
  {
   "cell_type": "markdown",
   "metadata": {},
   "source": [
    "A continuación vamos a separar los datos en un conjunto para entrenar el modelo y otro para hacer las predicciones:"
   ]
  },
  {
   "cell_type": "code",
   "execution_count": null,
   "metadata": {
    "collapsed": true
   },
   "outputs": [],
   "source": [
    "from sklearn.model_selection import train_test_split\n",
    "\n",
    "X_train, X_test, y_train, y_test = train_test_split(X, y)"
   ]
  },
  {
   "cell_type": "markdown",
   "metadata": {},
   "source": [
    "Con esto tenemos todo listo para construir el modelo."
   ]
  },
  {
   "cell_type": "markdown",
   "metadata": {},
   "source": [
    "## Modelo de uni-gramas"
   ]
  },
  {
   "cell_type": "markdown",
   "metadata": {},
   "source": [
    "Para empezar vamos a construir un modelo que simplemente tenga en cuenta el tipo de caracteres que aparecen en el texto para tratar de determinar el idioma. Esto significa que vamos a montar un proceso que convierta un texto dado en un vector de frecuencia de caracteres, para luego poder aplicar un sistema de aprendizaje automático sobre los vectores que obtengamos. Esta transformación puede hacerse muy fácilmente empleando la clase CountVectorizer de paquete scikit-learn:"
   ]
  },
  {
   "cell_type": "code",
   "execution_count": null,
   "metadata": {
    "collapsed": true
   },
   "outputs": [],
   "source": [
    "from sklearn.feature_extraction.text import CountVectorizer"
   ]
  },
  {
   "cell_type": "markdown",
   "metadata": {
    "collapsed": true
   },
   "source": [
    "Esta clase nos da funcionalidad para tomar un listado de textos y convertirlos en una representación numérica. Podemos configurar cómo va a realizarse esta conversión mediante diferentes parámetros a la hora de instancia un <a href=\"http://scikit-learn.org/stable/modules/generated/sklearn.feature_extraction.text.CountVectorizer.html\">CountVectorizer</a>:\n",
    "\n",
    "* **analyzer**: tipo de elementos del texto que vamos a contar para generar la representación vectorial\n",
    "    * *word*: conteo de palabras o n-gramas de palabras\n",
    "    * *char*: conteo de caracteres o n-gramas de caracteres\n",
    "    * *char_wb*: conteo de caracters o n-gramas de caracteres dentro de cada palabra\n",
    "* **ngram_range**: tupla tipo (n, m) que indica que rango de n-gramas vamos a construir. Con (1, 1) tendremos unigramas, mientras que con (1, 3) contaremos desde unigramas hasta trigramas.\n",
    "* **min_df**: número (o fracción) mínimo de textos en los que tiene que aparecer un elemento para considerarlo en la cuenta. Con esto podemos obviar palabras o caracteres que aparezcan muy poco y por tanto no sean relevantes.\n",
    "* **max_df**: número (o fracción) máximo de textos en los que tiene que aparecer un elemento para considerarlo en la cuenta. Con esto podemos obviar palabras o caracteres que aparezcan en casi todos los textos, y por tanto no sean discriminativos.\n",
    "* **binary**: hacer cuentas binarias (True) al estilo bag-of-words o hacer cuentas reales de elementos (False)\n",
    "* **lowercase**: convertir automáticamente todos los textos a minúsculas (True) o no (False)\n",
    "\n",
    "Para el caso que nos ocupa queremos crear un CountVectorizer que analize unigramas de caracteres, lo cual se conseguiría como"
   ]
  },
  {
   "cell_type": "code",
   "execution_count": null,
   "metadata": {
    "collapsed": true
   },
   "outputs": [],
   "source": [
    "vectorizadorejemplo = CountVectorizer(analyzer = \"char\", ngram_range = (1,1))"
   ]
  },
  {
   "cell_type": "markdown",
   "metadata": {},
   "source": [
    "Una vez construído podemos convertir una lista de textos a vectores usando el método **fit_transform**:"
   ]
  },
  {
   "cell_type": "code",
   "execution_count": null,
   "metadata": {
    "collapsed": true
   },
   "outputs": [],
   "source": [
    "ejemplos = [\n",
    "    \"The cat sat on the mat\",\n",
    "    \"The dog barked at the cat\",\n",
    "    \"Dog days\"\n",
    "]\n",
    "transformados = vectorizadorejemplo.fit_transform(ejemplos)\n",
    "transformados"
   ]
  },
  {
   "cell_type": "markdown",
   "metadata": {},
   "source": [
    "Por eficiencia los vectores calculados se almacenan como una matriz comprimida. Podemos ver los contenidos de esta matriz de la siguiente forma:"
   ]
  },
  {
   "cell_type": "code",
   "execution_count": null,
   "metadata": {
    "collapsed": true
   },
   "outputs": [],
   "source": [
    "transformados.toarray()"
   ]
  },
  {
   "cell_type": "markdown",
   "metadata": {},
   "source": [
    "¿Qué significa esto? Podemos preguntar a nuestro objeto vectorizador qué vocabulario ha construido con los textos que hemos proporcionado:"
   ]
  },
  {
   "cell_type": "code",
   "execution_count": null,
   "metadata": {
    "collapsed": true
   },
   "outputs": [],
   "source": [
    "vectorizadorejemplo.vocabulary_"
   ]
  },
  {
   "cell_type": "markdown",
   "metadata": {},
   "source": [
    "Esto nos indica a qué entrada de los vectores generados se corresponde cada palabra del vocabulario. Efectivamente, el primer vector de *transformados*, que corresponde a la frase \"The cat sat on the mat\" nos está indicando que el carácter \"a\" aparece tres veces  (índice 1 del vector) o que el carácter \"c\" aparece una vez (índice 3 del vector). \n",
    "\n",
    "Podemos obtener una representación más gráfica de la vectorización con la siguiente función auxiliar."
   ]
  },
  {
   "cell_type": "code",
   "execution_count": null,
   "metadata": {
    "collapsed": true
   },
   "outputs": [],
   "source": [
    "%matplotlib inline\n",
    "import matplotlib.pyplot as plt\n",
    "import numpy as np\n",
    "import itertools\n",
    "\n",
    "def plot_vectorizer_matrix(vectorizer, texts, title='Vectorizer matrix', cmap=plt.cm.Blues):\n",
    "    \"\"\"\n",
    "    Generate a visual representation of the matrix produced by a vectorizer over some texts\n",
    "    \"\"\"\n",
    "    np.set_printoptions(precision=2)\n",
    "    matrix = vectorizer.transform(texts).toarray()\n",
    "\n",
    "    plt.imshow(matrix, interpolation='nearest', cmap=cmap)\n",
    "    plt.title(title)\n",
    "    keys = [k for k, v in sorted(vectorizer.vocabulary_.items(), key=lambda x: x[1])]\n",
    "    plt.xticks(np.arange(len(vectorizer.vocabulary_)), keys)\n",
    "    plt.yticks(range(len(texts)), texts)\n",
    "\n",
    "    thresh = matrix.max() / 2.\n",
    "    for i, j in itertools.product(range(matrix.shape[0]), range(matrix.shape[1])):\n",
    "        if matrix[i, j] > 0:\n",
    "            plt.text(j, i, format(matrix[i, j], 'd'),\n",
    "                     horizontalalignment=\"center\",\n",
    "                     color=\"white\" if matrix[i, j] > thresh else \"black\")\n",
    "\n",
    "plot_vectorizer_matrix(vectorizadorejemplo, ejemplos)"
   ]
  },
  {
   "cell_type": "markdown",
   "metadata": {},
   "source": [
    "Aquí vemos claramente el resultado de la vectorización: el texto *Dog days* se ha transformado a un vector que nos indica que en el texto original había presentes los siguientes caracteres: 1 espacio, 1 `a`, 2 `d`, 1 `o`, 1 `s`, y 1 `y`."
   ]
  },
  {
   "cell_type": "markdown",
   "metadata": {},
   "source": [
    "Para combinar fácilmente este proceso de vectorización con un modelo de clasificación vamos a usar un **Pipeline** de scikit-learn. En ejercicios posteriores veremos más detalles sobre esto; de momento nos basta con saber que un Pipeline define una serie de etapas del modelo."
   ]
  },
  {
   "cell_type": "code",
   "execution_count": null,
   "metadata": {
    "collapsed": true
   },
   "outputs": [],
   "source": [
    "from sklearn.pipeline import Pipeline\n",
    "from sklearn.linear_model import SGDClassifier\n",
    "\n",
    "model = Pipeline([\n",
    "    ('vectorizer', CountVectorizer(analyzer = \"char\", ngram_range = (1,1))),\n",
    "    ('classifier', SGDClassifier(max_iter=1))\n",
    "    ]\n",
    ")"
   ]
  },
  {
   "cell_type": "markdown",
   "metadata": {},
   "source": [
    "Aquí hemos definido un Pipeline que primero aplica la vectorización por frecuencias de caracteres que hemos discutido arriba, y después la pasa a un modelo de clasificación tipo SGDClassifier. Este es un modelo tipo SVM lineal cuya implementación está especializada en trabajar con grandes volúmenes de datos. Dado que contamos con casi 5 millones de frases para entrenar, es suficiente con hacer una sola iteración sobre los datos de entrenamiento.\n",
    "\n",
    "Una vez definido, entrenamos el modelo con los datos de entrenamiento que habíamos preparado. El entrenamiento debería tardar en torno a 2 minutos."
   ]
  },
  {
   "cell_type": "code",
   "execution_count": null,
   "metadata": {
    "collapsed": true
   },
   "outputs": [],
   "source": [
    "%%time\n",
    "model.fit(X_train, y_train)"
   ]
  },
  {
   "cell_type": "markdown",
   "metadata": {},
   "source": [
    "Con el modelo ya entrenado vamos a valorar cómo de bien lo hemos hecho en el conjunto de datos de test. Para ello podemos usar el método score del modelo."
   ]
  },
  {
   "cell_type": "code",
   "execution_count": null,
   "metadata": {
    "collapsed": true
   },
   "outputs": [],
   "source": [
    "model.score(X_test, y_test)"
   ]
  },
  {
   "cell_type": "markdown",
   "metadata": {},
   "source": [
    "Deberías haber obtenido en torno a un 86%-87% de accuracy. Para hacer un análisis más en profundidad de la calidad de este modelo, vamos a pintar la matriz de confusión por idiomas. Para ello nos apoyaremos en la siguiente función:"
   ]
  },
  {
   "cell_type": "code",
   "execution_count": null,
   "metadata": {
    "collapsed": true
   },
   "outputs": [],
   "source": [
    "def plot_confusion_matrix(cm, classes,\n",
    "                          normalize=False,\n",
    "                          title='Confusion matrix',\n",
    "                          cmap=plt.cm.Blues):\n",
    "    \"\"\"\n",
    "    This function prints and plots the confusion matrix.\n",
    "    Normalization can be applied by setting `normalize=True`.\n",
    "    \"\"\"\n",
    "    np.set_printoptions(precision=2)\n",
    "    if normalize:\n",
    "        cm = cm.astype('float') / cm.sum(axis=1)[:, np.newaxis]\n",
    "\n",
    "    plt.imshow(cm, interpolation='nearest', cmap=cmap)\n",
    "    plt.title(title)\n",
    "    plt.colorbar()\n",
    "    tick_marks = np.arange(len(classes))\n",
    "    plt.xticks(tick_marks, classes, rotation=45)\n",
    "    plt.yticks(tick_marks, classes)\n",
    "\n",
    "    fmt = '.2f' if normalize else 'd'\n",
    "    thresh = cm.max() / 2.\n",
    "    for i, j in itertools.product(range(cm.shape[0]), range(cm.shape[1])):\n",
    "        plt.text(j, i, format(cm[i, j], fmt),\n",
    "                 horizontalalignment=\"center\",\n",
    "                 color=\"white\" if cm[i, j] > thresh else \"black\")\n",
    "\n",
    "    plt.ylabel('True label')\n",
    "    plt.xlabel('Predicted label')\n",
    "    plt.tight_layout()"
   ]
  },
  {
   "cell_type": "markdown",
   "metadata": {},
   "source": [
    "Ahora generamos las predicciones para el conjunto de test, usamos la función de scikit-learn que calcula la matriz de confusión, y la pintamos con la función definida arriba."
   ]
  },
  {
   "cell_type": "code",
   "execution_count": null,
   "metadata": {
    "collapsed": true
   },
   "outputs": [],
   "source": [
    "from sklearn.metrics import confusion_matrix\n",
    "\n",
    "y_pred = model.predict(X_test)\n",
    "cnf_matrix = confusion_matrix(y_test, y_pred)\n",
    "plt.figure(figsize=(12,12))\n",
    "plot_confusion_matrix(cnf_matrix, classes=labelencoder.classes_, normalize=True, title='Normalized confusion matrix')\n",
    "plt.show()"
   ]
  },
  {
   "cell_type": "markdown",
   "metadata": {},
   "source": [
    "La matriz de confusión revela que algunos idiomas son muy fácilmente identificables: chino mandarín, hebreo, japonés y ruso. Esto tiene sentido porque emplean un juego de caracteres muy diferente al de otros idiomas. Sin embargo el modelo confunde mucho entre sí los idiomas que son similares: berebe con cabilio, o español con italiano y portugués.\n",
    "\n",
    "Podemos hacerlo mejor. Pero para ello tendremos que recurrir a n-gramas de caracteres."
   ]
  },
  {
   "cell_type": "markdown",
   "metadata": {},
   "source": [
    "## Modelo de bi-gramas"
   ]
  },
  {
   "cell_type": "markdown",
   "metadata": {},
   "source": [
    "<table>\n",
    " <tr>\n",
    "  <tr><td width=\"80\"><img src=\"img/question.png\" style=\"width:auto;height:auto\"></td><td style=\"text-align:left\">\n",
    "      Repite los pasos anteriores para construir un modelo de bi-gramas de caracteres. ¿Obtienes mejor precisión global con este modelo? ¿Qué confusiones han desaparecido en la matriz de confusión? ¿Cuáles permanecen?\n",
    "  </td>\n",
    " </tr> \n",
    "</table>"
   ]
  },
  {
   "cell_type": "markdown",
   "metadata": {},
   "source": [
    "<table>\n",
    " <tr>\n",
    "  <tr><td width=\"80\"><img src=\"img/exclamation.png\" style=\"width:auto;height:auto\"></td><td style=\"text-align:left\">\n",
    "      Revisar la explicación anterior de los parámetros que acepta CountVectorizer. Solo es necesario cambiar este elemento en la definición del Pipeline para obtener el modelo de bigramas.\n",
    "  </td>\n",
    " </tr> \n",
    "</table>"
   ]
  },
  {
   "cell_type": "code",
   "execution_count": null,
   "metadata": {
    "collapsed": true
   },
   "outputs": [],
   "source": [
    "####### INSERT YOUR CODE HERE"
   ]
  },
  {
   "cell_type": "markdown",
   "metadata": {},
   "source": [
    "## Más allá de bi-gramas"
   ]
  },
  {
   "cell_type": "markdown",
   "metadata": {},
   "source": [
    "Es posible obtener resultados aún mejores si se emplean tri-gramas o tetra-gramas. Pero dado el tamaño del dataset esto puede requerir de un gasto excesivo de memoria. Para evitar esto, será necesario recurrir a otras estrategias de vectorización, como [HashingVectorizer](http://scikit-learn.org/stable/modules/generated/sklearn.feature_extraction.text.HashingVectorizer.html)."
   ]
  },
  {
   "cell_type": "markdown",
   "metadata": {},
   "source": [
    "<table>\n",
    " <tr>\n",
    "  <tr><td width=\"80\"><img src=\"img/pro.png\" style=\"width:auto;height:auto\"></td><td style=\"text-align:left\">\n",
    "      Intenta mejorar los resultados del modelo bi-gramas utilizando HashingVectorizer y un mayor orden de n-gramas.\n",
    "  </td>\n",
    " </tr> \n",
    "</table>"
   ]
  },
  {
   "cell_type": "code",
   "execution_count": null,
   "metadata": {
    "collapsed": true
   },
   "outputs": [],
   "source": [
    "####### INSERT YOUR CODE HERE"
   ]
  }
 ],
 "metadata": {
  "kernelspec": {
   "display_name": "Python 3.10.6 ('textmining-labs')",
   "language": "python",
   "name": "python3"
  },
  "language_info": {
   "codemirror_mode": {
    "name": "ipython",
    "version": 3
   },
   "file_extension": ".py",
   "mimetype": "text/x-python",
   "name": "python",
   "nbconvert_exporter": "python",
   "pygments_lexer": "ipython3",
   "version": "3.10.6"
  },
  "vscode": {
   "interpreter": {
    "hash": "0ca4621f266fe8cf562db3d757313028ad2dc138fd5ac6bca67ee58ebc4eca55"
   }
  }
 },
 "nbformat": 4,
 "nbformat_minor": 1
}
